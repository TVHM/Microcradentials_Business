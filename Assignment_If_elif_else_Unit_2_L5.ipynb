{
  "nbformat": 4,
  "nbformat_minor": 0,
  "metadata": {
    "colab": {
      "name": "Assignment_If_elif_else_Unit 2_L5.ipynb",
      "provenance": [],
      "include_colab_link": true
    },
    "kernelspec": {
      "name": "python3",
      "display_name": "Python 3"
    },
    "language_info": {
      "name": "python"
    }
  },
  "cells": [
    {
      "cell_type": "markdown",
      "metadata": {
        "id": "view-in-github",
        "colab_type": "text"
      },
      "source": [
        "<a href=\"https://colab.research.google.com/github/TVHM/summer_microcredentials_BUS/blob/main/Assignment_If_elif_else_Unit_2_L5.ipynb\" target=\"_parent\"><img src=\"https://colab.research.google.com/assets/colab-badge.svg\" alt=\"Open In Colab\"/></a>"
      ]
    },
    {
      "cell_type": "markdown",
      "source": [
        "# Lesson 5 If elfi else Statements \n",
        "Make a list of 5 or more usernames, including an admin account.  Imagine you are writing code that will welcome people to your application on login. Loop through the list and print your greeting.\n",
        "If the admin account logs in, give them a special greeting.  They’re the admin, after all!\n",
        "Other users can get the generic greeting\n",
        "  "
      ],
      "metadata": {
        "id": "VVeXBVvlbqRz"
      }
    },
    {
      "cell_type": "code",
      "execution_count": 55,
      "metadata": {
        "id": "u3Jx6a_XbSRl",
        "colab": {
          "base_uri": "https://localhost:8080/"
        },
        "outputId": "f28a12c6-4179-4971-ebcd-2f0d6bf3d825"
      },
      "outputs": [
        {
          "output_type": "stream",
          "name": "stdout",
          "text": [
            "Welcome Home ADMIN!!!\n"
          ]
        }
      ],
      "source": [
        "username ='admin','brownr','smithr','jonesr','milest'\n",
        " \n",
        "\n",
        "a = \"Welcome Home \" + list[0].upper() + \"!!!\"\n",
        "b = \"Hello World!\"\n",
        "\n",
        "if(username != 'admin'):\n",
        "  print(a)\n",
        "elif(username != 'brownr','smithr','jonesr','milest'):\n",
        "  print(b)"
      ]
    },
    {
      "cell_type": "markdown",
      "source": [
        "Store numbers 1-10 in a list\n",
        "Loop through the list\n",
        "Use an if-elif-else chain inside your loop to print the ordinal ending for each number – for example – 1st, 2nd, 3rd … etc.\n"
      ],
      "metadata": {
        "id": "P2jsaZXZAcqh"
      }
    },
    {
      "cell_type": "code",
      "source": [
        ""
      ],
      "metadata": {
        "id": "oCImiCz747Wn"
      },
      "execution_count": 41,
      "outputs": []
    }
  ]
}