{
  "nbformat": 4,
  "nbformat_minor": 0,
  "metadata": {
    "colab": {
      "name": "HW_Unit2_L3 .ipynb",
      "provenance": [],
      "include_colab_link": true
    },
    "kernelspec": {
      "name": "python3",
      "display_name": "Python 3"
    },
    "language_info": {
      "name": "python"
    }
  },
  "cells": [
    {
      "cell_type": "markdown",
      "metadata": {
        "id": "view-in-github",
        "colab_type": "text"
      },
      "source": [
        "<a href=\"https://colab.research.google.com/github/TVHM/Microcradentials_Business/blob/main/HW_Unit2_L3_.ipynb\" target=\"_parent\"><img src=\"https://colab.research.google.com/assets/colab-badge.svg\" alt=\"Open In Colab\"/></a>"
      ]
    },
    {
      "cell_type": "markdown",
      "source": [
        "#Create a list of 5 of your favorite tv shows.  Print the origianl list. Use the sorted function to print the list in alphabethical order.  How is sorted different from sort?  Create a message indicating how many favorite TV shows you have - use the len() function. "
      ],
      "metadata": {
        "id": "RNT1aMVrGzfQ"
      }
    },
    {
      "cell_type": "code",
      "execution_count": null,
      "metadata": {
        "id": "2pJ8eB6uFhzT",
        "colab": {
          "base_uri": "https://localhost:8080/"
        },
        "outputId": "d252c0d5-f085-422c-c733-6eb2b67571ce"
      },
      "outputs": [
        {
          "output_type": "stream",
          "name": "stdout",
          "text": [
            "['Highfire', 'Battlestar Galatica', 'Bloomnberg', 'RT News', 'LA Ink']\n"
          ]
        }
      ],
      "source": [
        "fav_tv_episodes = ['Highfire','Battlestar Galatica', 'Bloomnberg', 'RT News','LA Ink']\n",
        "print(fav_tv_episodes)"
      ]
    },
    {
      "cell_type": "code",
      "source": [
        ""
      ],
      "metadata": {
        "id": "QRijt-KqGFOf"
      },
      "execution_count": null,
      "outputs": []
    }
  ]
}