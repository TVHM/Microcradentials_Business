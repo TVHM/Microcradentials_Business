{
  "nbformat": 4,
  "nbformat_minor": 0,
  "metadata": {
    "colab": {
      "name": "Untitled1 boston _ housing.ipynb",
      "provenance": [],
      "authorship_tag": "ABX9TyOIB+CS71Cu9YKvsJmsUQUL",
      "include_colab_link": true
    },
    "kernelspec": {
      "name": "python3",
      "display_name": "Python 3"
    },
    "language_info": {
      "name": "python"
    }
  },
  "cells": [
    {
      "cell_type": "markdown",
      "metadata": {
        "id": "view-in-github",
        "colab_type": "text"
      },
      "source": [
        "<a href=\"https://colab.research.google.com/github/TVHM/summer_microcredentials_BUS/blob/main/Untitled1_boston___housing.ipynb\" target=\"_parent\"><img src=\"https://colab.research.google.com/assets/colab-badge.svg\" alt=\"Open In Colab\"/></a>"
      ]
    },
    {
      "cell_type": "code",
      "source": [
        "#import dependencies\n",
        "import pandas as pd\n",
        "import numpy as np\n",
        "from sklearn import linear_model \n",
        "from sklearn.model_selection import train_test_split\n"
      ],
      "metadata": {
        "id": "nncyVnDsqY1D"
      },
      "execution_count": 24,
      "outputs": []
    },
    {
      "cell_type": "code",
      "source": [
        "#Load the Boston Housing dataset from sklearn.datasets and print \n",
        "from sklearn.datasets import load_boston\n",
        "boston = load_boston()\n",
        "print(boston)"
      ],
      "metadata": {
        "id": "6pm6ltON1clt"
      },
      "execution_count": null,
      "outputs": []
    },
    {
      "cell_type": "code",
      "source": [
        "#transfrom the data set into a data frame\n",
        "#data = the data we want or the independent variable also known as x values\n",
        "#feature_names = the column names of the data\n",
        "#target = the variable or the price of the houses or dependent varialbe also known as the y value\n",
        "df_x = pd.DataFrame(boston.data, columns=boston.feature_names)\n",
        "df_y = pd.DataFrame(boston.target)"
      ],
      "metadata": {
        "id": "dOQNKm-Q2Nri"
      },
      "execution_count": 30,
      "outputs": []
    },
    {
      "cell_type": "code",
      "source": [
        "#Get some statistics from the data set , count , mean\n",
        "df_x.describe()"
      ],
      "metadata": {
        "id": "xqug7IxF6qOP"
      },
      "execution_count": null,
      "outputs": []
    },
    {
      "cell_type": "code",
      "source": [
        "#initialize the linear regression model\n",
        "reg = linear_model.LinearRegression()"
      ],
      "metadata": {
        "id": "__9_MJS19Ahf"
      },
      "execution_count": 38,
      "outputs": []
    },
    {
      "cell_type": "code",
      "source": [
        ""
      ],
      "metadata": {
        "id": "RJzFh24d9OiN"
      },
      "execution_count": null,
      "outputs": []
    }
  ]
}