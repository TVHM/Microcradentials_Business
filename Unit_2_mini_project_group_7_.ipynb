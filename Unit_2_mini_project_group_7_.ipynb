{
  "nbformat": 4,
  "nbformat_minor": 0,
  "metadata": {
    "colab": {
      "name": "Unit 2_mini_project_group_7 .ipynb",
      "provenance": [],
      "authorship_tag": "ABX9TyNfT5n5/ERn7fb2Ad7oCcJN",
      "include_colab_link": true
    },
    "kernelspec": {
      "name": "python3",
      "display_name": "Python 3"
    },
    "language_info": {
      "name": "python"
    }
  },
  "cells": [
    {
      "cell_type": "markdown",
      "metadata": {
        "id": "view-in-github",
        "colab_type": "text"
      },
      "source": [
        "<a href=\"https://colab.research.google.com/github/TVHM/summer_microcredentials_BUS/blob/main/Unit_2_mini_project_group_7_.ipynb\" target=\"_parent\"><img src=\"https://colab.research.google.com/assets/colab-badge.svg\" alt=\"Open In Colab\"/></a>"
      ]
    },
    {
      "cell_type": "markdown",
      "source": [
        "\n",
        "Team 7"
      ],
      "metadata": {
        "id": "OPEm8dYJecu-"
      }
    },
    {
      "cell_type": "code",
      "source": [
        "\n",
        "# Original Project\n",
        "\n",
        "active = True\n",
        "while active:\n",
        "  try:\n",
        "     userInput = int(input('Please Enter A Integer: '))       \n",
        "  except ValueError:\n",
        "     print(\"Not an integer!\")\n",
        "     continue\n",
        "  else:\n",
        "     if userInput % 2 == 0:\n",
        "       print('Even')\n",
        "       active = False\n",
        "     else:\n",
        "       print('Odd')\n",
        "       active = False\n",
        "       "
      ],
      "metadata": {
        "id": "-_VvsE_M757e",
        "colab": {
          "base_uri": "https://localhost:8080/"
        },
        "outputId": "cdfa1d14-913c-4f8e-fe21-eb93eb9f5d88"
      },
      "execution_count": 3,
      "outputs": [
        {
          "output_type": "stream",
          "name": "stdout",
          "text": [
            "Please Enter A Integer: 2\n",
            "Even\n"
          ]
        }
      ]
    },
    {
      "cell_type": "code",
      "source": [
        "# Bonus 1\n",
        "\n",
        "active = True\n",
        "while active:\n",
        "  try:\n",
        "     userInput = int(input('Please Enter A Integer: '))       \n",
        "  except ValueError:\n",
        "     print(\"Not an integer!\")\n",
        "     continue\n",
        "  else:\n",
        "     if userInput % 4 == 0:\n",
        "       print('This number is not just even but also a multiple of 4')\n",
        "       active = False\n",
        "     elif userInput % 2 == 0:\n",
        "       print('Even')\n",
        "       active = False\n",
        "     else:\n",
        "       print('Odd')\n",
        "       active = False"
      ],
      "metadata": {
        "colab": {
          "base_uri": "https://localhost:8080/"
        },
        "id": "GZwAPzhQ3vdX",
        "outputId": "04cec98a-28af-4299-a413-f2124c67a72f"
      },
      "execution_count": 2,
      "outputs": [
        {
          "output_type": "stream",
          "name": "stdout",
          "text": [
            "Please Enter A Integer: 5\n",
            "Odd\n"
          ]
        }
      ]
    },
    {
      "cell_type": "code",
      "source": [
        ""
      ],
      "metadata": {
        "id": "tIPo24kl4dk6"
      },
      "execution_count": null,
      "outputs": []
    }
  ]
}