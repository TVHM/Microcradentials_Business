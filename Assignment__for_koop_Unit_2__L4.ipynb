{
  "nbformat": 4,
  "nbformat_minor": 0,
  "metadata": {
    "colab": {
      "name": "Assignment _for_koop_Unit  2 _L4",
      "provenance": [],
      "authorship_tag": "ABX9TyPgQA8/BcLTRIPjuFq5N0uL",
      "include_colab_link": true
    },
    "kernelspec": {
      "name": "python3",
      "display_name": "Python 3"
    },
    "language_info": {
      "name": "python"
    }
  },
  "cells": [
    {
      "cell_type": "markdown",
      "metadata": {
        "id": "view-in-github",
        "colab_type": "text"
      },
      "source": [
        "<a href=\"https://colab.research.google.com/github/TVHM/summer_microcredentials_BUS/blob/main/Assignment__for_koop_Unit_2__L4.ipynb\" target=\"_parent\"><img src=\"https://colab.research.google.com/assets/colab-badge.svg\" alt=\"Open In Colab\"/></a>"
      ]
    },
    {
      "cell_type": "markdown",
      "source": [
        "#Create a list that holds 5 data variables.  Print out those variables by using a for loop.  Modify your for loop to print even numbers 1-20, then sort your list in alphaeticalorder.  Print out the first three elements of your list, then create a loop to print the last 2 elements.\n",
        "Slide and Lecture In Class  https://colab.research.google.com/drive/142rhfvjmUwoBCmaUfw5Zr-LcJRuuI6Ta#scrollTo=vz3yjkEffDzO"
      ],
      "metadata": {
        "id": "GPxO8na3Jq4f"
      }
    },
    {
      "cell_type": "code",
      "execution_count": 4,
      "metadata": {
        "colab": {
          "base_uri": "https://localhost:8080/"
        },
        "id": "xtE1VYyjJpWl",
        "outputId": "4975e17b-028e-400c-9aeb-205739fe8004"
      },
      "outputs": [
        {
          "output_type": "stream",
          "name": "stdout",
          "text": [
            "age\n",
            "income\n",
            "education\n",
            "gender\n",
            "job_type\n"
          ]
        }
      ],
      "source": [
        "buyer_persona = ['age','income','education','gender','job_type']\n",
        "for show in buyer_persona:\n",
        "  print(show)"
      ]
    },
    {
      "cell_type": "code",
      "source": [
        ""
      ],
      "metadata": {
        "id": "3rxUKU4ANv23"
      },
      "execution_count": null,
      "outputs": []
    }
  ]
}