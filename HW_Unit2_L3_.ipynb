{
  "nbformat": 4,
  "nbformat_minor": 0,
  "metadata": {
    "colab": {
      "name": "HW_Unit2_L3 .ipynb",
      "provenance": [],
      "include_colab_link": true
    },
    "kernelspec": {
      "name": "python3",
      "display_name": "Python 3"
    },
    "language_info": {
      "name": "python"
    }
  },
  "cells": [
    {
      "cell_type": "markdown",
      "metadata": {
        "id": "view-in-github",
        "colab_type": "text"
      },
      "source": [
        "<a href=\"https://colab.research.google.com/github/TVHM/summer_microcredentials_BUS/blob/main/HW_Unit2_L3_.ipynb\" target=\"_parent\"><img src=\"https://colab.research.google.com/assets/colab-badge.svg\" alt=\"Open In Colab\"/></a>"
      ]
    },
    {
      "cell_type": "markdown",
      "source": [
        "#Working with lists\n",
        "Create a list of 5 of your favorite tv shows.  Print the original list. Use the sorted function to print the list in alphabethical order.  How is sorted different from sort?  \n",
        "\n",
        "Use sorted to print your list in reverse alphabetical order.\n",
        "\n",
        "Create a message indicating how many favorite TV shows you have - use the len() function. "
      ],
      "metadata": {
        "id": "RNT1aMVrGzfQ"
      }
    },
    {
      "cell_type": "code",
      "execution_count": null,
      "metadata": {
        "id": "2pJ8eB6uFhzT",
        "colab": {
          "base_uri": "https://localhost:8080/"
        },
        "outputId": "d252c0d5-f085-422c-c733-6eb2b67571ce"
      },
      "outputs": [
        {
          "output_type": "stream",
          "name": "stdout",
          "text": [
            "['Highfire', 'Battlestar Galatica', 'Bloomnberg', 'RT News', 'LA Ink']\n"
          ]
        }
      ],
      "source": [
        "fav_tv_episodes = ['Highfire','Battlestar Galatica', 'Bloomnberg', 'RT News','LA Ink']\n",
        "print(fav_tv_episodes)"
      ]
    },
    {
      "cell_type": "code",
      "source": [
        "fav_tv_episodes = ['Highfire','Battlestar Galatica', 'Bloomnberg', 'RT News','LA Ink']\n",
        "print(sorted(fav_tv_episodes))"
      ],
      "metadata": {
        "id": "QRijt-KqGFOf",
        "colab": {
          "base_uri": "https://localhost:8080/"
        },
        "outputId": "73190245-bff7-4528-a860-d7ab6107000d"
      },
      "execution_count": null,
      "outputs": [
        {
          "output_type": "stream",
          "name": "stdout",
          "text": [
            "['Battlestar Galatica', 'Bloomnberg', 'Highfire', 'LA Ink', 'RT News']\n"
          ]
        }
      ]
    },
    {
      "cell_type": "code",
      "source": [
        "fav_tv_episodes.sort(reverse=True)\n",
        "print(fav_tv_episodes)"
      ],
      "metadata": {
        "colab": {
          "base_uri": "https://localhost:8080/"
        },
        "id": "InApmomuTlw0",
        "outputId": "296918ec-977d-4cbb-9d07-e64c51ffdc51"
      },
      "execution_count": null,
      "outputs": [
        {
          "output_type": "stream",
          "name": "stdout",
          "text": [
            "['RT News', 'LA Ink', 'Highfire', 'Bloomnberg', 'Battlestar Galatica']\n"
          ]
        }
      ]
    },
    {
      "cell_type": "markdown",
      "source": [
        ""
      ],
      "metadata": {
        "id": "EC8o1edjT2uZ"
      }
    },
    {
      "cell_type": "code",
      "source": [
        "fav_tv_episodes = ['Highfire','Battlestar Galatica', 'Bloomnberg', 'RT News','LA Ink']\n",
        "print(len(fav_tv_episodes))\n",
        "message = \"My total number of favorite episodes is !\" \n",
        "print(message + str(len(fav_tv_episodes)))"
      ],
      "metadata": {
        "colab": {
          "base_uri": "https://localhost:8080/"
        },
        "id": "3cyYZNPOkHBw",
        "outputId": "484fd32c-2f78-4841-a30f-4841ec745653"
      },
      "execution_count": null,
      "outputs": [
        {
          "output_type": "stream",
          "name": "stdout",
          "text": [
            "5\n",
            "My total number of favorite episodes is !5\n"
          ]
        }
      ]
    },
    {
      "cell_type": "code",
      "source": [
        ""
      ],
      "metadata": {
        "id": "113wtMPKkcM9"
      },
      "execution_count": null,
      "outputs": []
    }
  ]
}