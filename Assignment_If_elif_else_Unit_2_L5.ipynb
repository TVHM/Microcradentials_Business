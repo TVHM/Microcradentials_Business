{
  "nbformat": 4,
  "nbformat_minor": 0,
  "metadata": {
    "colab": {
      "name": "Assignment_If_elif_else_Unit 2_L5.ipynb",
      "provenance": [],
      "authorship_tag": "ABX9TyPLe40a6s7ULYGetoJY0Xdy",
      "include_colab_link": true
    },
    "kernelspec": {
      "name": "python3",
      "display_name": "Python 3"
    },
    "language_info": {
      "name": "python"
    }
  },
  "cells": [
    {
      "cell_type": "markdown",
      "metadata": {
        "id": "view-in-github",
        "colab_type": "text"
      },
      "source": [
        "<a href=\"https://colab.research.google.com/github/TVHM/summer_microcredentials_BUS/blob/main/Assignment_If_elif_else_Unit_2_L5.ipynb\" target=\"_parent\"><img src=\"https://colab.research.google.com/assets/colab-badge.svg\" alt=\"Open In Colab\"/></a>"
      ]
    },
    {
      "cell_type": "markdown",
      "source": [
        "# Lesson 5 If elfi else Statements \n",
        "Make a list of 5 or more usernames , including an admin account.  "
      ],
      "metadata": {
        "id": "VVeXBVvlbqRz"
      }
    },
    {
      "cell_type": "code",
      "execution_count": null,
      "metadata": {
        "id": "u3Jx6a_XbSRl"
      },
      "outputs": [],
      "source": [
        "usernames = ['admin', '','','','']\n",
        "\n",
        "if username = admin:\n",
        "   greeting = generic\n",
        "elif \n",
        "\n",
        "else:\n",
        "\n",
        "print()  \n",
        "\n"
      ]
    }
  ]
}