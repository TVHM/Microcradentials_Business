{
  "nbformat": 4,
  "nbformat_minor": 0,
  "metadata": {
    "colab": {
      "name": "Unit 2_mini_project_group_7 .ipynb",
      "provenance": [],
      "authorship_tag": "ABX9TyMcr8zu4nMUPORfbtkXRuCU",
      "include_colab_link": true
    },
    "kernelspec": {
      "name": "python3",
      "display_name": "Python 3"
    },
    "language_info": {
      "name": "python"
    }
  },
  "cells": [
    {
      "cell_type": "markdown",
      "metadata": {
        "id": "view-in-github",
        "colab_type": "text"
      },
      "source": [
        "<a href=\"https://colab.research.google.com/github/TVHM/summer_microcredentials_BUS/blob/main/Unit_2_mini_project_group_7_.ipynb\" target=\"_parent\"><img src=\"https://colab.research.google.com/assets/colab-badge.svg\" alt=\"Open In Colab\"/></a>"
      ]
    },
    {
      "cell_type": "markdown",
      "source": [
        "\n",
        "Team 7"
      ],
      "metadata": {
        "id": "OPEm8dYJecu-"
      }
    },
    {
      "cell_type": "code",
      "source": [
        "\n",
        "# Original Project\n",
        "\n",
        "active = True\n",
        "while active:\n",
        "  try:\n",
        "     userInput = int(input('Please Enter A Integer: '))       \n",
        "  except ValueError:\n",
        "     print(\"Not an integer!\")\n",
        "     continue\n",
        "  else:\n",
        "     if userInput % 2 == 0:\n",
        "       print('Even')\n",
        "       active = False\n",
        "     else:\n",
        "       print('Odd')\n",
        "       active = False\n",
        "       "
      ],
      "metadata": {
        "id": "-_VvsE_M757e",
        "colab": {
          "base_uri": "https://localhost:8080/"
        },
        "outputId": "cdfa1d14-913c-4f8e-fe21-eb93eb9f5d88"
      },
      "execution_count": 3,
      "outputs": [
        {
          "output_type": "stream",
          "name": "stdout",
          "text": [
            "Please Enter A Integer: 2\n",
            "Even\n"
          ]
        }
      ]
    },
    {
      "cell_type": "code",
      "source": [
        "# Bonus 1\n",
        "\n",
        "active = True\n",
        "while active:\n",
        "  try:\n",
        "     userInput = int(input('Please Enter A Integer: '))       \n",
        "  except ValueError:\n",
        "     print(\"Not an integer!\")\n",
        "     continue\n",
        "  else:\n",
        "     if userInput % 4 == 0:\n",
        "       print('This number is not just even but also a multiple of 4')\n",
        "       active = False\n",
        "     elif userInput % 2 == 0:\n",
        "       print('Even')\n",
        "       active = False\n",
        "     else:\n",
        "       print('Odd')\n",
        "       active = False"
      ],
      "metadata": {
        "colab": {
          "base_uri": "https://localhost:8080/"
        },
        "id": "GZwAPzhQ3vdX",
        "outputId": "04cec98a-28af-4299-a413-f2124c67a72f"
      },
      "execution_count": 2,
      "outputs": [
        {
          "output_type": "stream",
          "name": "stdout",
          "text": [
            "Please Enter A Integer: 5\n",
            "Odd\n"
          ]
        }
      ]
    },
    {
      "cell_type": "code",
      "source": [
        "# Bonus 2(Using While and Input)\n",
        "\n",
        "active = True\n",
        "while active:\n",
        "  try:\n",
        "     num, check = map(int, input('Please Enter Two Integers: ').split())\n",
        "  except ValueError:\n",
        "     print(\"Please Enter Two Integers!\")\n",
        "     continue\n",
        "  else:\n",
        "     if num % check == 0:\n",
        "       print('Nice, ' + str(check) + ' is a factor of ' + str(num))\n",
        "       active = False\n",
        "     else:\n",
        "       print('Oops! It looks like ' + str(check) + ' is not a factor of ' + str(num))\n",
        "       active = False"
      ],
      "metadata": {
        "id": "DHNRz__f7642"
      },
      "execution_count": null,
      "outputs": []
    },
    {
      "cell_type": "code",
      "source": [
        "# Bonus 2(Using Function)\n",
        "def divid(num, check):\n",
        "    if num % check == 0:\n",
        "      print('Nice, ' + str(check) + ' is a factor of ' + str(num))\n",
        "    else:\n",
        "      print('Oops! It looks like ' + str(check) + ' is not a factor of ' + str(num))\n",
        "\n",
        "divid(3, 5)\n",
        "divid(8, 4)"
      ],
      "metadata": {
        "colab": {
          "base_uri": "https://localhost:8080/"
        },
        "id": "h4tU8JLR8Dwu",
        "outputId": "6bde723f-7d42-41d5-e438-4507c6ed9ea0"
      },
      "execution_count": 10,
      "outputs": [
        {
          "output_type": "stream",
          "name": "stdout",
          "text": [
            "Oops! It looks like 5 is not a factor of 3\n",
            "Nice, 4 is a factor of 8\n"
          ]
        }
      ]
    },
    {
      "cell_type": "code",
      "source": [
        "userInput = int(input('Please Enter A Integer: '))  \n",
        "    \n",
        "if userInput % 2 == 0:\n",
        "       print('Even')\n",
        "       active = False\n",
        "else:\n",
        "       print('Odd')\n",
        "       active = False"
      ],
      "metadata": {
        "colab": {
          "base_uri": "https://localhost:8080/"
        },
        "id": "tIPo24kl4dk6",
        "outputId": "c3afa695-bc03-4dcd-e42a-6feab2e6df27"
      },
      "execution_count": 9,
      "outputs": [
        {
          "output_type": "stream",
          "name": "stdout",
          "text": [
            "Please Enter A Integer: 1\n",
            "Odd\n"
          ]
        }
      ]
    },
    {
      "cell_type": "code",
      "source": [
        ""
      ],
      "metadata": {
        "id": "yCwL1LTr6VO0"
      },
      "execution_count": null,
      "outputs": []
    }
  ]
}