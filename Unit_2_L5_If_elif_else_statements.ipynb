{
  "nbformat": 4,
  "nbformat_minor": 0,
  "metadata": {
    "colab": {
      "name": "Unit 2_L5 If_elif_else_statements.ipynb",
      "provenance": [],
      "authorship_tag": "ABX9TyO5FGRN6l7Zk+CSecHx+dhK",
      "include_colab_link": true
    },
    "kernelspec": {
      "name": "python3",
      "display_name": "Python 3"
    },
    "language_info": {
      "name": "python"
    }
  },
  "cells": [
    {
      "cell_type": "markdown",
      "metadata": {
        "id": "view-in-github",
        "colab_type": "text"
      },
      "source": [
        "<a href=\"https://colab.research.google.com/github/TVHM/summer_microcredentials_BUS/blob/main/Unit_2_L5_If_elif_else_statements.ipynb\" target=\"_parent\"><img src=\"https://colab.research.google.com/assets/colab-badge.svg\" alt=\"Open In Colab\"/></a>"
      ]
    },
    {
      "cell_type": "markdown",
      "source": [
        "# Lesson 5 If elif else Statements \n",
        "\n",
        "1.   Make a list of 5 or more usernames, including an admin account. Imagine you are writing code\n",
        "that will welcome people to your application on login. Loop through the list and print your\n",
        "greeting.\n",
        "\n",
        "     a. If the admin account logs in, give them a special greeting. They’re the admin, after all!\n",
        "     b. Other users can get the generic greeting\n",
        "\n",
        "2. Store numbers 1-10 in a list\n",
        "a. Loop through the list\n",
        "b. Use an if-elif-else chain inside your loop to print the ordinal ending for each number –\n",
        "for example – 1 st , 2 nd , 3 rd … etc. "
      ],
      "metadata": {
        "id": "VVeXBVvlbqRz"
      }
    },
    {
      "cell_type": "code",
      "execution_count": 11,
      "metadata": {
        "id": "u3Jx6a_XbSRl",
        "colab": {
          "base_uri": "https://localhost:8080/"
        },
        "outputId": "21c2faeb-fd44-4cf3-94ae-6037954b5ecc"
      },
      "outputs": [
        {
          "output_type": "stream",
          "name": "stdout",
          "text": [
            "Welcome!\n",
            "1\n",
            "2\n",
            "3\n",
            "4\n",
            "5\n",
            "6\n",
            "7\n",
            "8\n",
            "9\n",
            "10\n"
          ]
        }
      ],
      "source": [
        "usernames = ['admin@mycompany.com', 'ben@mycompany.com','cathy@mycompany.com','dennis@mycompany.com','sasha@mycompany.com']\n",
        "\n",
        "x = 'usernames'\n",
        "\n",
        "if x == 'admin@mycompany.com':\n",
        "  print('Welcome friend!')\n",
        "else:\n",
        "  print('Welcome!')\n",
        "\n",
        "\n",
        "store = [1,2,3,4,5,6,7,8,9,10]\n",
        "for show in store:\n",
        "    print(show)\n",
        "    "
      ]
    },
    {
      "cell_type": "code",
      "source": [
        ""
      ],
      "metadata": {
        "id": "1cYrCQoE5Gd6"
      },
      "execution_count": null,
      "outputs": []
    }
  ]
}