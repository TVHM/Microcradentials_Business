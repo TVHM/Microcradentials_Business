{
  "nbformat": 4,
  "nbformat_minor": 0,
  "metadata": {
    "colab": {
      "name": "Assgn_2_L5 If_elif_else_statements.ipynb",
      "provenance": [],
      "authorship_tag": "ABX9TyMmB/tvoSq64sPDAtIXntR+",
      "include_colab_link": true
    },
    "kernelspec": {
      "name": "python3",
      "display_name": "Python 3"
    },
    "language_info": {
      "name": "python"
    }
  },
  "cells": [
    {
      "cell_type": "markdown",
      "metadata": {
        "id": "view-in-github",
        "colab_type": "text"
      },
      "source": [
        "<a href=\"https://colab.research.google.com/github/TVHM/summer_microcredentials_BUS/blob/main/Assgn_2_L5_If_elif_else_statements.ipynb\" target=\"_parent\"><img src=\"https://colab.research.google.com/assets/colab-badge.svg\" alt=\"Open In Colab\"/></a>"
      ]
    },
    {
      "cell_type": "markdown",
      "source": [
        "# Lesson 5 If elif else Statements \n",
        "\n",
        "1.   Make a list of 5 or more usernames, including an admin account. Imagine you are writing code\n",
        "that will welcome people to your application on login. Loop through the list and print your\n",
        "greeting.\n",
        "\n",
        "     a. If the admin account logs in, give them a special greeting. They’re the admin, after all!\n",
        "     b. Other users can get the generic greeting\n",
        "\n",
        "2. Store numbers 1-10 in a list\n",
        "a. Loop through the list\n",
        "b. Use an if-elif-else chain inside your loop to print the ordinal ending for each number –\n",
        "for example – 1 st , 2 nd , 3 rd … etc. "
      ],
      "metadata": {
        "id": "VVeXBVvlbqRz"
      }
    },
    {
      "cell_type": "code",
      "execution_count": null,
      "metadata": {
        "id": "u3Jx6a_XbSRl",
        "colab": {
          "base_uri": "https://localhost:8080/"
        },
        "outputId": "c33ff7f4-1eee-45f3-80fa-0f351e8a8009"
      },
      "outputs": [
        {
          "output_type": "stream",
          "name": "stdout",
          "text": [
            "Welcome!\n"
          ]
        }
      ],
      "source": [
        "usernames = ['admin@mycompany.com', 'ben@mycompany.com','cathy@mycompany.com','dennis@mycompany.com','sasha@mycompany.com']\n",
        "\n",
        "x = 'usernames'\n",
        "\n",
        "if x == 'admin@mycompany.com':\n",
        "  print('Welcome friend!')\n",
        "else:\n",
        "  print('Welcome!')\n",
        "\n",
        "\n",
        "\n",
        "\n",
        "\n",
        "\n",
        "    \n"
      ]
    },
    {
      "cell_type": "code",
      "source": [
        "store = [1,2,3,4,5,6,7,8,9,10]\n",
        "for show in store:\n",
        "  print(show)\n",
        "    \n",
        "num = int\n",
        "if num in store == int:\n",
        "  print(store + \"th\")"
      ],
      "metadata": {
        "id": "1cYrCQoE5Gd6",
        "colab": {
          "base_uri": "https://localhost:8080/"
        },
        "outputId": "dd8cb84b-6dc7-4329-e58f-c50ce4e1f305"
      },
      "execution_count": null,
      "outputs": [
        {
          "output_type": "stream",
          "name": "stdout",
          "text": [
            "1\n",
            "2\n",
            "3\n",
            "4\n",
            "5\n",
            "6\n",
            "7\n",
            "8\n",
            "9\n",
            "10\n"
          ]
        }
      ]
    },
    {
      "cell_type": "code",
      "source": [
        "num = {\n",
        "    \"1\":\"st\",\n",
        "    \"2\":\"nd\"\n",
        "}  \n",
        "for key,value in num.items():\n",
        "  print(key)\n",
        "  print(value)\n",
        "\n",
        "\n"
      ],
      "metadata": {
        "colab": {
          "base_uri": "https://localhost:8080/"
        },
        "id": "4MaWXEIY-8Mw",
        "outputId": "33bf28e2-5ba8-49f5-ea0c-6b791a24957e"
      },
      "execution_count": null,
      "outputs": [
        {
          "output_type": "stream",
          "name": "stdout",
          "text": [
            "1\n",
            "st\n",
            "2\n",
            "nd\n"
          ]
        }
      ]
    },
    {
      "cell_type": "code",
      "source": [
        "\n",
        "    \n",
        "   "
      ],
      "metadata": {
        "id": "b6sGMEn0DDP5",
        "colab": {
          "base_uri": "https://localhost:8080/",
          "height": 133
        },
        "outputId": "519348c2-692a-4958-b5f3-eca843500a2d"
      },
      "execution_count": null,
      "outputs": [
        {
          "output_type": "error",
          "ename": "SyntaxError",
          "evalue": "ignored",
          "traceback": [
            "\u001b[0;36m  File \u001b[0;32m\"<ipython-input-40-12f1b0e423ab>\"\u001b[0;36m, line \u001b[0;32m4\u001b[0m\n\u001b[0;31m    \u001b[0m\n\u001b[0m    ^\u001b[0m\n\u001b[0;31mSyntaxError\u001b[0m\u001b[0;31m:\u001b[0m unexpected EOF while parsing\n"
          ]
        }
      ]
    },
    {
      "cell_type": "code",
      "source": [
        "a = 4,5,6,7,8,9,10\n",
        "b = 1\n",
        "c = 2\n",
        "d = 3\n",
        "if a > b:\n",
        "  print(a,th)\n",
        "elif"
      ],
      "metadata": {
        "colab": {
          "base_uri": "https://localhost:8080/",
          "height": 223
        },
        "id": "t1QW8uJFNahs",
        "outputId": "60d572d6-9e4f-4667-d9bb-90b6cba31119"
      },
      "execution_count": null,
      "outputs": [
        {
          "output_type": "error",
          "ename": "TypeError",
          "evalue": "ignored",
          "traceback": [
            "\u001b[0;31m---------------------------------------------------------------------------\u001b[0m",
            "\u001b[0;31mTypeError\u001b[0m                                 Traceback (most recent call last)",
            "\u001b[0;32m<ipython-input-1-641cfcdb83eb>\u001b[0m in \u001b[0;36m<module>\u001b[0;34m()\u001b[0m\n\u001b[1;32m      3\u001b[0m \u001b[0mc\u001b[0m \u001b[0;34m=\u001b[0m \u001b[0;36m2\u001b[0m\u001b[0;34m\u001b[0m\u001b[0;34m\u001b[0m\u001b[0m\n\u001b[1;32m      4\u001b[0m \u001b[0md\u001b[0m \u001b[0;34m=\u001b[0m \u001b[0;36m3\u001b[0m\u001b[0;34m\u001b[0m\u001b[0;34m\u001b[0m\u001b[0m\n\u001b[0;32m----> 5\u001b[0;31m \u001b[0;32mif\u001b[0m \u001b[0ma\u001b[0m \u001b[0;34m>\u001b[0m \u001b[0mb\u001b[0m\u001b[0;34m:\u001b[0m\u001b[0;34m\u001b[0m\u001b[0;34m\u001b[0m\u001b[0m\n\u001b[0m\u001b[1;32m      6\u001b[0m   \u001b[0mprint\u001b[0m\u001b[0;34m(\u001b[0m\u001b[0ma\u001b[0m\u001b[0;34m,\u001b[0m\u001b[0mth\u001b[0m\u001b[0;34m)\u001b[0m\u001b[0;34m\u001b[0m\u001b[0;34m\u001b[0m\u001b[0m\n",
            "\u001b[0;31mTypeError\u001b[0m: '>' not supported between instances of 'tuple' and 'int'"
          ]
        }
      ]
    },
    {
      "cell_type": "code",
      "source": [
        ""
      ],
      "metadata": {
        "id": "9f119bIGnj3g"
      },
      "execution_count": null,
      "outputs": []
    }
  ]
}