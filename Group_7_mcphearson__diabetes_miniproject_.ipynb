{
  "nbformat": 4,
  "nbformat_minor": 0,
  "metadata": {
    "colab": {
      "name": "Group 7_mcphearson_ diabetes_miniproject .ipynb",
      "provenance": [],
      "collapsed_sections": [],
      "include_colab_link": true
    },
    "kernelspec": {
      "name": "python3",
      "display_name": "Python 3"
    },
    "language_info": {
      "name": "python"
    }
  },
  "cells": [
    {
      "cell_type": "markdown",
      "metadata": {
        "id": "view-in-github",
        "colab_type": "text"
      },
      "source": [
        "<a href=\"https://colab.research.google.com/github/TVHM/summer_microcredentials_BUS/blob/main/Group_7_mcphearson__diabetes_miniproject_.ipynb\" target=\"_parent\"><img src=\"https://colab.research.google.com/assets/colab-badge.svg\" alt=\"Open In Colab\"/></a>"
      ]
    },
    {
      "cell_type": "code",
      "execution_count": 594,
      "metadata": {
        "id": "PNQ2UOz6yBdP"
      },
      "outputs": [],
      "source": [
        "import pandas as pd\n",
        "import numpy as np\n",
        "import seaborn as sns\n",
        "import matplotlib.pyplot as plt\n",
        "%matplotlib inline\n",
        "from sklearn.linear_model import LogisticRegression\n",
        "from sklearn.preprocessing import StandardScaler\n",
        "from sklearn.metrics import classification_report\n",
        "from sklearn.metrics import accuracy_score\n",
        "from sklearn.model_selection import train_test_split\n",
        "from sklearn.metrics import classification_report, confusion_matrix\n",
        "from sklearn import svm\n"
      ]
    },
    {
      "cell_type": "markdown",
      "source": [
        "Overview\n",
        "\n",
        "The PIMA Indian Diabetes Disease Database constraint is limited by consisting of only women at least 21 years of age and of Pima Indian descent, is *admittedly* a diagnostic drawback in predicting whether or not a **all** patients admitted for hostpital care have diabetes or not, but basis of the model certainly consists of a universal approach that attempts to include everyone within the hospital's regional population.\n",
        "In addtion to pregnancy, this prediction model also includes a diagnostic measurementfor a *diabtes pedigree function, skin thickness and age*.\n",
        "\n",
        "Predictor - independent variables\n",
        "Target      dependent variable is the *'outcome'*\n",
        "Training and Testing Models: Logistic Regression, Confusion Matrix Report and Linear Regression Classifier "
      ],
      "metadata": {
        "id": "NN9wVPrP_tUO"
      }
    },
    {
      "cell_type": "markdown",
      "source": [
        "Data Collection and Analysis"
      ],
      "metadata": {
        "id": "iq8uU4fcj2gq"
      }
    },
    {
      "cell_type": "markdown",
      "source": [
        "PIMA Data Set "
      ],
      "metadata": {
        "id": "ePpytmFKkDTz"
      }
    },
    {
      "cell_type": "code",
      "source": [
        " #loading the data set to a dataframe and data varaiable defined \n",
        "diabetes_dataset = pd.read_csv('https://raw.githubusercontent.com/plotly/datasets/master/diabetes.csv')\n",
        " \n",
        "konstrnt_stud = diabetes_dataset"
      ],
      "metadata": {
        "id": "e0ymnbyITMJ-"
      },
      "execution_count": 595,
      "outputs": []
    },
    {
      "cell_type": "code",
      "source": [
        "pd.read_csv?"
      ],
      "metadata": {
        "id": "soV5wEuRkrXX"
      },
      "execution_count": 596,
      "outputs": []
    },
    {
      "cell_type": "code",
      "source": [
        "konstrnt_stud.head()"
      ],
      "metadata": {
        "colab": {
          "base_uri": "https://localhost:8080/",
          "height": 206
        },
        "id": "xzzJzI8_52Zj",
        "outputId": "e51c1af4-ac4e-4e01-9866-74e0cfbff7fa"
      },
      "execution_count": 597,
      "outputs": [
        {
          "output_type": "execute_result",
          "data": {
            "text/plain": [
              "   Pregnancies  Glucose  BloodPressure  SkinThickness  Insulin   BMI  \\\n",
              "0            6      148             72             35        0  33.6   \n",
              "1            1       85             66             29        0  26.6   \n",
              "2            8      183             64              0        0  23.3   \n",
              "3            1       89             66             23       94  28.1   \n",
              "4            0      137             40             35      168  43.1   \n",
              "\n",
              "   DiabetesPedigreeFunction  Age  Outcome  \n",
              "0                     0.627   50        1  \n",
              "1                     0.351   31        0  \n",
              "2                     0.672   32        1  \n",
              "3                     0.167   21        0  \n",
              "4                     2.288   33        1  "
            ],
            "text/html": [
              "\n",
              "  <div id=\"df-e7331d7a-7d90-484d-b1c1-3e959c2d3859\">\n",
              "    <div class=\"colab-df-container\">\n",
              "      <div>\n",
              "<style scoped>\n",
              "    .dataframe tbody tr th:only-of-type {\n",
              "        vertical-align: middle;\n",
              "    }\n",
              "\n",
              "    .dataframe tbody tr th {\n",
              "        vertical-align: top;\n",
              "    }\n",
              "\n",
              "    .dataframe thead th {\n",
              "        text-align: right;\n",
              "    }\n",
              "</style>\n",
              "<table border=\"1\" class=\"dataframe\">\n",
              "  <thead>\n",
              "    <tr style=\"text-align: right;\">\n",
              "      <th></th>\n",
              "      <th>Pregnancies</th>\n",
              "      <th>Glucose</th>\n",
              "      <th>BloodPressure</th>\n",
              "      <th>SkinThickness</th>\n",
              "      <th>Insulin</th>\n",
              "      <th>BMI</th>\n",
              "      <th>DiabetesPedigreeFunction</th>\n",
              "      <th>Age</th>\n",
              "      <th>Outcome</th>\n",
              "    </tr>\n",
              "  </thead>\n",
              "  <tbody>\n",
              "    <tr>\n",
              "      <th>0</th>\n",
              "      <td>6</td>\n",
              "      <td>148</td>\n",
              "      <td>72</td>\n",
              "      <td>35</td>\n",
              "      <td>0</td>\n",
              "      <td>33.6</td>\n",
              "      <td>0.627</td>\n",
              "      <td>50</td>\n",
              "      <td>1</td>\n",
              "    </tr>\n",
              "    <tr>\n",
              "      <th>1</th>\n",
              "      <td>1</td>\n",
              "      <td>85</td>\n",
              "      <td>66</td>\n",
              "      <td>29</td>\n",
              "      <td>0</td>\n",
              "      <td>26.6</td>\n",
              "      <td>0.351</td>\n",
              "      <td>31</td>\n",
              "      <td>0</td>\n",
              "    </tr>\n",
              "    <tr>\n",
              "      <th>2</th>\n",
              "      <td>8</td>\n",
              "      <td>183</td>\n",
              "      <td>64</td>\n",
              "      <td>0</td>\n",
              "      <td>0</td>\n",
              "      <td>23.3</td>\n",
              "      <td>0.672</td>\n",
              "      <td>32</td>\n",
              "      <td>1</td>\n",
              "    </tr>\n",
              "    <tr>\n",
              "      <th>3</th>\n",
              "      <td>1</td>\n",
              "      <td>89</td>\n",
              "      <td>66</td>\n",
              "      <td>23</td>\n",
              "      <td>94</td>\n",
              "      <td>28.1</td>\n",
              "      <td>0.167</td>\n",
              "      <td>21</td>\n",
              "      <td>0</td>\n",
              "    </tr>\n",
              "    <tr>\n",
              "      <th>4</th>\n",
              "      <td>0</td>\n",
              "      <td>137</td>\n",
              "      <td>40</td>\n",
              "      <td>35</td>\n",
              "      <td>168</td>\n",
              "      <td>43.1</td>\n",
              "      <td>2.288</td>\n",
              "      <td>33</td>\n",
              "      <td>1</td>\n",
              "    </tr>\n",
              "  </tbody>\n",
              "</table>\n",
              "</div>\n",
              "      <button class=\"colab-df-convert\" onclick=\"convertToInteractive('df-e7331d7a-7d90-484d-b1c1-3e959c2d3859')\"\n",
              "              title=\"Convert this dataframe to an interactive table.\"\n",
              "              style=\"display:none;\">\n",
              "        \n",
              "  <svg xmlns=\"http://www.w3.org/2000/svg\" height=\"24px\"viewBox=\"0 0 24 24\"\n",
              "       width=\"24px\">\n",
              "    <path d=\"M0 0h24v24H0V0z\" fill=\"none\"/>\n",
              "    <path d=\"M18.56 5.44l.94 2.06.94-2.06 2.06-.94-2.06-.94-.94-2.06-.94 2.06-2.06.94zm-11 1L8.5 8.5l.94-2.06 2.06-.94-2.06-.94L8.5 2.5l-.94 2.06-2.06.94zm10 10l.94 2.06.94-2.06 2.06-.94-2.06-.94-.94-2.06-.94 2.06-2.06.94z\"/><path d=\"M17.41 7.96l-1.37-1.37c-.4-.4-.92-.59-1.43-.59-.52 0-1.04.2-1.43.59L10.3 9.45l-7.72 7.72c-.78.78-.78 2.05 0 2.83L4 21.41c.39.39.9.59 1.41.59.51 0 1.02-.2 1.41-.59l7.78-7.78 2.81-2.81c.8-.78.8-2.07 0-2.86zM5.41 20L4 18.59l7.72-7.72 1.47 1.35L5.41 20z\"/>\n",
              "  </svg>\n",
              "      </button>\n",
              "      \n",
              "  <style>\n",
              "    .colab-df-container {\n",
              "      display:flex;\n",
              "      flex-wrap:wrap;\n",
              "      gap: 12px;\n",
              "    }\n",
              "\n",
              "    .colab-df-convert {\n",
              "      background-color: #E8F0FE;\n",
              "      border: none;\n",
              "      border-radius: 50%;\n",
              "      cursor: pointer;\n",
              "      display: none;\n",
              "      fill: #1967D2;\n",
              "      height: 32px;\n",
              "      padding: 0 0 0 0;\n",
              "      width: 32px;\n",
              "    }\n",
              "\n",
              "    .colab-df-convert:hover {\n",
              "      background-color: #E2EBFA;\n",
              "      box-shadow: 0px 1px 2px rgba(60, 64, 67, 0.3), 0px 1px 3px 1px rgba(60, 64, 67, 0.15);\n",
              "      fill: #174EA6;\n",
              "    }\n",
              "\n",
              "    [theme=dark] .colab-df-convert {\n",
              "      background-color: #3B4455;\n",
              "      fill: #D2E3FC;\n",
              "    }\n",
              "\n",
              "    [theme=dark] .colab-df-convert:hover {\n",
              "      background-color: #434B5C;\n",
              "      box-shadow: 0px 1px 3px 1px rgba(0, 0, 0, 0.15);\n",
              "      filter: drop-shadow(0px 1px 2px rgba(0, 0, 0, 0.3));\n",
              "      fill: #FFFFFF;\n",
              "    }\n",
              "  </style>\n",
              "\n",
              "      <script>\n",
              "        const buttonEl =\n",
              "          document.querySelector('#df-e7331d7a-7d90-484d-b1c1-3e959c2d3859 button.colab-df-convert');\n",
              "        buttonEl.style.display =\n",
              "          google.colab.kernel.accessAllowed ? 'block' : 'none';\n",
              "\n",
              "        async function convertToInteractive(key) {\n",
              "          const element = document.querySelector('#df-e7331d7a-7d90-484d-b1c1-3e959c2d3859');\n",
              "          const dataTable =\n",
              "            await google.colab.kernel.invokeFunction('convertToInteractive',\n",
              "                                                     [key], {});\n",
              "          if (!dataTable) return;\n",
              "\n",
              "          const docLinkHtml = 'Like what you see? Visit the ' +\n",
              "            '<a target=\"_blank\" href=https://colab.research.google.com/notebooks/data_table.ipynb>data table notebook</a>'\n",
              "            + ' to learn more about interactive tables.';\n",
              "          element.innerHTML = '';\n",
              "          dataTable['output_type'] = 'display_data';\n",
              "          await google.colab.output.renderOutput(dataTable, element);\n",
              "          const docLink = document.createElement('div');\n",
              "          docLink.innerHTML = docLinkHtml;\n",
              "          element.appendChild(docLink);\n",
              "        }\n",
              "      </script>\n",
              "    </div>\n",
              "  </div>\n",
              "  "
            ]
          },
          "metadata": {},
          "execution_count": 597
        }
      ]
    },
    {
      "cell_type": "code",
      "source": [
        "dataset = konstrnt_stud "
      ],
      "metadata": {
        "id": "kyNZXv7fD7CE"
      },
      "execution_count": 598,
      "outputs": []
    },
    {
      "cell_type": "code",
      "source": [
        "dataset.shape"
      ],
      "metadata": {
        "colab": {
          "base_uri": "https://localhost:8080/"
        },
        "id": "khuf5GSbEZZt",
        "outputId": "0c87fc35-d63a-4087-d8bb-8d519671450d"
      },
      "execution_count": 599,
      "outputs": [
        {
          "output_type": "execute_result",
          "data": {
            "text/plain": [
              "(768, 9)"
            ]
          },
          "metadata": {},
          "execution_count": 599
        }
      ]
    },
    {
      "cell_type": "code",
      "source": [
        "#print row 5 assign name survey sample 5\n",
        "\n",
        "print(konstrnt_stud.loc[5])"
      ],
      "metadata": {
        "colab": {
          "base_uri": "https://localhost:8080/"
        },
        "id": "qQrJCi5-nD_a",
        "outputId": "e357e4e2-28b3-4b19-9941-ea7864f2f1f5"
      },
      "execution_count": 600,
      "outputs": [
        {
          "output_type": "stream",
          "name": "stdout",
          "text": [
            "Pregnancies                   5.000\n",
            "Glucose                     116.000\n",
            "BloodPressure                74.000\n",
            "SkinThickness                 0.000\n",
            "Insulin                       0.000\n",
            "BMI                          25.600\n",
            "DiabetesPedigreeFunction      0.201\n",
            "Age                          30.000\n",
            "Outcome                       0.000\n",
            "Name: 5, dtype: float64\n"
          ]
        }
      ]
    },
    {
      "cell_type": "markdown",
      "source": [
        "#Target Variable : 'Outcome'\n",
        "\n",
        "per group study \n",
        "emery project guide"
      ],
      "metadata": {
        "id": "X-Ur9iYvAZ-A"
      }
    },
    {
      "cell_type": "code",
      "source": [
        "#Review distribution  of targets \n",
        "dataset['Outcome'].value_counts()"
      ],
      "metadata": {
        "id": "nEYeR7AXHW6O",
        "outputId": "671f6ca1-57a2-412c-9dff-9d2914363974",
        "colab": {
          "base_uri": "https://localhost:8080/"
        }
      },
      "execution_count": 601,
      "outputs": [
        {
          "output_type": "execute_result",
          "data": {
            "text/plain": [
              "0    500\n",
              "1    268\n",
              "Name: Outcome, dtype: int64"
            ]
          },
          "metadata": {},
          "execution_count": 601
        }
      ]
    },
    {
      "cell_type": "code",
      "source": [
        "#Plot outcome counts\n",
        "sns.countplot(x='Outcome',data=dataset, palette='hls')\n",
        "plt.show()\n",
        "plt.savefig('DiabetesOutcome_plt')"
      ],
      "metadata": {
        "id": "xePMHHgXIBTV",
        "outputId": "77d8e7a2-7d4e-47ef-b36d-4c62c5d975c7",
        "colab": {
          "base_uri": "https://localhost:8080/",
          "height": 297
        }
      },
      "execution_count": 602,
      "outputs": [
        {
          "output_type": "display_data",
          "data": {
            "text/plain": [
              "<Figure size 432x288 with 1 Axes>"
            ],
            "image/png": "[encoded data removed]"
          },
          "metadata": {
            "needs_background": "light"
          }
        },
        {
          "output_type": "display_data",
          "data": {
            "text/plain": [
              "<Figure size 432x288 with 0 Axes>"
            ]
          },
          "metadata": {}
        }
      ]
    },
    {
      "cell_type": "code",
      "source": [
        "dataset.describe()"
      ],
      "metadata": {
        "colab": {
          "base_uri": "https://localhost:8080/",
          "height": 300
        },
        "id": "LBwNhfI8G8Fm",
        "outputId": "2e79d6b6-dfe3-47c7-fb14-016b88a0427c"
      },
      "execution_count": 603,
      "outputs": [
        {
          "output_type": "execute_result",
          "data": {
            "text/plain": [
              "       Pregnancies     Glucose  BloodPressure  SkinThickness     Insulin  \\\n",
              "count   768.000000  768.000000     768.000000     768.000000  768.000000   \n",
              "mean      3.845052  120.894531      69.105469      20.536458   79.799479   \n",
              "std       3.369578   31.972618      19.355807      15.952218  115.244002   \n",
              "min       0.000000    0.000000       0.000000       0.000000    0.000000   \n",
              "25%       1.000000   99.000000      62.000000       0.000000    0.000000   \n",
              "50%       3.000000  117.000000      72.000000      23.000000   30.500000   \n",
              "75%       6.000000  140.250000      80.000000      32.000000  127.250000   \n",
              "max      17.000000  199.000000     122.000000      99.000000  846.000000   \n",
              "\n",
              "              BMI  DiabetesPedigreeFunction         Age     Outcome  \n",
              "count  768.000000                768.000000  768.000000  768.000000  \n",
              "mean    31.992578                  0.471876   33.240885    0.348958  \n",
              "std      7.884160                  0.331329   11.760232    0.476951  \n",
              "min      0.000000                  0.078000   21.000000    0.000000  \n",
              "25%     27.300000                  0.243750   24.000000    0.000000  \n",
              "50%     32.000000                  0.372500   29.000000    0.000000  \n",
              "75%     36.600000                  0.626250   41.000000    1.000000  \n",
              "max     67.100000                  2.420000   81.000000    1.000000  "
            ],
            "text/html": [
              "\n",
              "  <div id=\"df-15116e3c-7121-4097-b620-eba49b5f4bcf\">\n",
              "    <div class=\"colab-df-container\">\n",
              "      <div>\n",
              "<style scoped>\n",
              "    .dataframe tbody tr th:only-of-type {\n",
              "        vertical-align: middle;\n",
              "    }\n",
              "\n",
              "    .dataframe tbody tr th {\n",
              "        vertical-align: top;\n",
              "    }\n",
              "\n",
              "    .dataframe thead th {\n",
              "        text-align: right;\n",
              "    }\n",
              "</style>\n",
              "<table border=\"1\" class=\"dataframe\">\n",
              "  <thead>\n",
              "    <tr style=\"text-align: right;\">\n",
              "      <th></th>\n",
              "      <th>Pregnancies</th>\n",
              "      <th>Glucose</th>\n",
              "      <th>BloodPressure</th>\n",
              "      <th>SkinThickness</th>\n",
              "      <th>Insulin</th>\n",
              "      <th>BMI</th>\n",
              "      <th>DiabetesPedigreeFunction</th>\n",
              "      <th>Age</th>\n",
              "      <th>Outcome</th>\n",
              "    </tr>\n",
              "  </thead>\n",
              "  <tbody>\n",
              "    <tr>\n",
              "      <th>count</th>\n",
              "      <td>768.000000</td>\n",
              "      <td>768.000000</td>\n",
              "      <td>768.000000</td>\n",
              "      <td>768.000000</td>\n",
              "      <td>768.000000</td>\n",
              "      <td>768.000000</td>\n",
              "      <td>768.000000</td>\n",
              "      <td>768.000000</td>\n",
              "      <td>768.000000</td>\n",
              "    </tr>\n",
              "    <tr>\n",
              "      <th>mean</th>\n",
              "      <td>3.845052</td>\n",
              "      <td>120.894531</td>\n",
              "      <td>69.105469</td>\n",
              "      <td>20.536458</td>\n",
              "      <td>79.799479</td>\n",
              "      <td>31.992578</td>\n",
              "      <td>0.471876</td>\n",
              "      <td>33.240885</td>\n",
              "      <td>0.348958</td>\n",
              "    </tr>\n",
              "    <tr>\n",
              "      <th>std</th>\n",
              "      <td>3.369578</td>\n",
              "      <td>31.972618</td>\n",
              "      <td>19.355807</td>\n",
              "      <td>15.952218</td>\n",
              "      <td>115.244002</td>\n",
              "      <td>7.884160</td>\n",
              "      <td>0.331329</td>\n",
              "      <td>11.760232</td>\n",
              "      <td>0.476951</td>\n",
              "    </tr>\n",
              "    <tr>\n",
              "      <th>min</th>\n",
              "      <td>0.000000</td>\n",
              "      <td>0.000000</td>\n",
              "      <td>0.000000</td>\n",
              "      <td>0.000000</td>\n",
              "      <td>0.000000</td>\n",
              "      <td>0.000000</td>\n",
              "      <td>0.078000</td>\n",
              "      <td>21.000000</td>\n",
              "      <td>0.000000</td>\n",
              "    </tr>\n",
              "    <tr>\n",
              "      <th>25%</th>\n",
              "      <td>1.000000</td>\n",
              "      <td>99.000000</td>\n",
              "      <td>62.000000</td>\n",
              "      <td>0.000000</td>\n",
              "      <td>0.000000</td>\n",
              "      <td>27.300000</td>\n",
              "      <td>0.243750</td>\n",
              "      <td>24.000000</td>\n",
              "      <td>0.000000</td>\n",
              "    </tr>\n",
              "    <tr>\n",
              "      <th>50%</th>\n",
              "      <td>3.000000</td>\n",
              "      <td>117.000000</td>\n",
              "      <td>72.000000</td>\n",
              "      <td>23.000000</td>\n",
              "      <td>30.500000</td>\n",
              "      <td>32.000000</td>\n",
              "      <td>0.372500</td>\n",
              "      <td>29.000000</td>\n",
              "      <td>0.000000</td>\n",
              "    </tr>\n",
              "    <tr>\n",
              "      <th>75%</th>\n",
              "      <td>6.000000</td>\n",
              "      <td>140.250000</td>\n",
              "      <td>80.000000</td>\n",
              "      <td>32.000000</td>\n",
              "      <td>127.250000</td>\n",
              "      <td>36.600000</td>\n",
              "      <td>0.626250</td>\n",
              "      <td>41.000000</td>\n",
              "      <td>1.000000</td>\n",
              "    </tr>\n",
              "    <tr>\n",
              "      <th>max</th>\n",
              "      <td>17.000000</td>\n",
              "      <td>199.000000</td>\n",
              "      <td>122.000000</td>\n",
              "      <td>99.000000</td>\n",
              "      <td>846.000000</td>\n",
              "      <td>67.100000</td>\n",
              "      <td>2.420000</td>\n",
              "      <td>81.000000</td>\n",
              "      <td>1.000000</td>\n",
              "    </tr>\n",
              "  </tbody>\n",
              "</table>\n",
              "</div>\n",
              "      <button class=\"colab-df-convert\" onclick=\"convertToInteractive('df-15116e3c-7121-4097-b620-eba49b5f4bcf')\"\n",
              "              title=\"Convert this dataframe to an interactive table.\"\n",
              "              style=\"display:none;\">\n",
              "        \n",
              "  <svg xmlns=\"http://www.w3.org/2000/svg\" height=\"24px\"viewBox=\"0 0 24 24\"\n",
              "       width=\"24px\">\n",
              "    <path d=\"M0 0h24v24H0V0z\" fill=\"none\"/>\n",
              "    <path d=\"M18.56 5.44l.94 2.06.94-2.06 2.06-.94-2.06-.94-.94-2.06-.94 2.06-2.06.94zm-11 1L8.5 8.5l.94-2.06 2.06-.94-2.06-.94L8.5 2.5l-.94 2.06-2.06.94zm10 10l.94 2.06.94-2.06 2.06-.94-2.06-.94-.94-2.06-.94 2.06-2.06.94z\"/><path d=\"M17.41 7.96l-1.37-1.37c-.4-.4-.92-.59-1.43-.59-.52 0-1.04.2-1.43.59L10.3 9.45l-7.72 7.72c-.78.78-.78 2.05 0 2.83L4 21.41c.39.39.9.59 1.41.59.51 0 1.02-.2 1.41-.59l7.78-7.78 2.81-2.81c.8-.78.8-2.07 0-2.86zM5.41 20L4 18.59l7.72-7.72 1.47 1.35L5.41 20z\"/>\n",
              "  </svg>\n",
              "      </button>\n",
              "      \n",
              "  <style>\n",
              "    .colab-df-container {\n",
              "      display:flex;\n",
              "      flex-wrap:wrap;\n",
              "      gap: 12px;\n",
              "    }\n",
              "\n",
              "    .colab-df-convert {\n",
              "      background-color: #E8F0FE;\n",
              "      border: none;\n",
              "      border-radius: 50%;\n",
              "      cursor: pointer;\n",
              "      display: none;\n",
              "      fill: #1967D2;\n",
              "      height: 32px;\n",
              "      padding: 0 0 0 0;\n",
              "      width: 32px;\n",
              "    }\n",
              "\n",
              "    .colab-df-convert:hover {\n",
              "      background-color: #E2EBFA;\n",
              "      box-shadow: 0px 1px 2px rgba(60, 64, 67, 0.3), 0px 1px 3px 1px rgba(60, 64, 67, 0.15);\n",
              "      fill: #174EA6;\n",
              "    }\n",
              "\n",
              "    [theme=dark] .colab-df-convert {\n",
              "      background-color: #3B4455;\n",
              "      fill: #D2E3FC;\n",
              "    }\n",
              "\n",
              "    [theme=dark] .colab-df-convert:hover {\n",
              "      background-color: #434B5C;\n",
              "      box-shadow: 0px 1px 3px 1px rgba(0, 0, 0, 0.15);\n",
              "      filter: drop-shadow(0px 1px 2px rgba(0, 0, 0, 0.3));\n",
              "      fill: #FFFFFF;\n",
              "    }\n",
              "  </style>\n",
              "\n",
              "      <script>\n",
              "        const buttonEl =\n",
              "          document.querySelector('#df-15116e3c-7121-4097-b620-eba49b5f4bcf button.colab-df-convert');\n",
              "        buttonEl.style.display =\n",
              "          google.colab.kernel.accessAllowed ? 'block' : 'none';\n",
              "\n",
              "        async function convertToInteractive(key) {\n",
              "          const element = document.querySelector('#df-15116e3c-7121-4097-b620-eba49b5f4bcf');\n",
              "          const dataTable =\n",
              "            await google.colab.kernel.invokeFunction('convertToInteractive',\n",
              "                                                     [key], {});\n",
              "          if (!dataTable) return;\n",
              "\n",
              "          const docLinkHtml = 'Like what you see? Visit the ' +\n",
              "            '<a target=\"_blank\" href=https://colab.research.google.com/notebooks/data_table.ipynb>data table notebook</a>'\n",
              "            + ' to learn more about interactive tables.';\n",
              "          element.innerHTML = '';\n",
              "          dataTable['output_type'] = 'display_data';\n",
              "          await google.colab.output.renderOutput(dataTable, element);\n",
              "          const docLink = document.createElement('div');\n",
              "          docLink.innerHTML = docLinkHtml;\n",
              "          element.appendChild(docLink);\n",
              "        }\n",
              "      </script>\n",
              "    </div>\n",
              "  </div>\n",
              "  "
            ]
          },
          "metadata": {},
          "execution_count": 603
        }
      ]
    },
    {
      "cell_type": "code",
      "source": [
        "#find missing values\n",
        "dataset.isnull().sum()"
      ],
      "metadata": {
        "colab": {
          "base_uri": "https://localhost:8080/"
        },
        "id": "fIZeIdYMeCKD",
        "outputId": "9fa0cadd-1fb6-48f5-83ea-848d77893764"
      },
      "execution_count": 604,
      "outputs": [
        {
          "output_type": "execute_result",
          "data": {
            "text/plain": [
              "Pregnancies                 0\n",
              "Glucose                     0\n",
              "BloodPressure               0\n",
              "SkinThickness               0\n",
              "Insulin                     0\n",
              "BMI                         0\n",
              "DiabetesPedigreeFunction    0\n",
              "Age                         0\n",
              "Outcome                     0\n",
              "dtype: int64"
            ]
          },
          "metadata": {},
          "execution_count": 604
        }
      ]
    },
    {
      "cell_type": "code",
      "source": [
        "# outocome 0, 1 \n",
        "konstrnt_stud['Outcome'].value_counts()"
      ],
      "metadata": {
        "colab": {
          "base_uri": "https://localhost:8080/"
        },
        "id": "wNw9GRBNmV7Q",
        "outputId": "29894d2a-a7e0-42d7-b2ac-1a2a94aab98c"
      },
      "execution_count": 605,
      "outputs": [
        {
          "output_type": "execute_result",
          "data": {
            "text/plain": [
              "0    500\n",
              "1    268\n",
              "Name: Outcome, dtype: int64"
            ]
          },
          "metadata": {},
          "execution_count": 605
        }
      ]
    },
    {
      "cell_type": "code",
      "source": [
        "konstrnt_stud.groupby('Outcome').mean()"
      ],
      "metadata": {
        "colab": {
          "base_uri": "https://localhost:8080/",
          "height": 143
        },
        "id": "-md7HBFxnHQ1",
        "outputId": "e63b4942-3954-475e-ae41-e283d8af9d34"
      },
      "execution_count": 606,
      "outputs": [
        {
          "output_type": "execute_result",
          "data": {
            "text/plain": [
              "         Pregnancies     Glucose  BloodPressure  SkinThickness     Insulin  \\\n",
              "Outcome                                                                      \n",
              "0           3.298000  109.980000      68.184000      19.664000   68.792000   \n",
              "1           4.865672  141.257463      70.824627      22.164179  100.335821   \n",
              "\n",
              "               BMI  DiabetesPedigreeFunction        Age  \n",
              "Outcome                                                  \n",
              "0        30.304200                  0.429734  31.190000  \n",
              "1        35.142537                  0.550500  37.067164  "
            ],
            "text/html": [
              "\n",
              "  <div id=\"df-690d1ccb-3216-4abe-a4a0-29f59acd6504\">\n",
              "    <div class=\"colab-df-container\">\n",
              "      <div>\n",
              "<style scoped>\n",
              "    .dataframe tbody tr th:only-of-type {\n",
              "        vertical-align: middle;\n",
              "    }\n",
              "\n",
              "    .dataframe tbody tr th {\n",
              "        vertical-align: top;\n",
              "    }\n",
              "\n",
              "    .dataframe thead th {\n",
              "        text-align: right;\n",
              "    }\n",
              "</style>\n",
              "<table border=\"1\" class=\"dataframe\">\n",
              "  <thead>\n",
              "    <tr style=\"text-align: right;\">\n",
              "      <th></th>\n",
              "      <th>Pregnancies</th>\n",
              "      <th>Glucose</th>\n",
              "      <th>BloodPressure</th>\n",
              "      <th>SkinThickness</th>\n",
              "      <th>Insulin</th>\n",
              "      <th>BMI</th>\n",
              "      <th>DiabetesPedigreeFunction</th>\n",
              "      <th>Age</th>\n",
              "    </tr>\n",
              "    <tr>\n",
              "      <th>Outcome</th>\n",
              "      <th></th>\n",
              "      <th></th>\n",
              "      <th></th>\n",
              "      <th></th>\n",
              "      <th></th>\n",
              "      <th></th>\n",
              "      <th></th>\n",
              "      <th></th>\n",
              "    </tr>\n",
              "  </thead>\n",
              "  <tbody>\n",
              "    <tr>\n",
              "      <th>0</th>\n",
              "      <td>3.298000</td>\n",
              "      <td>109.980000</td>\n",
              "      <td>68.184000</td>\n",
              "      <td>19.664000</td>\n",
              "      <td>68.792000</td>\n",
              "      <td>30.304200</td>\n",
              "      <td>0.429734</td>\n",
              "      <td>31.190000</td>\n",
              "    </tr>\n",
              "    <tr>\n",
              "      <th>1</th>\n",
              "      <td>4.865672</td>\n",
              "      <td>141.257463</td>\n",
              "      <td>70.824627</td>\n",
              "      <td>22.164179</td>\n",
              "      <td>100.335821</td>\n",
              "      <td>35.142537</td>\n",
              "      <td>0.550500</td>\n",
              "      <td>37.067164</td>\n",
              "    </tr>\n",
              "  </tbody>\n",
              "</table>\n",
              "</div>\n",
              "      <button class=\"colab-df-convert\" onclick=\"convertToInteractive('df-690d1ccb-3216-4abe-a4a0-29f59acd6504')\"\n",
              "              title=\"Convert this dataframe to an interactive table.\"\n",
              "              style=\"display:none;\">\n",
              "        \n",
              "  <svg xmlns=\"http://www.w3.org/2000/svg\" height=\"24px\"viewBox=\"0 0 24 24\"\n",
              "       width=\"24px\">\n",
              "    <path d=\"M0 0h24v24H0V0z\" fill=\"none\"/>\n",
              "    <path d=\"M18.56 5.44l.94 2.06.94-2.06 2.06-.94-2.06-.94-.94-2.06-.94 2.06-2.06.94zm-11 1L8.5 8.5l.94-2.06 2.06-.94-2.06-.94L8.5 2.5l-.94 2.06-2.06.94zm10 10l.94 2.06.94-2.06 2.06-.94-2.06-.94-.94-2.06-.94 2.06-2.06.94z\"/><path d=\"M17.41 7.96l-1.37-1.37c-.4-.4-.92-.59-1.43-.59-.52 0-1.04.2-1.43.59L10.3 9.45l-7.72 7.72c-.78.78-.78 2.05 0 2.83L4 21.41c.39.39.9.59 1.41.59.51 0 1.02-.2 1.41-.59l7.78-7.78 2.81-2.81c.8-.78.8-2.07 0-2.86zM5.41 20L4 18.59l7.72-7.72 1.47 1.35L5.41 20z\"/>\n",
              "  </svg>\n",
              "      </button>\n",
              "      \n",
              "  <style>\n",
              "    .colab-df-container {\n",
              "      display:flex;\n",
              "      flex-wrap:wrap;\n",
              "      gap: 12px;\n",
              "    }\n",
              "\n",
              "    .colab-df-convert {\n",
              "      background-color: #E8F0FE;\n",
              "      border: none;\n",
              "      border-radius: 50%;\n",
              "      cursor: pointer;\n",
              "      display: none;\n",
              "      fill: #1967D2;\n",
              "      height: 32px;\n",
              "      padding: 0 0 0 0;\n",
              "      width: 32px;\n",
              "    }\n",
              "\n",
              "    .colab-df-convert:hover {\n",
              "      background-color: #E2EBFA;\n",
              "      box-shadow: 0px 1px 2px rgba(60, 64, 67, 0.3), 0px 1px 3px 1px rgba(60, 64, 67, 0.15);\n",
              "      fill: #174EA6;\n",
              "    }\n",
              "\n",
              "    [theme=dark] .colab-df-convert {\n",
              "      background-color: #3B4455;\n",
              "      fill: #D2E3FC;\n",
              "    }\n",
              "\n",
              "    [theme=dark] .colab-df-convert:hover {\n",
              "      background-color: #434B5C;\n",
              "      box-shadow: 0px 1px 3px 1px rgba(0, 0, 0, 0.15);\n",
              "      filter: drop-shadow(0px 1px 2px rgba(0, 0, 0, 0.3));\n",
              "      fill: #FFFFFF;\n",
              "    }\n",
              "  </style>\n",
              "\n",
              "      <script>\n",
              "        const buttonEl =\n",
              "          document.querySelector('#df-690d1ccb-3216-4abe-a4a0-29f59acd6504 button.colab-df-convert');\n",
              "        buttonEl.style.display =\n",
              "          google.colab.kernel.accessAllowed ? 'block' : 'none';\n",
              "\n",
              "        async function convertToInteractive(key) {\n",
              "          const element = document.querySelector('#df-690d1ccb-3216-4abe-a4a0-29f59acd6504');\n",
              "          const dataTable =\n",
              "            await google.colab.kernel.invokeFunction('convertToInteractive',\n",
              "                                                     [key], {});\n",
              "          if (!dataTable) return;\n",
              "\n",
              "          const docLinkHtml = 'Like what you see? Visit the ' +\n",
              "            '<a target=\"_blank\" href=https://colab.research.google.com/notebooks/data_table.ipynb>data table notebook</a>'\n",
              "            + ' to learn more about interactive tables.';\n",
              "          element.innerHTML = '';\n",
              "          dataTable['output_type'] = 'display_data';\n",
              "          await google.colab.output.renderOutput(dataTable, element);\n",
              "          const docLink = document.createElement('div');\n",
              "          docLink.innerHTML = docLinkHtml;\n",
              "          element.appendChild(docLink);\n",
              "        }\n",
              "      </script>\n",
              "    </div>\n",
              "  </div>\n",
              "  "
            ]
          },
          "metadata": {},
          "execution_count": 606
        }
      ]
    },
    {
      "cell_type": "code",
      "source": [
        "X = konstrnt_stud.drop(columns = 'Outcome', axis=1)\n",
        "Y = konstrnt_stud['Outcome']"
      ],
      "metadata": {
        "id": "C0EbLdFBoFpV"
      },
      "execution_count": 607,
      "outputs": []
    },
    {
      "cell_type": "code",
      "source": [
        "print(X)"
      ],
      "metadata": {
        "colab": {
          "base_uri": "https://localhost:8080/"
        },
        "id": "Ofyn-vxdqCs_",
        "outputId": "f9fc4b1c-527b-4d96-8cd1-fb1d939193bd"
      },
      "execution_count": 608,
      "outputs": [
        {
          "output_type": "stream",
          "name": "stdout",
          "text": [
            "     Pregnancies  Glucose  BloodPressure  SkinThickness  Insulin   BMI  \\\n",
            "0              6      148             72             35        0  33.6   \n",
            "1              1       85             66             29        0  26.6   \n",
            "2              8      183             64              0        0  23.3   \n",
            "3              1       89             66             23       94  28.1   \n",
            "4              0      137             40             35      168  43.1   \n",
            "..           ...      ...            ...            ...      ...   ...   \n",
            "763           10      101             76             48      180  32.9   \n",
            "764            2      122             70             27        0  36.8   \n",
            "765            5      121             72             23      112  26.2   \n",
            "766            1      126             60              0        0  30.1   \n",
            "767            1       93             70             31        0  30.4   \n",
            "\n",
            "     DiabetesPedigreeFunction  Age  \n",
            "0                       0.627   50  \n",
            "1                       0.351   31  \n",
            "2                       0.672   32  \n",
            "3                       0.167   21  \n",
            "4                       2.288   33  \n",
            "..                        ...  ...  \n",
            "763                     0.171   63  \n",
            "764                     0.340   27  \n",
            "765                     0.245   30  \n",
            "766                     0.349   47  \n",
            "767                     0.315   23  \n",
            "\n",
            "[768 rows x 8 columns]\n"
          ]
        }
      ]
    },
    {
      "cell_type": "code",
      "source": [
        "print(Y)"
      ],
      "metadata": {
        "colab": {
          "base_uri": "https://localhost:8080/"
        },
        "id": "3msgUL41qJzd",
        "outputId": "42de8a5b-60bd-4941-bbc3-603964638176"
      },
      "execution_count": 609,
      "outputs": [
        {
          "output_type": "stream",
          "name": "stdout",
          "text": [
            "0      1\n",
            "1      0\n",
            "2      1\n",
            "3      0\n",
            "4      1\n",
            "      ..\n",
            "763    0\n",
            "764    0\n",
            "765    0\n",
            "766    1\n",
            "767    0\n",
            "Name: Outcome, Length: 768, dtype: int64\n"
          ]
        }
      ]
    },
    {
      "cell_type": "markdown",
      "source": [
        "#Prepare Data"
      ],
      "metadata": {
        "id": "W-xSSWNPKICG"
      }
    },
    {
      "cell_type": "code",
      "source": [
        "dataset['Outcome'].unique()"
      ],
      "metadata": {
        "id": "lje9DeMZKPkF",
        "outputId": "c478b74d-52a4-454f-97b1-3e8928c7f105",
        "colab": {
          "base_uri": "https://localhost:8080/"
        }
      },
      "execution_count": 610,
      "outputs": [
        {
          "output_type": "execute_result",
          "data": {
            "text/plain": [
              "array([1, 0])"
            ]
          },
          "metadata": {},
          "execution_count": 610
        }
      ]
    },
    {
      "cell_type": "code",
      "source": [
        "#prepare dataset for training \n",
        "x = dataset.iloc[:, :1]   # feature values- all columns except last one in the data framem\n",
        "y = dataset.iloc[:, -1]   #target values  - last column of data frame"
      ],
      "metadata": {
        "id": "qK3GIA1kKeVx"
      },
      "execution_count": 611,
      "outputs": []
    },
    {
      "cell_type": "code",
      "source": [
        "#Split data into 80% training and 20% testing \n",
        "x_train, x_test, y_train, y_test = train_test_split(x, y, test_size=0.2, random_state=42)"
      ],
      "metadata": {
        "id": "3fqwHsNhLOEt"
      },
      "execution_count": 612,
      "outputs": []
    },
    {
      "cell_type": "code",
      "source": [
        "x_train"
      ],
      "metadata": {
        "id": "iiH76qpWMCXU",
        "outputId": "055c286d-abe8-442b-c444-b2ffa2a80ebe",
        "colab": {
          "base_uri": "https://localhost:8080/",
          "height": 423
        }
      },
      "execution_count": 613,
      "outputs": [
        {
          "output_type": "execute_result",
          "data": {
            "text/plain": [
              "     Pregnancies\n",
              "60             2\n",
              "618            9\n",
              "346            1\n",
              "294            0\n",
              "231            6\n",
              "..           ...\n",
              "71             5\n",
              "106            1\n",
              "270           10\n",
              "435            0\n",
              "102            0\n",
              "\n",
              "[614 rows x 1 columns]"
            ],
            "text/html": [
              "\n",
              "  <div id=\"df-e44d9c48-963d-41da-b0d5-947c0a9c7b07\">\n",
              "    <div class=\"colab-df-container\">\n",
              "      <div>\n",
              "<style scoped>\n",
              "    .dataframe tbody tr th:only-of-type {\n",
              "        vertical-align: middle;\n",
              "    }\n",
              "\n",
              "    .dataframe tbody tr th {\n",
              "        vertical-align: top;\n",
              "    }\n",
              "\n",
              "    .dataframe thead th {\n",
              "        text-align: right;\n",
              "    }\n",
              "</style>\n",
              "<table border=\"1\" class=\"dataframe\">\n",
              "  <thead>\n",
              "    <tr style=\"text-align: right;\">\n",
              "      <th></th>\n",
              "      <th>Pregnancies</th>\n",
              "    </tr>\n",
              "  </thead>\n",
              "  <tbody>\n",
              "    <tr>\n",
              "      <th>60</th>\n",
              "      <td>2</td>\n",
              "    </tr>\n",
              "    <tr>\n",
              "      <th>618</th>\n",
              "      <td>9</td>\n",
              "    </tr>\n",
              "    <tr>\n",
              "      <th>346</th>\n",
              "      <td>1</td>\n",
              "    </tr>\n",
              "    <tr>\n",
              "      <th>294</th>\n",
              "      <td>0</td>\n",
              "    </tr>\n",
              "    <tr>\n",
              "      <th>231</th>\n",
              "      <td>6</td>\n",
              "    </tr>\n",
              "    <tr>\n",
              "      <th>...</th>\n",
              "      <td>...</td>\n",
              "    </tr>\n",
              "    <tr>\n",
              "      <th>71</th>\n",
              "      <td>5</td>\n",
              "    </tr>\n",
              "    <tr>\n",
              "      <th>106</th>\n",
              "      <td>1</td>\n",
              "    </tr>\n",
              "    <tr>\n",
              "      <th>270</th>\n",
              "      <td>10</td>\n",
              "    </tr>\n",
              "    <tr>\n",
              "      <th>435</th>\n",
              "      <td>0</td>\n",
              "    </tr>\n",
              "    <tr>\n",
              "      <th>102</th>\n",
              "      <td>0</td>\n",
              "    </tr>\n",
              "  </tbody>\n",
              "</table>\n",
              "<p>614 rows × 1 columns</p>\n",
              "</div>\n",
              "      <button class=\"colab-df-convert\" onclick=\"convertToInteractive('df-e44d9c48-963d-41da-b0d5-947c0a9c7b07')\"\n",
              "              title=\"Convert this dataframe to an interactive table.\"\n",
              "              style=\"display:none;\">\n",
              "        \n",
              "  <svg xmlns=\"http://www.w3.org/2000/svg\" height=\"24px\"viewBox=\"0 0 24 24\"\n",
              "       width=\"24px\">\n",
              "    <path d=\"M0 0h24v24H0V0z\" fill=\"none\"/>\n",
              "    <path d=\"M18.56 5.44l.94 2.06.94-2.06 2.06-.94-2.06-.94-.94-2.06-.94 2.06-2.06.94zm-11 1L8.5 8.5l.94-2.06 2.06-.94-2.06-.94L8.5 2.5l-.94 2.06-2.06.94zm10 10l.94 2.06.94-2.06 2.06-.94-2.06-.94-.94-2.06-.94 2.06-2.06.94z\"/><path d=\"M17.41 7.96l-1.37-1.37c-.4-.4-.92-.59-1.43-.59-.52 0-1.04.2-1.43.59L10.3 9.45l-7.72 7.72c-.78.78-.78 2.05 0 2.83L4 21.41c.39.39.9.59 1.41.59.51 0 1.02-.2 1.41-.59l7.78-7.78 2.81-2.81c.8-.78.8-2.07 0-2.86zM5.41 20L4 18.59l7.72-7.72 1.47 1.35L5.41 20z\"/>\n",
              "  </svg>\n",
              "      </button>\n",
              "      \n",
              "  <style>\n",
              "    .colab-df-container {\n",
              "      display:flex;\n",
              "      flex-wrap:wrap;\n",
              "      gap: 12px;\n",
              "    }\n",
              "\n",
              "    .colab-df-convert {\n",
              "      background-color: #E8F0FE;\n",
              "      border: none;\n",
              "      border-radius: 50%;\n",
              "      cursor: pointer;\n",
              "      display: none;\n",
              "      fill: #1967D2;\n",
              "      height: 32px;\n",
              "      padding: 0 0 0 0;\n",
              "      width: 32px;\n",
              "    }\n",
              "\n",
              "    .colab-df-convert:hover {\n",
              "      background-color: #E2EBFA;\n",
              "      box-shadow: 0px 1px 2px rgba(60, 64, 67, 0.3), 0px 1px 3px 1px rgba(60, 64, 67, 0.15);\n",
              "      fill: #174EA6;\n",
              "    }\n",
              "\n",
              "    [theme=dark] .colab-df-convert {\n",
              "      background-color: #3B4455;\n",
              "      fill: #D2E3FC;\n",
              "    }\n",
              "\n",
              "    [theme=dark] .colab-df-convert:hover {\n",
              "      background-color: #434B5C;\n",
              "      box-shadow: 0px 1px 3px 1px rgba(0, 0, 0, 0.15);\n",
              "      filter: drop-shadow(0px 1px 2px rgba(0, 0, 0, 0.3));\n",
              "      fill: #FFFFFF;\n",
              "    }\n",
              "  </style>\n",
              "\n",
              "      <script>\n",
              "        const buttonEl =\n",
              "          document.querySelector('#df-e44d9c48-963d-41da-b0d5-947c0a9c7b07 button.colab-df-convert');\n",
              "        buttonEl.style.display =\n",
              "          google.colab.kernel.accessAllowed ? 'block' : 'none';\n",
              "\n",
              "        async function convertToInteractive(key) {\n",
              "          const element = document.querySelector('#df-e44d9c48-963d-41da-b0d5-947c0a9c7b07');\n",
              "          const dataTable =\n",
              "            await google.colab.kernel.invokeFunction('convertToInteractive',\n",
              "                                                     [key], {});\n",
              "          if (!dataTable) return;\n",
              "\n",
              "          const docLinkHtml = 'Like what you see? Visit the ' +\n",
              "            '<a target=\"_blank\" href=https://colab.research.google.com/notebooks/data_table.ipynb>data table notebook</a>'\n",
              "            + ' to learn more about interactive tables.';\n",
              "          element.innerHTML = '';\n",
              "          dataTable['output_type'] = 'display_data';\n",
              "          await google.colab.output.renderOutput(dataTable, element);\n",
              "          const docLink = document.createElement('div');\n",
              "          docLink.innerHTML = docLinkHtml;\n",
              "          element.appendChild(docLink);\n",
              "        }\n",
              "      </script>\n",
              "    </div>\n",
              "  </div>\n",
              "  "
            ]
          },
          "metadata": {},
          "execution_count": 613
        }
      ]
    },
    {
      "cell_type": "code",
      "source": [
        "x_test"
      ],
      "metadata": {
        "id": "A2p6vZbmMLut",
        "outputId": "732b7f50-8d10-4a00-b9c2-e27eee418657",
        "colab": {
          "base_uri": "https://localhost:8080/",
          "height": 423
        }
      },
      "execution_count": 614,
      "outputs": [
        {
          "output_type": "execute_result",
          "data": {
            "text/plain": [
              "     Pregnancies\n",
              "668            6\n",
              "324            2\n",
              "624            2\n",
              "690            8\n",
              "473            7\n",
              "..           ...\n",
              "355            9\n",
              "534            1\n",
              "344            8\n",
              "296            2\n",
              "462            8\n",
              "\n",
              "[154 rows x 1 columns]"
            ],
            "text/html": [
              "\n",
              "  <div id=\"df-ef174d53-64c1-4c88-a8c8-471f3332a9c0\">\n",
              "    <div class=\"colab-df-container\">\n",
              "      <div>\n",
              "<style scoped>\n",
              "    .dataframe tbody tr th:only-of-type {\n",
              "        vertical-align: middle;\n",
              "    }\n",
              "\n",
              "    .dataframe tbody tr th {\n",
              "        vertical-align: top;\n",
              "    }\n",
              "\n",
              "    .dataframe thead th {\n",
              "        text-align: right;\n",
              "    }\n",
              "</style>\n",
              "<table border=\"1\" class=\"dataframe\">\n",
              "  <thead>\n",
              "    <tr style=\"text-align: right;\">\n",
              "      <th></th>\n",
              "      <th>Pregnancies</th>\n",
              "    </tr>\n",
              "  </thead>\n",
              "  <tbody>\n",
              "    <tr>\n",
              "      <th>668</th>\n",
              "      <td>6</td>\n",
              "    </tr>\n",
              "    <tr>\n",
              "      <th>324</th>\n",
              "      <td>2</td>\n",
              "    </tr>\n",
              "    <tr>\n",
              "      <th>624</th>\n",
              "      <td>2</td>\n",
              "    </tr>\n",
              "    <tr>\n",
              "      <th>690</th>\n",
              "      <td>8</td>\n",
              "    </tr>\n",
              "    <tr>\n",
              "      <th>473</th>\n",
              "      <td>7</td>\n",
              "    </tr>\n",
              "    <tr>\n",
              "      <th>...</th>\n",
              "      <td>...</td>\n",
              "    </tr>\n",
              "    <tr>\n",
              "      <th>355</th>\n",
              "      <td>9</td>\n",
              "    </tr>\n",
              "    <tr>\n",
              "      <th>534</th>\n",
              "      <td>1</td>\n",
              "    </tr>\n",
              "    <tr>\n",
              "      <th>344</th>\n",
              "      <td>8</td>\n",
              "    </tr>\n",
              "    <tr>\n",
              "      <th>296</th>\n",
              "      <td>2</td>\n",
              "    </tr>\n",
              "    <tr>\n",
              "      <th>462</th>\n",
              "      <td>8</td>\n",
              "    </tr>\n",
              "  </tbody>\n",
              "</table>\n",
              "<p>154 rows × 1 columns</p>\n",
              "</div>\n",
              "      <button class=\"colab-df-convert\" onclick=\"convertToInteractive('df-ef174d53-64c1-4c88-a8c8-471f3332a9c0')\"\n",
              "              title=\"Convert this dataframe to an interactive table.\"\n",
              "              style=\"display:none;\">\n",
              "        \n",
              "  <svg xmlns=\"http://www.w3.org/2000/svg\" height=\"24px\"viewBox=\"0 0 24 24\"\n",
              "       width=\"24px\">\n",
              "    <path d=\"M0 0h24v24H0V0z\" fill=\"none\"/>\n",
              "    <path d=\"M18.56 5.44l.94 2.06.94-2.06 2.06-.94-2.06-.94-.94-2.06-.94 2.06-2.06.94zm-11 1L8.5 8.5l.94-2.06 2.06-.94-2.06-.94L8.5 2.5l-.94 2.06-2.06.94zm10 10l.94 2.06.94-2.06 2.06-.94-2.06-.94-.94-2.06-.94 2.06-2.06.94z\"/><path d=\"M17.41 7.96l-1.37-1.37c-.4-.4-.92-.59-1.43-.59-.52 0-1.04.2-1.43.59L10.3 9.45l-7.72 7.72c-.78.78-.78 2.05 0 2.83L4 21.41c.39.39.9.59 1.41.59.51 0 1.02-.2 1.41-.59l7.78-7.78 2.81-2.81c.8-.78.8-2.07 0-2.86zM5.41 20L4 18.59l7.72-7.72 1.47 1.35L5.41 20z\"/>\n",
              "  </svg>\n",
              "      </button>\n",
              "      \n",
              "  <style>\n",
              "    .colab-df-container {\n",
              "      display:flex;\n",
              "      flex-wrap:wrap;\n",
              "      gap: 12px;\n",
              "    }\n",
              "\n",
              "    .colab-df-convert {\n",
              "      background-color: #E8F0FE;\n",
              "      border: none;\n",
              "      border-radius: 50%;\n",
              "      cursor: pointer;\n",
              "      display: none;\n",
              "      fill: #1967D2;\n",
              "      height: 32px;\n",
              "      padding: 0 0 0 0;\n",
              "      width: 32px;\n",
              "    }\n",
              "\n",
              "    .colab-df-convert:hover {\n",
              "      background-color: #E2EBFA;\n",
              "      box-shadow: 0px 1px 2px rgba(60, 64, 67, 0.3), 0px 1px 3px 1px rgba(60, 64, 67, 0.15);\n",
              "      fill: #174EA6;\n",
              "    }\n",
              "\n",
              "    [theme=dark] .colab-df-convert {\n",
              "      background-color: #3B4455;\n",
              "      fill: #D2E3FC;\n",
              "    }\n",
              "\n",
              "    [theme=dark] .colab-df-convert:hover {\n",
              "      background-color: #434B5C;\n",
              "      box-shadow: 0px 1px 3px 1px rgba(0, 0, 0, 0.15);\n",
              "      filter: drop-shadow(0px 1px 2px rgba(0, 0, 0, 0.3));\n",
              "      fill: #FFFFFF;\n",
              "    }\n",
              "  </style>\n",
              "\n",
              "      <script>\n",
              "        const buttonEl =\n",
              "          document.querySelector('#df-ef174d53-64c1-4c88-a8c8-471f3332a9c0 button.colab-df-convert');\n",
              "        buttonEl.style.display =\n",
              "          google.colab.kernel.accessAllowed ? 'block' : 'none';\n",
              "\n",
              "        async function convertToInteractive(key) {\n",
              "          const element = document.querySelector('#df-ef174d53-64c1-4c88-a8c8-471f3332a9c0');\n",
              "          const dataTable =\n",
              "            await google.colab.kernel.invokeFunction('convertToInteractive',\n",
              "                                                     [key], {});\n",
              "          if (!dataTable) return;\n",
              "\n",
              "          const docLinkHtml = 'Like what you see? Visit the ' +\n",
              "            '<a target=\"_blank\" href=https://colab.research.google.com/notebooks/data_table.ipynb>data table notebook</a>'\n",
              "            + ' to learn more about interactive tables.';\n",
              "          element.innerHTML = '';\n",
              "          dataTable['output_type'] = 'display_data';\n",
              "          await google.colab.output.renderOutput(dataTable, element);\n",
              "          const docLink = document.createElement('div');\n",
              "          docLink.innerHTML = docLinkHtml;\n",
              "          element.appendChild(docLink);\n",
              "        }\n",
              "      </script>\n",
              "    </div>\n",
              "  </div>\n",
              "  "
            ]
          },
          "metadata": {},
          "execution_count": 614
        }
      ]
    },
    {
      "cell_type": "code",
      "source": [
        ""
      ],
      "metadata": {
        "id": "GEFaprKQMPPO"
      },
      "execution_count": 614,
      "outputs": []
    },
    {
      "cell_type": "markdown",
      "source": [
        "Data Standardization / Normalization "
      ],
      "metadata": {
        "id": "D70SUwrpqO60"
      }
    },
    {
      "cell_type": "code",
      "source": [
        "means  = np.mean(x_train, axis=0)   #Conmpute average (mean)\n",
        "stds = np.std(x_train, axis=0)      #Compute standard deviation\n",
        "\n",
        "x_train = (x_train - means) / stds   #Normalize data values in training set\n",
        "x_test = (x_test - means)/ stds      # Normalize data values in test_set"
      ],
      "metadata": {
        "id": "3o5rhr8lMKqR"
      },
      "execution_count": 615,
      "outputs": []
    },
    {
      "cell_type": "code",
      "source": [
        "x_train"
      ],
      "metadata": {
        "id": "ay6iIzCTNjk0",
        "outputId": "afa99f4d-e240-401f-a4a3-287d4a6dea28",
        "colab": {
          "base_uri": "https://localhost:8080/",
          "height": 423
        }
      },
      "execution_count": 616,
      "outputs": [
        {
          "output_type": "execute_result",
          "data": {
            "text/plain": [
              "     Pregnancies\n",
              "60     -0.526397\n",
              "618     1.588046\n",
              "346    -0.828460\n",
              "294    -1.130523\n",
              "231     0.681856\n",
              "..           ...\n",
              "71      0.379793\n",
              "106    -0.828460\n",
              "270     1.890109\n",
              "435    -1.130523\n",
              "102    -1.130523\n",
              "\n",
              "[614 rows x 1 columns]"
            ],
            "text/html": [
              "\n",
              "  <div id=\"df-1a77dfce-8f6d-4f9a-a0c7-771944a2ec63\">\n",
              "    <div class=\"colab-df-container\">\n",
              "      <div>\n",
              "<style scoped>\n",
              "    .dataframe tbody tr th:only-of-type {\n",
              "        vertical-align: middle;\n",
              "    }\n",
              "\n",
              "    .dataframe tbody tr th {\n",
              "        vertical-align: top;\n",
              "    }\n",
              "\n",
              "    .dataframe thead th {\n",
              "        text-align: right;\n",
              "    }\n",
              "</style>\n",
              "<table border=\"1\" class=\"dataframe\">\n",
              "  <thead>\n",
              "    <tr style=\"text-align: right;\">\n",
              "      <th></th>\n",
              "      <th>Pregnancies</th>\n",
              "    </tr>\n",
              "  </thead>\n",
              "  <tbody>\n",
              "    <tr>\n",
              "      <th>60</th>\n",
              "      <td>-0.526397</td>\n",
              "    </tr>\n",
              "    <tr>\n",
              "      <th>618</th>\n",
              "      <td>1.588046</td>\n",
              "    </tr>\n",
              "    <tr>\n",
              "      <th>346</th>\n",
              "      <td>-0.828460</td>\n",
              "    </tr>\n",
              "    <tr>\n",
              "      <th>294</th>\n",
              "      <td>-1.130523</td>\n",
              "    </tr>\n",
              "    <tr>\n",
              "      <th>231</th>\n",
              "      <td>0.681856</td>\n",
              "    </tr>\n",
              "    <tr>\n",
              "      <th>...</th>\n",
              "      <td>...</td>\n",
              "    </tr>\n",
              "    <tr>\n",
              "      <th>71</th>\n",
              "      <td>0.379793</td>\n",
              "    </tr>\n",
              "    <tr>\n",
              "      <th>106</th>\n",
              "      <td>-0.828460</td>\n",
              "    </tr>\n",
              "    <tr>\n",
              "      <th>270</th>\n",
              "      <td>1.890109</td>\n",
              "    </tr>\n",
              "    <tr>\n",
              "      <th>435</th>\n",
              "      <td>-1.130523</td>\n",
              "    </tr>\n",
              "    <tr>\n",
              "      <th>102</th>\n",
              "      <td>-1.130523</td>\n",
              "    </tr>\n",
              "  </tbody>\n",
              "</table>\n",
              "<p>614 rows × 1 columns</p>\n",
              "</div>\n",
              "      <button class=\"colab-df-convert\" onclick=\"convertToInteractive('df-1a77dfce-8f6d-4f9a-a0c7-771944a2ec63')\"\n",
              "              title=\"Convert this dataframe to an interactive table.\"\n",
              "              style=\"display:none;\">\n",
              "        \n",
              "  <svg xmlns=\"http://www.w3.org/2000/svg\" height=\"24px\"viewBox=\"0 0 24 24\"\n",
              "       width=\"24px\">\n",
              "    <path d=\"M0 0h24v24H0V0z\" fill=\"none\"/>\n",
              "    <path d=\"M18.56 5.44l.94 2.06.94-2.06 2.06-.94-2.06-.94-.94-2.06-.94 2.06-2.06.94zm-11 1L8.5 8.5l.94-2.06 2.06-.94-2.06-.94L8.5 2.5l-.94 2.06-2.06.94zm10 10l.94 2.06.94-2.06 2.06-.94-2.06-.94-.94-2.06-.94 2.06-2.06.94z\"/><path d=\"M17.41 7.96l-1.37-1.37c-.4-.4-.92-.59-1.43-.59-.52 0-1.04.2-1.43.59L10.3 9.45l-7.72 7.72c-.78.78-.78 2.05 0 2.83L4 21.41c.39.39.9.59 1.41.59.51 0 1.02-.2 1.41-.59l7.78-7.78 2.81-2.81c.8-.78.8-2.07 0-2.86zM5.41 20L4 18.59l7.72-7.72 1.47 1.35L5.41 20z\"/>\n",
              "  </svg>\n",
              "      </button>\n",
              "      \n",
              "  <style>\n",
              "    .colab-df-container {\n",
              "      display:flex;\n",
              "      flex-wrap:wrap;\n",
              "      gap: 12px;\n",
              "    }\n",
              "\n",
              "    .colab-df-convert {\n",
              "      background-color: #E8F0FE;\n",
              "      border: none;\n",
              "      border-radius: 50%;\n",
              "      cursor: pointer;\n",
              "      display: none;\n",
              "      fill: #1967D2;\n",
              "      height: 32px;\n",
              "      padding: 0 0 0 0;\n",
              "      width: 32px;\n",
              "    }\n",
              "\n",
              "    .colab-df-convert:hover {\n",
              "      background-color: #E2EBFA;\n",
              "      box-shadow: 0px 1px 2px rgba(60, 64, 67, 0.3), 0px 1px 3px 1px rgba(60, 64, 67, 0.15);\n",
              "      fill: #174EA6;\n",
              "    }\n",
              "\n",
              "    [theme=dark] .colab-df-convert {\n",
              "      background-color: #3B4455;\n",
              "      fill: #D2E3FC;\n",
              "    }\n",
              "\n",
              "    [theme=dark] .colab-df-convert:hover {\n",
              "      background-color: #434B5C;\n",
              "      box-shadow: 0px 1px 3px 1px rgba(0, 0, 0, 0.15);\n",
              "      filter: drop-shadow(0px 1px 2px rgba(0, 0, 0, 0.3));\n",
              "      fill: #FFFFFF;\n",
              "    }\n",
              "  </style>\n",
              "\n",
              "      <script>\n",
              "        const buttonEl =\n",
              "          document.querySelector('#df-1a77dfce-8f6d-4f9a-a0c7-771944a2ec63 button.colab-df-convert');\n",
              "        buttonEl.style.display =\n",
              "          google.colab.kernel.accessAllowed ? 'block' : 'none';\n",
              "\n",
              "        async function convertToInteractive(key) {\n",
              "          const element = document.querySelector('#df-1a77dfce-8f6d-4f9a-a0c7-771944a2ec63');\n",
              "          const dataTable =\n",
              "            await google.colab.kernel.invokeFunction('convertToInteractive',\n",
              "                                                     [key], {});\n",
              "          if (!dataTable) return;\n",
              "\n",
              "          const docLinkHtml = 'Like what you see? Visit the ' +\n",
              "            '<a target=\"_blank\" href=https://colab.research.google.com/notebooks/data_table.ipynb>data table notebook</a>'\n",
              "            + ' to learn more about interactive tables.';\n",
              "          element.innerHTML = '';\n",
              "          dataTable['output_type'] = 'display_data';\n",
              "          await google.colab.output.renderOutput(dataTable, element);\n",
              "          const docLink = document.createElement('div');\n",
              "          docLink.innerHTML = docLinkHtml;\n",
              "          element.appendChild(docLink);\n",
              "        }\n",
              "      </script>\n",
              "    </div>\n",
              "  </div>\n",
              "  "
            ]
          },
          "metadata": {},
          "execution_count": 616
        }
      ]
    },
    {
      "cell_type": "code",
      "source": [
        "x_test"
      ],
      "metadata": {
        "id": "jOiEePp2NoHp",
        "outputId": "b5e30963-d368-4a8b-d822-c01d862850b8",
        "colab": {
          "base_uri": "https://localhost:8080/",
          "height": 423
        }
      },
      "execution_count": 617,
      "outputs": [
        {
          "output_type": "execute_result",
          "data": {
            "text/plain": [
              "     Pregnancies\n",
              "668     0.681856\n",
              "324    -0.526397\n",
              "624    -0.526397\n",
              "690     1.285983\n",
              "473     0.983919\n",
              "..           ...\n",
              "355     1.588046\n",
              "534    -0.828460\n",
              "344     1.285983\n",
              "296    -0.526397\n",
              "462     1.285983\n",
              "\n",
              "[154 rows x 1 columns]"
            ],
            "text/html": [
              "\n",
              "  <div id=\"df-dbba7b5f-15e3-4cb7-a246-b9dd057a70c7\">\n",
              "    <div class=\"colab-df-container\">\n",
              "      <div>\n",
              "<style scoped>\n",
              "    .dataframe tbody tr th:only-of-type {\n",
              "        vertical-align: middle;\n",
              "    }\n",
              "\n",
              "    .dataframe tbody tr th {\n",
              "        vertical-align: top;\n",
              "    }\n",
              "\n",
              "    .dataframe thead th {\n",
              "        text-align: right;\n",
              "    }\n",
              "</style>\n",
              "<table border=\"1\" class=\"dataframe\">\n",
              "  <thead>\n",
              "    <tr style=\"text-align: right;\">\n",
              "      <th></th>\n",
              "      <th>Pregnancies</th>\n",
              "    </tr>\n",
              "  </thead>\n",
              "  <tbody>\n",
              "    <tr>\n",
              "      <th>668</th>\n",
              "      <td>0.681856</td>\n",
              "    </tr>\n",
              "    <tr>\n",
              "      <th>324</th>\n",
              "      <td>-0.526397</td>\n",
              "    </tr>\n",
              "    <tr>\n",
              "      <th>624</th>\n",
              "      <td>-0.526397</td>\n",
              "    </tr>\n",
              "    <tr>\n",
              "      <th>690</th>\n",
              "      <td>1.285983</td>\n",
              "    </tr>\n",
              "    <tr>\n",
              "      <th>473</th>\n",
              "      <td>0.983919</td>\n",
              "    </tr>\n",
              "    <tr>\n",
              "      <th>...</th>\n",
              "      <td>...</td>\n",
              "    </tr>\n",
              "    <tr>\n",
              "      <th>355</th>\n",
              "      <td>1.588046</td>\n",
              "    </tr>\n",
              "    <tr>\n",
              "      <th>534</th>\n",
              "      <td>-0.828460</td>\n",
              "    </tr>\n",
              "    <tr>\n",
              "      <th>344</th>\n",
              "      <td>1.285983</td>\n",
              "    </tr>\n",
              "    <tr>\n",
              "      <th>296</th>\n",
              "      <td>-0.526397</td>\n",
              "    </tr>\n",
              "    <tr>\n",
              "      <th>462</th>\n",
              "      <td>1.285983</td>\n",
              "    </tr>\n",
              "  </tbody>\n",
              "</table>\n",
              "<p>154 rows × 1 columns</p>\n",
              "</div>\n",
              "      <button class=\"colab-df-convert\" onclick=\"convertToInteractive('df-dbba7b5f-15e3-4cb7-a246-b9dd057a70c7')\"\n",
              "              title=\"Convert this dataframe to an interactive table.\"\n",
              "              style=\"display:none;\">\n",
              "        \n",
              "  <svg xmlns=\"http://www.w3.org/2000/svg\" height=\"24px\"viewBox=\"0 0 24 24\"\n",
              "       width=\"24px\">\n",
              "    <path d=\"M0 0h24v24H0V0z\" fill=\"none\"/>\n",
              "    <path d=\"M18.56 5.44l.94 2.06.94-2.06 2.06-.94-2.06-.94-.94-2.06-.94 2.06-2.06.94zm-11 1L8.5 8.5l.94-2.06 2.06-.94-2.06-.94L8.5 2.5l-.94 2.06-2.06.94zm10 10l.94 2.06.94-2.06 2.06-.94-2.06-.94-.94-2.06-.94 2.06-2.06.94z\"/><path d=\"M17.41 7.96l-1.37-1.37c-.4-.4-.92-.59-1.43-.59-.52 0-1.04.2-1.43.59L10.3 9.45l-7.72 7.72c-.78.78-.78 2.05 0 2.83L4 21.41c.39.39.9.59 1.41.59.51 0 1.02-.2 1.41-.59l7.78-7.78 2.81-2.81c.8-.78.8-2.07 0-2.86zM5.41 20L4 18.59l7.72-7.72 1.47 1.35L5.41 20z\"/>\n",
              "  </svg>\n",
              "      </button>\n",
              "      \n",
              "  <style>\n",
              "    .colab-df-container {\n",
              "      display:flex;\n",
              "      flex-wrap:wrap;\n",
              "      gap: 12px;\n",
              "    }\n",
              "\n",
              "    .colab-df-convert {\n",
              "      background-color: #E8F0FE;\n",
              "      border: none;\n",
              "      border-radius: 50%;\n",
              "      cursor: pointer;\n",
              "      display: none;\n",
              "      fill: #1967D2;\n",
              "      height: 32px;\n",
              "      padding: 0 0 0 0;\n",
              "      width: 32px;\n",
              "    }\n",
              "\n",
              "    .colab-df-convert:hover {\n",
              "      background-color: #E2EBFA;\n",
              "      box-shadow: 0px 1px 2px rgba(60, 64, 67, 0.3), 0px 1px 3px 1px rgba(60, 64, 67, 0.15);\n",
              "      fill: #174EA6;\n",
              "    }\n",
              "\n",
              "    [theme=dark] .colab-df-convert {\n",
              "      background-color: #3B4455;\n",
              "      fill: #D2E3FC;\n",
              "    }\n",
              "\n",
              "    [theme=dark] .colab-df-convert:hover {\n",
              "      background-color: #434B5C;\n",
              "      box-shadow: 0px 1px 3px 1px rgba(0, 0, 0, 0.15);\n",
              "      filter: drop-shadow(0px 1px 2px rgba(0, 0, 0, 0.3));\n",
              "      fill: #FFFFFF;\n",
              "    }\n",
              "  </style>\n",
              "\n",
              "      <script>\n",
              "        const buttonEl =\n",
              "          document.querySelector('#df-dbba7b5f-15e3-4cb7-a246-b9dd057a70c7 button.colab-df-convert');\n",
              "        buttonEl.style.display =\n",
              "          google.colab.kernel.accessAllowed ? 'block' : 'none';\n",
              "\n",
              "        async function convertToInteractive(key) {\n",
              "          const element = document.querySelector('#df-dbba7b5f-15e3-4cb7-a246-b9dd057a70c7');\n",
              "          const dataTable =\n",
              "            await google.colab.kernel.invokeFunction('convertToInteractive',\n",
              "                                                     [key], {});\n",
              "          if (!dataTable) return;\n",
              "\n",
              "          const docLinkHtml = 'Like what you see? Visit the ' +\n",
              "            '<a target=\"_blank\" href=https://colab.research.google.com/notebooks/data_table.ipynb>data table notebook</a>'\n",
              "            + ' to learn more about interactive tables.';\n",
              "          element.innerHTML = '';\n",
              "          dataTable['output_type'] = 'display_data';\n",
              "          await google.colab.output.renderOutput(dataTable, element);\n",
              "          const docLink = document.createElement('div');\n",
              "          docLink.innerHTML = docLinkHtml;\n",
              "          element.appendChild(docLink);\n",
              "        }\n",
              "      </script>\n",
              "    </div>\n",
              "  </div>\n",
              "  "
            ]
          },
          "metadata": {},
          "execution_count": 617
        }
      ]
    },
    {
      "cell_type": "code",
      "source": [
        "#scaler variable \n",
        "scaler = StandardScaler()\n"
      ],
      "metadata": {
        "id": "KJdeE0liqSfA"
      },
      "execution_count": 618,
      "outputs": []
    },
    {
      "cell_type": "code",
      "source": [
        "scaler.fit(X)"
      ],
      "metadata": {
        "colab": {
          "base_uri": "https://localhost:8080/"
        },
        "id": "DlwjH7TZrSTv",
        "outputId": "f5633708-286c-4152-a29d-b6287bd73c26"
      },
      "execution_count": 619,
      "outputs": [
        {
          "output_type": "execute_result",
          "data": {
            "text/plain": [
              "StandardScaler()"
            ]
          },
          "metadata": {},
          "execution_count": 619
        }
      ]
    },
    {
      "cell_type": "code",
      "source": [
        "standardized_data = scaler.transform(X)"
      ],
      "metadata": {
        "id": "MhrH7a7Br1Gy"
      },
      "execution_count": 620,
      "outputs": []
    },
    {
      "cell_type": "code",
      "source": [
        "print(standardized_data)\n"
      ],
      "metadata": {
        "colab": {
          "base_uri": "https://localhost:8080/"
        },
        "id": "3BrRywohsJbp",
        "outputId": "98711387-303e-4be6-c6dc-cc6ea14ffb33"
      },
      "execution_count": 621,
      "outputs": [
        {
          "output_type": "stream",
          "name": "stdout",
          "text": [
            "[[ 0.63994726  0.84832379  0.14964075 ...  0.20401277  0.46849198\n",
            "   1.4259954 ]\n",
            " [-0.84488505 -1.12339636 -0.16054575 ... -0.68442195 -0.36506078\n",
            "  -0.19067191]\n",
            " [ 1.23388019  1.94372388 -0.26394125 ... -1.10325546  0.60439732\n",
            "  -0.10558415]\n",
            " ...\n",
            " [ 0.3429808   0.00330087  0.14964075 ... -0.73518964 -0.68519336\n",
            "  -0.27575966]\n",
            " [-0.84488505  0.1597866  -0.47073225 ... -0.24020459 -0.37110101\n",
            "   1.17073215]\n",
            " [-0.84488505 -0.8730192   0.04624525 ... -0.20212881 -0.47378505\n",
            "  -0.87137393]]\n"
          ]
        }
      ]
    },
    {
      "cell_type": "code",
      "source": [
        "X = standardized_data\n",
        "Y = konstrnt_stud['Outcome']"
      ],
      "metadata": {
        "id": "qmH64DsJszoE"
      },
      "execution_count": 622,
      "outputs": []
    },
    {
      "cell_type": "code",
      "source": [
        "print(X)\n",
        "print(Y)"
      ],
      "metadata": {
        "colab": {
          "base_uri": "https://localhost:8080/"
        },
        "id": "joOzHxLttKjt",
        "outputId": "b6263164-f467-4d7e-c3f1-46a491130514"
      },
      "execution_count": 623,
      "outputs": [
        {
          "output_type": "stream",
          "name": "stdout",
          "text": [
            "[[ 0.63994726  0.84832379  0.14964075 ...  0.20401277  0.46849198\n",
            "   1.4259954 ]\n",
            " [-0.84488505 -1.12339636 -0.16054575 ... -0.68442195 -0.36506078\n",
            "  -0.19067191]\n",
            " [ 1.23388019  1.94372388 -0.26394125 ... -1.10325546  0.60439732\n",
            "  -0.10558415]\n",
            " ...\n",
            " [ 0.3429808   0.00330087  0.14964075 ... -0.73518964 -0.68519336\n",
            "  -0.27575966]\n",
            " [-0.84488505  0.1597866  -0.47073225 ... -0.24020459 -0.37110101\n",
            "   1.17073215]\n",
            " [-0.84488505 -0.8730192   0.04624525 ... -0.20212881 -0.47378505\n",
            "  -0.87137393]]\n",
            "0      1\n",
            "1      0\n",
            "2      1\n",
            "3      0\n",
            "4      1\n",
            "      ..\n",
            "763    0\n",
            "764    0\n",
            "765    0\n",
            "766    1\n",
            "767    0\n",
            "Name: Outcome, Length: 768, dtype: int64\n"
          ]
        }
      ]
    },
    {
      "cell_type": "markdown",
      "source": [
        "Train Test Split "
      ],
      "metadata": {
        "id": "nlU9Kv3StT_C"
      }
    },
    {
      "cell_type": "code",
      "source": [
        "# name varibles \n",
        "X_train, X_test, Y_train, Y_test = train_test_split(X,Y, test_size = 0.2, stratify=Y, random_state=2)"
      ],
      "metadata": {
        "id": "XIy45oXktSg5"
      },
      "execution_count": 624,
      "outputs": []
    },
    {
      "cell_type": "code",
      "source": [
        "print(X.shape, X_train.shape, X_test.shape)"
      ],
      "metadata": {
        "colab": {
          "base_uri": "https://localhost:8080/"
        },
        "id": "IK4vsnN_vL-l",
        "outputId": "604814b4-7a52-41d9-b156-f6c3b84e97e5"
      },
      "execution_count": 625,
      "outputs": [
        {
          "output_type": "stream",
          "name": "stdout",
          "text": [
            "(768, 8) (614, 8) (154, 8)\n"
          ]
        }
      ]
    },
    {
      "cell_type": "markdown",
      "source": [
        "#Training the model "
      ],
      "metadata": {
        "id": "QijMGYIN4PE3"
      }
    },
    {
      "cell_type": "code",
      "source": [
        "#Train logistic regression model \n",
        "model = LogisticRegression()\n",
        "model.fit(x_train, y_train)"
      ],
      "metadata": {
        "id": "RolhiHrRODWw",
        "outputId": "a3aba4f2-0586-478d-a3eb-7dd5c8f6a643",
        "colab": {
          "base_uri": "https://localhost:8080/"
        }
      },
      "execution_count": 626,
      "outputs": [
        {
          "output_type": "execute_result",
          "data": {
            "text/plain": [
              "LogisticRegression()"
            ]
          },
          "metadata": {},
          "execution_count": 626
        }
      ]
    },
    {
      "cell_type": "markdown",
      "source": [
        "#Logistic Regression Model Evaluation\n",
        "Model performance metrics"
      ],
      "metadata": {
        "id": "vWSC8o-POgmY"
      }
    },
    {
      "cell_type": "code",
      "source": [
        "#Test the Model \n",
        "predictionss = model.predict(x_test)\n",
        "\n",
        "#Check precision, recall, F1 score\n",
        "print(classification_report(y_test, predictions))"
      ],
      "metadata": {
        "id": "Gjh-M2DLOYqn",
        "outputId": "78d74c8d-0f4f-4e6c-f406-cd61df156bf7",
        "colab": {
          "base_uri": "https://localhost:8080/"
        }
      },
      "execution_count": 627,
      "outputs": [
        {
          "output_type": "stream",
          "name": "stdout",
          "text": [
            "              precision    recall  f1-score   support\n",
            "\n",
            "           0       0.70      0.93      0.80        99\n",
            "           1       0.68      0.27      0.39        55\n",
            "\n",
            "    accuracy                           0.69       154\n",
            "   macro avg       0.69      0.60      0.59       154\n",
            "weighted avg       0.69      0.69      0.65       154\n",
            "\n"
          ]
        }
      ]
    },
    {
      "cell_type": "code",
      "source": [
        "#Display coefficients\n",
        "coeff = list(model.coef_[0])\n",
        "coeff"
      ],
      "metadata": {
        "id": "BcjRNT_PRHft",
        "outputId": "3cd8a229-50ab-4c52-9548-fe280adf7b4c",
        "colab": {
          "base_uri": "https://localhost:8080/"
        }
      },
      "execution_count": 628,
      "outputs": [
        {
          "output_type": "execute_result",
          "data": {
            "text/plain": [
              "[0.4279499582872261]"
            ]
          },
          "metadata": {},
          "execution_count": 628
        }
      ]
    },
    {
      "cell_type": "code",
      "source": [
        "#Extract feature names\n",
        "labels = list(dataset.drop('Outcome',1).columns)\n",
        "labels"
      ],
      "metadata": {
        "id": "2sAN23VXRYbP",
        "outputId": "2d70e665-91ad-46bc-bc71-313fe3ce75df",
        "colab": {
          "base_uri": "https://localhost:8080/"
        }
      },
      "execution_count": 629,
      "outputs": [
        {
          "output_type": "stream",
          "name": "stderr",
          "text": [
            "/usr/local/lib/python3.7/dist-packages/ipykernel_launcher.py:2: FutureWarning: In a future version of pandas all arguments of DataFrame.drop except for the argument 'labels' will be keyword-only\n",
            "  \n"
          ]
        },
        {
          "output_type": "execute_result",
          "data": {
            "text/plain": [
              "['Pregnancies',\n",
              " 'Glucose',\n",
              " 'BloodPressure',\n",
              " 'SkinThickness',\n",
              " 'Insulin',\n",
              " 'BMI',\n",
              " 'DiabetesPedigreeFunction',\n",
              " 'Age']"
            ]
          },
          "metadata": {},
          "execution_count": 629
        }
      ]
    },
    {
      "cell_type": "markdown",
      "source": [
        "#Logistic Regression Model Accuracy \n"
      ],
      "metadata": {
        "id": "hX4Ls1c-RxlS"
      }
    },
    {
      "cell_type": "code",
      "source": [
        "#Calculate model acuracy \n",
        "accuracy = model.score(x_test, y_test)\n",
        "print(\"accuracy -\", accuracy * 100, \"%\")"
      ],
      "metadata": {
        "id": "wgNnJA7vR6xh",
        "outputId": "ea19ed00-5ffd-46bb-c5c5-8a346d44669a",
        "colab": {
          "base_uri": "https://localhost:8080/"
        }
      },
      "execution_count": 630,
      "outputs": [
        {
          "output_type": "stream",
          "name": "stdout",
          "text": [
            "accuracy - 69.48051948051948 %\n"
          ]
        }
      ]
    },
    {
      "cell_type": "markdown",
      "source": [
        "#Logistic Regression Confusion Matrix"
      ],
      "metadata": {
        "id": "tt-Rao0kSxJk"
      }
    },
    {
      "cell_type": "code",
      "source": [
        "confusion_matrix(y_test, predictions)"
      ],
      "metadata": {
        "id": "JBgBgNIxS70S",
        "outputId": "3e7a3e16-a3a7-471a-e83c-15b59b4a541e",
        "colab": {
          "base_uri": "https://localhost:8080/"
        }
      },
      "execution_count": 649,
      "outputs": [
        {
          "output_type": "execute_result",
          "data": {
            "text/plain": [
              "array([[92,  7],\n",
              "       [40, 15]])"
            ]
          },
          "metadata": {},
          "execution_count": 649
        }
      ]
    },
    {
      "cell_type": "code",
      "source": [
        ""
      ],
      "metadata": {
        "id": "S9GsGY4qS3iR"
      },
      "execution_count": 630,
      "outputs": []
    },
    {
      "cell_type": "markdown",
      "source": [
        "#Linear Regression Model Evaluation"
      ],
      "metadata": {
        "id": "PgdvpFYb6OC0"
      }
    },
    {
      "cell_type": "code",
      "source": [
        "classifier = svm.SVC(kernel='linear')"
      ],
      "metadata": {
        "id": "8axM1Ieu4tzF"
      },
      "execution_count": 631,
      "outputs": []
    },
    {
      "cell_type": "code",
      "source": [
        "#training the support vector Machine Classiifier\n",
        "classifier.fit(X_train, Y_train)"
      ],
      "metadata": {
        "colab": {
          "base_uri": "https://localhost:8080/"
        },
        "id": "HE98hX9q5u5R",
        "outputId": "60915779-ddfc-482f-96d7-42d6487453b4"
      },
      "execution_count": 632,
      "outputs": [
        {
          "output_type": "execute_result",
          "data": {
            "text/plain": [
              "SVC(kernel='linear')"
            ]
          },
          "metadata": {},
          "execution_count": 632
        }
      ]
    },
    {
      "cell_type": "markdown",
      "source": [
        "Accuracy Score "
      ],
      "metadata": {
        "id": "meUPyo4X6SCt"
      }
    },
    {
      "cell_type": "code",
      "source": [
        "#accuracy score on the training data"
      ],
      "metadata": {
        "id": "ZbIUs0Yb6P1M"
      },
      "execution_count": 633,
      "outputs": []
    },
    {
      "cell_type": "code",
      "source": [
        "X_train_prediction = classifier.predict(X_train)\n",
        "training_data_accuracy = accuracy_score(X_train_prediction, Y_train)"
      ],
      "metadata": {
        "id": "-68W1V546IKT"
      },
      "execution_count": 634,
      "outputs": []
    },
    {
      "cell_type": "code",
      "source": [
        "print('Accuracy score of the training data : ', training_data_accuracy)"
      ],
      "metadata": {
        "colab": {
          "base_uri": "https://localhost:8080/"
        },
        "id": "ZnheFoCC8Feq",
        "outputId": "4b566fbc-4c2a-48ef-8056-7e1b5d56070c"
      },
      "execution_count": 635,
      "outputs": [
        {
          "output_type": "stream",
          "name": "stdout",
          "text": [
            "Accuracy score of the training data :  0.7866449511400652\n"
          ]
        }
      ]
    },
    {
      "cell_type": "code",
      "source": [
        "X_test_prediction = classifier.predict(X_test)\n",
        "test_data_accuracy = accuracy_score(X_test_prediction, Y_test)"
      ],
      "metadata": {
        "id": "yFIPdtmX8dYc"
      },
      "execution_count": 636,
      "outputs": []
    },
    {
      "cell_type": "code",
      "source": [
        "print('Accuracy score of the test data : ', test_data_accuracy)"
      ],
      "metadata": {
        "colab": {
          "base_uri": "https://localhost:8080/"
        },
        "id": "kZnauJJK87EG",
        "outputId": "a88c2523-f684-43e8-9bdf-f80aeeee6c36"
      },
      "execution_count": 637,
      "outputs": [
        {
          "output_type": "stream",
          "name": "stdout",
          "text": [
            "Accuracy score of the test data :  0.7727272727272727\n"
          ]
        }
      ]
    },
    {
      "cell_type": "markdown",
      "source": [
        "Making a predictiive System "
      ],
      "metadata": {
        "id": "LvaG7uVL9tay"
      }
    },
    {
      "cell_type": "code",
      "source": [
        "input_data = (8,99,84,0,0,35.4,0.388,50)\n",
        "\n",
        "#changing the input data to nupy array\n",
        "input_data_as_numpy_array = np.array(input_data)\n",
        "\n",
        "#reshape the array as we are prdicting for one instance \n",
        "input_data_reshaped = input_data_as_numpy_array.reshape(1,-1)\n",
        "                                            \n",
        "#standardized the input data\n",
        "std_data = scaler.transform(input_data_reshaped)\n",
        "print(std_data)\n",
        "\n",
        "prediction = classifier.predict(std_data)\n",
        "print(prediction)"
      ],
      "metadata": {
        "colab": {
          "base_uri": "https://localhost:8080/"
        },
        "id": "3c8Jslqb91sa",
        "outputId": "ab9c45f0-205c-4a95-d82f-e4b4396720be"
      },
      "execution_count": 638,
      "outputs": [
        {
          "output_type": "stream",
          "name": "stdout",
          "text": [
            "[[ 1.23388019 -0.68523633  0.77001375 -1.28821221 -0.69289057  0.43246741\n",
            "  -0.25331639  1.4259954 ]]\n",
            "[0]\n"
          ]
        },
        {
          "output_type": "stream",
          "name": "stderr",
          "text": [
            "/usr/local/lib/python3.7/dist-packages/sklearn/base.py:451: UserWarning: X does not have valid feature names, but StandardScaler was fitted with feature names\n",
            "  \"X does not have valid feature names, but\"\n"
          ]
        }
      ]
    },
    {
      "cell_type": "code",
      "source": [
        "konstrnt_stud.groupby('SkinThickness').mean()"
      ],
      "metadata": {
        "colab": {
          "base_uri": "https://localhost:8080/",
          "height": 1000
        },
        "id": "XPKzl5pBnkSx",
        "outputId": "4efed0b4-7d87-4178-c4f0-93c6ce9f34d4"
      },
      "execution_count": 639,
      "outputs": [
        {
          "output_type": "execute_result",
          "data": {
            "text/plain": [
              "               Pregnancies     Glucose  BloodPressure     Insulin        BMI  \\\n",
              "SkinThickness                                                                  \n",
              "0                 4.638767  123.449339      64.118943    0.000000  30.129956   \n",
              "7                 9.000000  110.500000      76.000000  292.000000  23.600000   \n",
              "8                 1.000000   99.500000      64.000000   91.000000  24.950000   \n",
              "10                1.400000   93.400000      54.400000   79.800000  26.200000   \n",
              "11                2.166667   98.333333      72.666667   69.166667  25.083333   \n",
              "12                2.571429  109.000000      70.285714   79.285714  25.671429   \n",
              "13                1.636364  109.363636      61.090909   97.636364  22.954545   \n",
              "14                1.500000  135.666667      69.666667  176.500000  26.783333   \n",
              "15                2.928571  118.642857      72.071429   78.785714  26.878571   \n",
              "16                1.833333  110.333333      69.666667  103.666667  27.983333   \n",
              "17                2.785714  115.000000      69.428571  103.000000  26.385714   \n",
              "18                2.800000  108.300000      67.800000   69.300000  27.460000   \n",
              "19                3.111111  114.944444      67.777778   62.111111  26.444444   \n",
              "20                2.538462   93.615385      63.461538   87.538462  28.238462   \n",
              "21                3.400000  125.500000      67.200000  125.000000  29.340000   \n",
              "22                2.937500  113.250000      64.437500   63.187500  28.468750   \n",
              "23                3.045455  108.636364      66.409091  118.681818  28.690909   \n",
              "24                4.250000  115.500000      73.833333  162.416667  30.041667   \n",
              "25                3.062500  113.125000      71.937500   85.812500  31.606250   \n",
              "26                4.125000  130.062500      71.875000  134.187500  32.412500   \n",
              "27                3.000000  124.956522      72.304348  104.782609  33.382609   \n",
              "28                4.050000  111.250000      70.000000   73.100000  31.795000   \n",
              "29                2.411765  127.823529      73.058824  150.647059  32.582353   \n",
              "30                3.555556  114.444444      69.296296   88.407407  33.459259   \n",
              "31                4.736842  125.105263      75.631579   47.473684  33.663158   \n",
              "32                4.387097  111.709677      69.161290   95.516129  35.793548   \n",
              "33                6.600000  144.350000      73.450000  197.250000  32.695000   \n",
              "34                4.125000  125.000000      74.250000  159.750000  32.662500   \n",
              "35                3.800000  125.866667      71.600000  138.200000  34.406667   \n",
              "36                3.500000  133.642857      73.142857  126.428571  37.850000   \n",
              "37                4.562500  119.312500      79.125000  111.812500  38.956250   \n",
              "38                3.142857  132.000000      64.857143   74.000000  32.871429   \n",
              "39                3.111111  132.666667      74.888889  145.388889  37.488889   \n",
              "40                5.625000  109.312500      71.750000   73.125000  38.662500   \n",
              "41                4.266667  118.600000      79.200000  124.333333  39.893333   \n",
              "42                2.909091  133.000000      69.272727  193.454545  40.327273   \n",
              "43                3.500000  149.666667      73.333333  146.666667  39.183333   \n",
              "44                5.000000  144.000000      78.800000  249.600000  39.980000   \n",
              "45                2.000000  126.666667      71.666667  230.333333  34.933333   \n",
              "46                2.375000  135.125000      85.750000  134.000000  43.437500   \n",
              "47                2.250000  109.500000      72.000000  138.500000  39.025000   \n",
              "48                6.000000  135.500000      80.500000  270.500000  36.950000   \n",
              "49                3.666667  143.333333      76.000000  286.333333  39.100000   \n",
              "50                1.333333  106.333333      76.666667  129.666667  36.666667   \n",
              "51                1.000000  122.000000      90.000000  220.000000  49.700000   \n",
              "52                1.500000   93.000000      68.000000   61.000000  40.900000   \n",
              "54                6.500000  126.500000      78.500000    0.000000  39.700000   \n",
              "56                0.000000  162.000000      76.000000  100.000000  53.200000   \n",
              "60                0.000000  100.000000      88.000000  110.000000  46.800000   \n",
              "63                0.000000  180.000000      78.000000   14.000000  59.400000   \n",
              "99                2.000000  197.000000      70.000000    0.000000  34.700000   \n",
              "\n",
              "               DiabetesPedigreeFunction        Age   Outcome  \n",
              "SkinThickness                                                 \n",
              "0                              0.393291  37.251101  0.387665  \n",
              "7                              0.754000  52.000000  0.500000  \n",
              "8                              1.042500  28.500000  0.000000  \n",
              "10                             0.515000  22.200000  0.000000  \n",
              "11                             0.430667  24.333333  0.000000  \n",
              "12                             0.464571  29.571429  0.142857  \n",
              "13                             0.366636  23.272727  0.090909  \n",
              "14                             0.428667  23.833333  0.333333  \n",
              "15                             0.432571  30.357143  0.071429  \n",
              "16                             0.464500  26.166667  0.000000  \n",
              "17                             0.347000  27.571429  0.142857  \n",
              "18                             0.554900  31.450000  0.200000  \n",
              "19                             0.453167  29.611111  0.166667  \n",
              "20                             0.475615  28.615385  0.153846  \n",
              "21                             0.511100  29.200000  0.200000  \n",
              "22                             0.555688  27.750000  0.250000  \n",
              "23                             0.568409  28.909091  0.181818  \n",
              "24                             0.545417  35.000000  0.500000  \n",
              "25                             0.380875  29.937500  0.312500  \n",
              "26                             0.539125  36.562500  0.375000  \n",
              "27                             0.386174  31.608696  0.304348  \n",
              "28                             0.490950  31.000000  0.250000  \n",
              "29                             0.535765  33.764706  0.411765  \n",
              "30                             0.476111  31.555556  0.333333  \n",
              "31                             0.472737  35.105263  0.315789  \n",
              "32                             0.456645  33.000000  0.451613  \n",
              "33                             0.430550  38.800000  0.450000  \n",
              "34                             0.566750  35.125000  0.375000  \n",
              "35                             0.599800  29.533333  0.533333  \n",
              "36                             0.410214  31.928571  0.571429  \n",
              "37                             0.591562  34.687500  0.500000  \n",
              "38                             0.277571  30.857143  0.285714  \n",
              "39                             0.680944  31.000000  0.444444  \n",
              "40                             0.434563  35.312500  0.312500  \n",
              "41                             0.570133  31.066667  0.466667  \n",
              "42                             0.687091  28.636364  0.545455  \n",
              "43                             0.600167  36.166667  0.333333  \n",
              "44                             0.491400  32.400000  0.600000  \n",
              "45                             0.460333  31.666667  0.500000  \n",
              "46                             0.377750  30.875000  0.625000  \n",
              "47                             0.645750  35.250000  0.500000  \n",
              "48                             1.117750  45.000000  0.500000  \n",
              "49                             0.703000  34.333333  1.000000  \n",
              "50                             0.332000  23.000000  0.000000  \n",
              "51                             0.325000  31.000000  1.000000  \n",
              "52                             0.797000  27.000000  0.000000  \n",
              "54                             0.276500  34.500000  0.000000  \n",
              "56                             0.759000  25.000000  1.000000  \n",
              "60                             0.962000  31.000000  0.000000  \n",
              "63                             2.420000  25.000000  1.000000  \n",
              "99                             0.575000  62.000000  1.000000  "
            ],
            "text/html": [
              "\n",
              "  <div id=\"df-897153bd-5db6-4a43-add8-518f863fc7b3\">\n",
              "    <div class=\"colab-df-container\">\n",
              "      <div>\n",
              "<style scoped>\n",
              "    .dataframe tbody tr th:only-of-type {\n",
              "        vertical-align: middle;\n",
              "    }\n",
              "\n",
              "    .dataframe tbody tr th {\n",
              "        vertical-align: top;\n",
              "    }\n",
              "\n",
              "    .dataframe thead th {\n",
              "        text-align: right;\n",
              "    }\n",
              "</style>\n",
              "<table border=\"1\" class=\"dataframe\">\n",
              "  <thead>\n",
              "    <tr style=\"text-align: right;\">\n",
              "      <th></th>\n",
              "      <th>Pregnancies</th>\n",
              "      <th>Glucose</th>\n",
              "      <th>BloodPressure</th>\n",
              "      <th>Insulin</th>\n",
              "      <th>BMI</th>\n",
              "      <th>DiabetesPedigreeFunction</th>\n",
              "      <th>Age</th>\n",
              "      <th>Outcome</th>\n",
              "    </tr>\n",
              "    <tr>\n",
              "      <th>SkinThickness</th>\n",
              "      <th></th>\n",
              "      <th></th>\n",
              "      <th></th>\n",
              "      <th></th>\n",
              "      <th></th>\n",
              "      <th></th>\n",
              "      <th></th>\n",
              "      <th></th>\n",
              "    </tr>\n",
              "  </thead>\n",
              "  <tbody>\n",
              "    <tr>\n",
              "      <th>0</th>\n",
              "      <td>4.638767</td>\n",
              "      <td>123.449339</td>\n",
              "      <td>64.118943</td>\n",
              "      <td>0.000000</td>\n",
              "      <td>30.129956</td>\n",
              "      <td>0.393291</td>\n",
              "      <td>37.251101</td>\n",
              "      <td>0.387665</td>\n",
              "    </tr>\n",
              "    <tr>\n",
              "      <th>7</th>\n",
              "      <td>9.000000</td>\n",
              "      <td>110.500000</td>\n",
              "      <td>76.000000</td>\n",
              "      <td>292.000000</td>\n",
              "      <td>23.600000</td>\n",
              "      <td>0.754000</td>\n",
              "      <td>52.000000</td>\n",
              "      <td>0.500000</td>\n",
              "    </tr>\n",
              "    <tr>\n",
              "      <th>8</th>\n",
              "      <td>1.000000</td>\n",
              "      <td>99.500000</td>\n",
              "      <td>64.000000</td>\n",
              "      <td>91.000000</td>\n",
              "      <td>24.950000</td>\n",
              "      <td>1.042500</td>\n",
              "      <td>28.500000</td>\n",
              "      <td>0.000000</td>\n",
              "    </tr>\n",
              "    <tr>\n",
              "      <th>10</th>\n",
              "      <td>1.400000</td>\n",
              "      <td>93.400000</td>\n",
              "      <td>54.400000</td>\n",
              "      <td>79.800000</td>\n",
              "      <td>26.200000</td>\n",
              "      <td>0.515000</td>\n",
              "      <td>22.200000</td>\n",
              "      <td>0.000000</td>\n",
              "    </tr>\n",
              "    <tr>\n",
              "      <th>11</th>\n",
              "      <td>2.166667</td>\n",
              "      <td>98.333333</td>\n",
              "      <td>72.666667</td>\n",
              "      <td>69.166667</td>\n",
              "      <td>25.083333</td>\n",
              "      <td>0.430667</td>\n",
              "      <td>24.333333</td>\n",
              "      <td>0.000000</td>\n",
              "    </tr>\n",
              "    <tr>\n",
              "      <th>12</th>\n",
              "      <td>2.571429</td>\n",
              "      <td>109.000000</td>\n",
              "      <td>70.285714</td>\n",
              "      <td>79.285714</td>\n",
              "      <td>25.671429</td>\n",
              "      <td>0.464571</td>\n",
              "      <td>29.571429</td>\n",
              "      <td>0.142857</td>\n",
              "    </tr>\n",
              "    <tr>\n",
              "      <th>13</th>\n",
              "      <td>1.636364</td>\n",
              "      <td>109.363636</td>\n",
              "      <td>61.090909</td>\n",
              "      <td>97.636364</td>\n",
              "      <td>22.954545</td>\n",
              "      <td>0.366636</td>\n",
              "      <td>23.272727</td>\n",
              "      <td>0.090909</td>\n",
              "    </tr>\n",
              "    <tr>\n",
              "      <th>14</th>\n",
              "      <td>1.500000</td>\n",
              "      <td>135.666667</td>\n",
              "      <td>69.666667</td>\n",
              "      <td>176.500000</td>\n",
              "      <td>26.783333</td>\n",
              "      <td>0.428667</td>\n",
              "      <td>23.833333</td>\n",
              "      <td>0.333333</td>\n",
              "    </tr>\n",
              "    <tr>\n",
              "      <th>15</th>\n",
              "      <td>2.928571</td>\n",
              "      <td>118.642857</td>\n",
              "      <td>72.071429</td>\n",
              "      <td>78.785714</td>\n",
              "      <td>26.878571</td>\n",
              "      <td>0.432571</td>\n",
              "      <td>30.357143</td>\n",
              "      <td>0.071429</td>\n",
              "    </tr>\n",
              "    <tr>\n",
              "      <th>16</th>\n",
              "      <td>1.833333</td>\n",
              "      <td>110.333333</td>\n",
              "      <td>69.666667</td>\n",
              "      <td>103.666667</td>\n",
              "      <td>27.983333</td>\n",
              "      <td>0.464500</td>\n",
              "      <td>26.166667</td>\n",
              "      <td>0.000000</td>\n",
              "    </tr>\n",
              "    <tr>\n",
              "      <th>17</th>\n",
              "      <td>2.785714</td>\n",
              "      <td>115.000000</td>\n",
              "      <td>69.428571</td>\n",
              "      <td>103.000000</td>\n",
              "      <td>26.385714</td>\n",
              "      <td>0.347000</td>\n",
              "      <td>27.571429</td>\n",
              "      <td>0.142857</td>\n",
              "    </tr>\n",
              "    <tr>\n",
              "      <th>18</th>\n",
              "      <td>2.800000</td>\n",
              "      <td>108.300000</td>\n",
              "      <td>67.800000</td>\n",
              "      <td>69.300000</td>\n",
              "      <td>27.460000</td>\n",
              "      <td>0.554900</td>\n",
              "      <td>31.450000</td>\n",
              "      <td>0.200000</td>\n",
              "    </tr>\n",
              "    <tr>\n",
              "      <th>19</th>\n",
              "      <td>3.111111</td>\n",
              "      <td>114.944444</td>\n",
              "      <td>67.777778</td>\n",
              "      <td>62.111111</td>\n",
              "      <td>26.444444</td>\n",
              "      <td>0.453167</td>\n",
              "      <td>29.611111</td>\n",
              "      <td>0.166667</td>\n",
              "    </tr>\n",
              "    <tr>\n",
              "      <th>20</th>\n",
              "      <td>2.538462</td>\n",
              "      <td>93.615385</td>\n",
              "      <td>63.461538</td>\n",
              "      <td>87.538462</td>\n",
              "      <td>28.238462</td>\n",
              "      <td>0.475615</td>\n",
              "      <td>28.615385</td>\n",
              "      <td>0.153846</td>\n",
              "    </tr>\n",
              "    <tr>\n",
              "      <th>21</th>\n",
              "      <td>3.400000</td>\n",
              "      <td>125.500000</td>\n",
              "      <td>67.200000</td>\n",
              "      <td>125.000000</td>\n",
              "      <td>29.340000</td>\n",
              "      <td>0.511100</td>\n",
              "      <td>29.200000</td>\n",
              "      <td>0.200000</td>\n",
              "    </tr>\n",
              "    <tr>\n",
              "      <th>22</th>\n",
              "      <td>2.937500</td>\n",
              "      <td>113.250000</td>\n",
              "      <td>64.437500</td>\n",
              "      <td>63.187500</td>\n",
              "      <td>28.468750</td>\n",
              "      <td>0.555688</td>\n",
              "      <td>27.750000</td>\n",
              "      <td>0.250000</td>\n",
              "    </tr>\n",
              "    <tr>\n",
              "      <th>23</th>\n",
              "      <td>3.045455</td>\n",
              "      <td>108.636364</td>\n",
              "      <td>66.409091</td>\n",
              "      <td>118.681818</td>\n",
              "      <td>28.690909</td>\n",
              "      <td>0.568409</td>\n",
              "      <td>28.909091</td>\n",
              "      <td>0.181818</td>\n",
              "    </tr>\n",
              "    <tr>\n",
              "      <th>24</th>\n",
              "      <td>4.250000</td>\n",
              "      <td>115.500000</td>\n",
              "      <td>73.833333</td>\n",
              "      <td>162.416667</td>\n",
              "      <td>30.041667</td>\n",
              "      <td>0.545417</td>\n",
              "      <td>35.000000</td>\n",
              "      <td>0.500000</td>\n",
              "    </tr>\n",
              "    <tr>\n",
              "      <th>25</th>\n",
              "      <td>3.062500</td>\n",
              "      <td>113.125000</td>\n",
              "      <td>71.937500</td>\n",
              "      <td>85.812500</td>\n",
              "      <td>31.606250</td>\n",
              "      <td>0.380875</td>\n",
              "      <td>29.937500</td>\n",
              "      <td>0.312500</td>\n",
              "    </tr>\n",
              "    <tr>\n",
              "      <th>26</th>\n",
              "      <td>4.125000</td>\n",
              "      <td>130.062500</td>\n",
              "      <td>71.875000</td>\n",
              "      <td>134.187500</td>\n",
              "      <td>32.412500</td>\n",
              "      <td>0.539125</td>\n",
              "      <td>36.562500</td>\n",
              "      <td>0.375000</td>\n",
              "    </tr>\n",
              "    <tr>\n",
              "      <th>27</th>\n",
              "      <td>3.000000</td>\n",
              "      <td>124.956522</td>\n",
              "      <td>72.304348</td>\n",
              "      <td>104.782609</td>\n",
              "      <td>33.382609</td>\n",
              "      <td>0.386174</td>\n",
              "      <td>31.608696</td>\n",
              "      <td>0.304348</td>\n",
              "    </tr>\n",
              "    <tr>\n",
              "      <th>28</th>\n",
              "      <td>4.050000</td>\n",
              "      <td>111.250000</td>\n",
              "      <td>70.000000</td>\n",
              "      <td>73.100000</td>\n",
              "      <td>31.795000</td>\n",
              "      <td>0.490950</td>\n",
              "      <td>31.000000</td>\n",
              "      <td>0.250000</td>\n",
              "    </tr>\n",
              "    <tr>\n",
              "      <th>29</th>\n",
              "      <td>2.411765</td>\n",
              "      <td>127.823529</td>\n",
              "      <td>73.058824</td>\n",
              "      <td>150.647059</td>\n",
              "      <td>32.582353</td>\n",
              "      <td>0.535765</td>\n",
              "      <td>33.764706</td>\n",
              "      <td>0.411765</td>\n",
              "    </tr>\n",
              "    <tr>\n",
              "      <th>30</th>\n",
              "      <td>3.555556</td>\n",
              "      <td>114.444444</td>\n",
              "      <td>69.296296</td>\n",
              "      <td>88.407407</td>\n",
              "      <td>33.459259</td>\n",
              "      <td>0.476111</td>\n",
              "      <td>31.555556</td>\n",
              "      <td>0.333333</td>\n",
              "    </tr>\n",
              "    <tr>\n",
              "      <th>31</th>\n",
              "      <td>4.736842</td>\n",
              "      <td>125.105263</td>\n",
              "      <td>75.631579</td>\n",
              "      <td>47.473684</td>\n",
              "      <td>33.663158</td>\n",
              "      <td>0.472737</td>\n",
              "      <td>35.105263</td>\n",
              "      <td>0.315789</td>\n",
              "    </tr>\n",
              "    <tr>\n",
              "      <th>32</th>\n",
              "      <td>4.387097</td>\n",
              "      <td>111.709677</td>\n",
              "      <td>69.161290</td>\n",
              "      <td>95.516129</td>\n",
              "      <td>35.793548</td>\n",
              "      <td>0.456645</td>\n",
              "      <td>33.000000</td>\n",
              "      <td>0.451613</td>\n",
              "    </tr>\n",
              "    <tr>\n",
              "      <th>33</th>\n",
              "      <td>6.600000</td>\n",
              "      <td>144.350000</td>\n",
              "      <td>73.450000</td>\n",
              "      <td>197.250000</td>\n",
              "      <td>32.695000</td>\n",
              "      <td>0.430550</td>\n",
              "      <td>38.800000</td>\n",
              "      <td>0.450000</td>\n",
              "    </tr>\n",
              "    <tr>\n",
              "      <th>34</th>\n",
              "      <td>4.125000</td>\n",
              "      <td>125.000000</td>\n",
              "      <td>74.250000</td>\n",
              "      <td>159.750000</td>\n",
              "      <td>32.662500</td>\n",
              "      <td>0.566750</td>\n",
              "      <td>35.125000</td>\n",
              "      <td>0.375000</td>\n",
              "    </tr>\n",
              "    <tr>\n",
              "      <th>35</th>\n",
              "      <td>3.800000</td>\n",
              "      <td>125.866667</td>\n",
              "      <td>71.600000</td>\n",
              "      <td>138.200000</td>\n",
              "      <td>34.406667</td>\n",
              "      <td>0.599800</td>\n",
              "      <td>29.533333</td>\n",
              "      <td>0.533333</td>\n",
              "    </tr>\n",
              "    <tr>\n",
              "      <th>36</th>\n",
              "      <td>3.500000</td>\n",
              "      <td>133.642857</td>\n",
              "      <td>73.142857</td>\n",
              "      <td>126.428571</td>\n",
              "      <td>37.850000</td>\n",
              "      <td>0.410214</td>\n",
              "      <td>31.928571</td>\n",
              "      <td>0.571429</td>\n",
              "    </tr>\n",
              "    <tr>\n",
              "      <th>37</th>\n",
              "      <td>4.562500</td>\n",
              "      <td>119.312500</td>\n",
              "      <td>79.125000</td>\n",
              "      <td>111.812500</td>\n",
              "      <td>38.956250</td>\n",
              "      <td>0.591562</td>\n",
              "      <td>34.687500</td>\n",
              "      <td>0.500000</td>\n",
              "    </tr>\n",
              "    <tr>\n",
              "      <th>38</th>\n",
              "      <td>3.142857</td>\n",
              "      <td>132.000000</td>\n",
              "      <td>64.857143</td>\n",
              "      <td>74.000000</td>\n",
              "      <td>32.871429</td>\n",
              "      <td>0.277571</td>\n",
              "      <td>30.857143</td>\n",
              "      <td>0.285714</td>\n",
              "    </tr>\n",
              "    <tr>\n",
              "      <th>39</th>\n",
              "      <td>3.111111</td>\n",
              "      <td>132.666667</td>\n",
              "      <td>74.888889</td>\n",
              "      <td>145.388889</td>\n",
              "      <td>37.488889</td>\n",
              "      <td>0.680944</td>\n",
              "      <td>31.000000</td>\n",
              "      <td>0.444444</td>\n",
              "    </tr>\n",
              "    <tr>\n",
              "      <th>40</th>\n",
              "      <td>5.625000</td>\n",
              "      <td>109.312500</td>\n",
              "      <td>71.750000</td>\n",
              "      <td>73.125000</td>\n",
              "      <td>38.662500</td>\n",
              "      <td>0.434563</td>\n",
              "      <td>35.312500</td>\n",
              "      <td>0.312500</td>\n",
              "    </tr>\n",
              "    <tr>\n",
              "      <th>41</th>\n",
              "      <td>4.266667</td>\n",
              "      <td>118.600000</td>\n",
              "      <td>79.200000</td>\n",
              "      <td>124.333333</td>\n",
              "      <td>39.893333</td>\n",
              "      <td>0.570133</td>\n",
              "      <td>31.066667</td>\n",
              "      <td>0.466667</td>\n",
              "    </tr>\n",
              "    <tr>\n",
              "      <th>42</th>\n",
              "      <td>2.909091</td>\n",
              "      <td>133.000000</td>\n",
              "      <td>69.272727</td>\n",
              "      <td>193.454545</td>\n",
              "      <td>40.327273</td>\n",
              "      <td>0.687091</td>\n",
              "      <td>28.636364</td>\n",
              "      <td>0.545455</td>\n",
              "    </tr>\n",
              "    <tr>\n",
              "      <th>43</th>\n",
              "      <td>3.500000</td>\n",
              "      <td>149.666667</td>\n",
              "      <td>73.333333</td>\n",
              "      <td>146.666667</td>\n",
              "      <td>39.183333</td>\n",
              "      <td>0.600167</td>\n",
              "      <td>36.166667</td>\n",
              "      <td>0.333333</td>\n",
              "    </tr>\n",
              "    <tr>\n",
              "      <th>44</th>\n",
              "      <td>5.000000</td>\n",
              "      <td>144.000000</td>\n",
              "      <td>78.800000</td>\n",
              "      <td>249.600000</td>\n",
              "      <td>39.980000</td>\n",
              "      <td>0.491400</td>\n",
              "      <td>32.400000</td>\n",
              "      <td>0.600000</td>\n",
              "    </tr>\n",
              "    <tr>\n",
              "      <th>45</th>\n",
              "      <td>2.000000</td>\n",
              "      <td>126.666667</td>\n",
              "      <td>71.666667</td>\n",
              "      <td>230.333333</td>\n",
              "      <td>34.933333</td>\n",
              "      <td>0.460333</td>\n",
              "      <td>31.666667</td>\n",
              "      <td>0.500000</td>\n",
              "    </tr>\n",
              "    <tr>\n",
              "      <th>46</th>\n",
              "      <td>2.375000</td>\n",
              "      <td>135.125000</td>\n",
              "      <td>85.750000</td>\n",
              "      <td>134.000000</td>\n",
              "      <td>43.437500</td>\n",
              "      <td>0.377750</td>\n",
              "      <td>30.875000</td>\n",
              "      <td>0.625000</td>\n",
              "    </tr>\n",
              "    <tr>\n",
              "      <th>47</th>\n",
              "      <td>2.250000</td>\n",
              "      <td>109.500000</td>\n",
              "      <td>72.000000</td>\n",
              "      <td>138.500000</td>\n",
              "      <td>39.025000</td>\n",
              "      <td>0.645750</td>\n",
              "      <td>35.250000</td>\n",
              "      <td>0.500000</td>\n",
              "    </tr>\n",
              "    <tr>\n",
              "      <th>48</th>\n",
              "      <td>6.000000</td>\n",
              "      <td>135.500000</td>\n",
              "      <td>80.500000</td>\n",
              "      <td>270.500000</td>\n",
              "      <td>36.950000</td>\n",
              "      <td>1.117750</td>\n",
              "      <td>45.000000</td>\n",
              "      <td>0.500000</td>\n",
              "    </tr>\n",
              "    <tr>\n",
              "      <th>49</th>\n",
              "      <td>3.666667</td>\n",
              "      <td>143.333333</td>\n",
              "      <td>76.000000</td>\n",
              "      <td>286.333333</td>\n",
              "      <td>39.100000</td>\n",
              "      <td>0.703000</td>\n",
              "      <td>34.333333</td>\n",
              "      <td>1.000000</td>\n",
              "    </tr>\n",
              "    <tr>\n",
              "      <th>50</th>\n",
              "      <td>1.333333</td>\n",
              "      <td>106.333333</td>\n",
              "      <td>76.666667</td>\n",
              "      <td>129.666667</td>\n",
              "      <td>36.666667</td>\n",
              "      <td>0.332000</td>\n",
              "      <td>23.000000</td>\n",
              "      <td>0.000000</td>\n",
              "    </tr>\n",
              "    <tr>\n",
              "      <th>51</th>\n",
              "      <td>1.000000</td>\n",
              "      <td>122.000000</td>\n",
              "      <td>90.000000</td>\n",
              "      <td>220.000000</td>\n",
              "      <td>49.700000</td>\n",
              "      <td>0.325000</td>\n",
              "      <td>31.000000</td>\n",
              "      <td>1.000000</td>\n",
              "    </tr>\n",
              "    <tr>\n",
              "      <th>52</th>\n",
              "      <td>1.500000</td>\n",
              "      <td>93.000000</td>\n",
              "      <td>68.000000</td>\n",
              "      <td>61.000000</td>\n",
              "      <td>40.900000</td>\n",
              "      <td>0.797000</td>\n",
              "      <td>27.000000</td>\n",
              "      <td>0.000000</td>\n",
              "    </tr>\n",
              "    <tr>\n",
              "      <th>54</th>\n",
              "      <td>6.500000</td>\n",
              "      <td>126.500000</td>\n",
              "      <td>78.500000</td>\n",
              "      <td>0.000000</td>\n",
              "      <td>39.700000</td>\n",
              "      <td>0.276500</td>\n",
              "      <td>34.500000</td>\n",
              "      <td>0.000000</td>\n",
              "    </tr>\n",
              "    <tr>\n",
              "      <th>56</th>\n",
              "      <td>0.000000</td>\n",
              "      <td>162.000000</td>\n",
              "      <td>76.000000</td>\n",
              "      <td>100.000000</td>\n",
              "      <td>53.200000</td>\n",
              "      <td>0.759000</td>\n",
              "      <td>25.000000</td>\n",
              "      <td>1.000000</td>\n",
              "    </tr>\n",
              "    <tr>\n",
              "      <th>60</th>\n",
              "      <td>0.000000</td>\n",
              "      <td>100.000000</td>\n",
              "      <td>88.000000</td>\n",
              "      <td>110.000000</td>\n",
              "      <td>46.800000</td>\n",
              "      <td>0.962000</td>\n",
              "      <td>31.000000</td>\n",
              "      <td>0.000000</td>\n",
              "    </tr>\n",
              "    <tr>\n",
              "      <th>63</th>\n",
              "      <td>0.000000</td>\n",
              "      <td>180.000000</td>\n",
              "      <td>78.000000</td>\n",
              "      <td>14.000000</td>\n",
              "      <td>59.400000</td>\n",
              "      <td>2.420000</td>\n",
              "      <td>25.000000</td>\n",
              "      <td>1.000000</td>\n",
              "    </tr>\n",
              "    <tr>\n",
              "      <th>99</th>\n",
              "      <td>2.000000</td>\n",
              "      <td>197.000000</td>\n",
              "      <td>70.000000</td>\n",
              "      <td>0.000000</td>\n",
              "      <td>34.700000</td>\n",
              "      <td>0.575000</td>\n",
              "      <td>62.000000</td>\n",
              "      <td>1.000000</td>\n",
              "    </tr>\n",
              "  </tbody>\n",
              "</table>\n",
              "</div>\n",
              "      <button class=\"colab-df-convert\" onclick=\"convertToInteractive('df-897153bd-5db6-4a43-add8-518f863fc7b3')\"\n",
              "              title=\"Convert this dataframe to an interactive table.\"\n",
              "              style=\"display:none;\">\n",
              "        \n",
              "  <svg xmlns=\"http://www.w3.org/2000/svg\" height=\"24px\"viewBox=\"0 0 24 24\"\n",
              "       width=\"24px\">\n",
              "    <path d=\"M0 0h24v24H0V0z\" fill=\"none\"/>\n",
              "    <path d=\"M18.56 5.44l.94 2.06.94-2.06 2.06-.94-2.06-.94-.94-2.06-.94 2.06-2.06.94zm-11 1L8.5 8.5l.94-2.06 2.06-.94-2.06-.94L8.5 2.5l-.94 2.06-2.06.94zm10 10l.94 2.06.94-2.06 2.06-.94-2.06-.94-.94-2.06-.94 2.06-2.06.94z\"/><path d=\"M17.41 7.96l-1.37-1.37c-.4-.4-.92-.59-1.43-.59-.52 0-1.04.2-1.43.59L10.3 9.45l-7.72 7.72c-.78.78-.78 2.05 0 2.83L4 21.41c.39.39.9.59 1.41.59.51 0 1.02-.2 1.41-.59l7.78-7.78 2.81-2.81c.8-.78.8-2.07 0-2.86zM5.41 20L4 18.59l7.72-7.72 1.47 1.35L5.41 20z\"/>\n",
              "  </svg>\n",
              "      </button>\n",
              "      \n",
              "  <style>\n",
              "    .colab-df-container {\n",
              "      display:flex;\n",
              "      flex-wrap:wrap;\n",
              "      gap: 12px;\n",
              "    }\n",
              "\n",
              "    .colab-df-convert {\n",
              "      background-color: #E8F0FE;\n",
              "      border: none;\n",
              "      border-radius: 50%;\n",
              "      cursor: pointer;\n",
              "      display: none;\n",
              "      fill: #1967D2;\n",
              "      height: 32px;\n",
              "      padding: 0 0 0 0;\n",
              "      width: 32px;\n",
              "    }\n",
              "\n",
              "    .colab-df-convert:hover {\n",
              "      background-color: #E2EBFA;\n",
              "      box-shadow: 0px 1px 2px rgba(60, 64, 67, 0.3), 0px 1px 3px 1px rgba(60, 64, 67, 0.15);\n",
              "      fill: #174EA6;\n",
              "    }\n",
              "\n",
              "    [theme=dark] .colab-df-convert {\n",
              "      background-color: #3B4455;\n",
              "      fill: #D2E3FC;\n",
              "    }\n",
              "\n",
              "    [theme=dark] .colab-df-convert:hover {\n",
              "      background-color: #434B5C;\n",
              "      box-shadow: 0px 1px 3px 1px rgba(0, 0, 0, 0.15);\n",
              "      filter: drop-shadow(0px 1px 2px rgba(0, 0, 0, 0.3));\n",
              "      fill: #FFFFFF;\n",
              "    }\n",
              "  </style>\n",
              "\n",
              "      <script>\n",
              "        const buttonEl =\n",
              "          document.querySelector('#df-897153bd-5db6-4a43-add8-518f863fc7b3 button.colab-df-convert');\n",
              "        buttonEl.style.display =\n",
              "          google.colab.kernel.accessAllowed ? 'block' : 'none';\n",
              "\n",
              "        async function convertToInteractive(key) {\n",
              "          const element = document.querySelector('#df-897153bd-5db6-4a43-add8-518f863fc7b3');\n",
              "          const dataTable =\n",
              "            await google.colab.kernel.invokeFunction('convertToInteractive',\n",
              "                                                     [key], {});\n",
              "          if (!dataTable) return;\n",
              "\n",
              "          const docLinkHtml = 'Like what you see? Visit the ' +\n",
              "            '<a target=\"_blank\" href=https://colab.research.google.com/notebooks/data_table.ipynb>data table notebook</a>'\n",
              "            + ' to learn more about interactive tables.';\n",
              "          element.innerHTML = '';\n",
              "          dataTable['output_type'] = 'display_data';\n",
              "          await google.colab.output.renderOutput(dataTable, element);\n",
              "          const docLink = document.createElement('div');\n",
              "          docLink.innerHTML = docLinkHtml;\n",
              "          element.appendChild(docLink);\n",
              "        }\n",
              "      </script>\n",
              "    </div>\n",
              "  </div>\n",
              "  "
            ]
          },
          "metadata": {},
          "execution_count": 639
        }
      ]
    },
    {
      "cell_type": "markdown",
      "source": [
        "# patients sample_row_5"
      ],
      "metadata": {
        "id": "IoJs5iQopp_q"
      }
    },
    {
      "cell_type": "code",
      "source": [
        "#(rand(768,4),['skinthickness','insulin','diabetespedigreefunction','bmi','outcome'] )\n"
      ],
      "metadata": {
        "id": "5CQ7ON_jmPny"
      },
      "execution_count": 640,
      "outputs": []
    },
    {
      "cell_type": "code",
      "source": [
        "#pandas series"
      ],
      "metadata": {
        "id": "R66PVDFKXMsM"
      },
      "execution_count": 641,
      "outputs": []
    },
    {
      "cell_type": "code",
      "source": [
        "#dataset = pd.Series() two dimensional with assigned indexe values\n",
        "\n",
        "a = ['skinthickness','bmi','diabethespedigreefunction','age','outcome']\n",
        "label= ['x','y','z','a','b']\n",
        "dataset1 = pd.Series(data=a, index=label )  #convert list to the pandas series\n",
        "\n",
        "print(dataset1)\n",
        "\n",
        " \n",
        "\n",
        "\n"
      ],
      "metadata": {
        "id": "tWPmuMB6Et7v",
        "outputId": "b4b57302-b757-472d-d876-b8de14a918f8",
        "colab": {
          "base_uri": "https://localhost:8080/"
        }
      },
      "execution_count": 642,
      "outputs": [
        {
          "output_type": "stream",
          "name": "stdout",
          "text": [
            "x                skinthickness\n",
            "y                          bmi\n",
            "z    diabethespedigreefunction\n",
            "a                          age\n",
            "b                      outcome\n",
            "dtype: object\n"
          ]
        }
      ]
    },
    {
      "cell_type": "code",
      "source": [
        "#dataset = konstrnt_stud\n",
        "#label= ['x','y','z','a','b','c','t','v','m',]\n",
        "#= pd.Series(dataset=konstrnt_stud)\n",
        "#print(dataset)"
      ],
      "metadata": {
        "id": "5ICUeBqQZiV7"
      },
      "execution_count": 643,
      "outputs": []
    },
    {
      "cell_type": "code",
      "source": [
        "dataset = konstrnt_stud "
      ],
      "metadata": {
        "id": "6SKnIUZSG2aG"
      },
      "execution_count": 644,
      "outputs": []
    },
    {
      "cell_type": "markdown",
      "source": [
        "#numpy"
      ],
      "metadata": {
        "id": "Vsmz2akdWyIu"
      }
    },
    {
      "cell_type": "code",
      "source": [
        "#random Numbers \n",
        "from numpy import random \n",
        "x=random.randint(100, size=(200))\n",
        "print(x)"
      ],
      "metadata": {
        "id": "ecHUJeZpg2mG",
        "outputId": "0dff923f-ad82-4bbf-e9ca-bb96f5e64ac4",
        "colab": {
          "base_uri": "https://localhost:8080/"
        }
      },
      "execution_count": 645,
      "outputs": [
        {
          "output_type": "stream",
          "name": "stdout",
          "text": [
            "[66 92 98 17 83 57 86 97 96 47 73 32 46 96 25 83 78 36 96 80 68 49 55 67\n",
            "  2 84 39 66 84 47 61 48  7 99 92 52 97 85 94 27 34 97 76 40  3 69 64 75\n",
            " 34 58 10 22 77 18 15 27 30 52 70 26 80  6 14 75 54 71  1 43 58 55 25 50\n",
            " 84 56 49 12 18 81  1 51 44 48 56 91 49 86  3 67 11 21 89 98  3 11  3 94\n",
            "  6  9 87 14 83 70 12 54 27 38 17 61 74 99 99 65 47 16  5 86 46 15 59 40\n",
            " 25 45 49  0 35 29  1 83 68 30  7 93 60 65 76 67 44 51  7 88 70 13 28 63\n",
            " 84 36 96 40 88 63 58 77  8 78  6 65 94 70 40 74 76 76 25  7 13 44  1 41\n",
            " 78 56 87 63 97  3 17 88 87 69 97 50  2 18 46 45 57 35 18 91 46 54 73 81\n",
            " 62 67 11 26 92 75 10  3]\n"
          ]
        }
      ]
    },
    {
      "cell_type": "code",
      "source": [
        "from numpy.random import randn\n",
        "np.random.seed(123)\n",
        "x = random.rand()\n",
        "print(x)"
      ],
      "metadata": {
        "id": "kR4YOlbuht8h",
        "outputId": "992fc807-e29e-4668-ac0d-fdf7528430c2",
        "colab": {
          "base_uri": "https://localhost:8080/"
        }
      },
      "execution_count": 646,
      "outputs": [
        {
          "output_type": "stream",
          "name": "stdout",
          "text": [
            "0.6964691855978616\n"
          ]
        }
      ]
    },
    {
      "cell_type": "code",
      "source": [
        "import numpy as np\n",
        "\n",
        "#loading the data set to a dataframe and data varaiable defined \n",
        "diabetes_dataset = pd.read_csv('https://raw.githubusercontent.com/plotly/datasets/master/diabetes.csv')\n",
        " \n",
        "konstrnt_stud = diabetes_dataset\n",
        "\n",
        "dataset = np.array(konstrnt_stud )\n",
        "dataset"
      ],
      "metadata": {
        "id": "aZudpKWnHJBA",
        "outputId": "282701a7-32d0-4550-c4ba-a75775aaceda",
        "colab": {
          "base_uri": "https://localhost:8080/"
        }
      },
      "execution_count": 647,
      "outputs": [
        {
          "output_type": "execute_result",
          "data": {
            "text/plain": [
              "array([[  6.   , 148.   ,  72.   , ...,   0.627,  50.   ,   1.   ],\n",
              "       [  1.   ,  85.   ,  66.   , ...,   0.351,  31.   ,   0.   ],\n",
              "       [  8.   , 183.   ,  64.   , ...,   0.672,  32.   ,   1.   ],\n",
              "       ...,\n",
              "       [  5.   , 121.   ,  72.   , ...,   0.245,  30.   ,   0.   ],\n",
              "       [  1.   , 126.   ,  60.   , ...,   0.349,  47.   ,   1.   ],\n",
              "       [  1.   ,  93.   ,  70.   , ...,   0.315,  23.   ,   0.   ]])"
            ]
          },
          "metadata": {},
          "execution_count": 647
        }
      ]
    },
    {
      "cell_type": "code",
      "source": [
        "plt.plot(dataset)"
      ],
      "metadata": {
        "id": "24uDH3MZCBXM",
        "outputId": "e915be7c-9501-4ccc-a582-3e0e0dbefa10",
        "colab": {
          "base_uri": "https://localhost:8080/",
          "height": 428
        }
      },
      "execution_count": 648,
      "outputs": [
        {
          "output_type": "execute_result",
          "data": {
            "text/plain": [
              "[<matplotlib.lines.Line2D at 0x7fdfaebc30d0>,\n",
              " <matplotlib.lines.Line2D at 0x7fdfae671a10>,\n",
              " <matplotlib.lines.Line2D at 0x7fdfae6715d0>,\n",
              " <matplotlib.lines.Line2D at 0x7fdfae671cd0>,\n",
              " <matplotlib.lines.Line2D at 0x7fdfae671b90>,\n",
              " <matplotlib.lines.Line2D at 0x7fdfae671490>,\n",
              " <matplotlib.lines.Line2D at 0x7fdfb0ea8250>,\n",
              " <matplotlib.lines.Line2D at 0x7fdfae66dc10>,\n",
              " <matplotlib.lines.Line2D at 0x7fdfae671110>]"
            ]
          },
          "metadata": {},
          "execution_count": 648
        },
        {
          "output_type": "display_data",
          "data": {
            "text/plain": [
              "<Figure size 432x288 with 1 Axes>"
            ],
            "image/png": "[encoded data removed]"
          },
          "metadata": {
            "needs_background": "light"
          }
        }
      ]
    },
    {
      "cell_type": "markdown",
      "source": [
        ""
      ],
      "metadata": {
        "id": "f3wLG2XMrjyz"
      }
    },
    {
      "cell_type": "markdown",
      "source": [
        "#Conclusion\n",
        "\n",
        "The calculated mean and standard deviation\n",
        "______________________________\n",
        "\n",
        "of age and outcome show similarities. In fact, exploratory research indicates a corelation between body mass index, gender, skin thickness and age relative to the outcome of the effects ofthe diseaese overtime.   \n",
        "\n",
        "The accuracy of our test indicates that _________________________________.\n",
        "\n",
        "According to our data, a 0 label signifies non diabetic result and alternatively, 1 repreesenting diabetic result. "
      ],
      "metadata": {
        "id": "pI3zll98fMAd"
      }
    },
    {
      "cell_type": "markdown",
      "source": [
        ""
      ],
      "metadata": {
        "id": "_AxRiGJTElJs"
      }
    },
    {
      "cell_type": "code",
      "source": [
        ""
      ],
      "metadata": {
        "id": "vcBXqyGCWnFH"
      },
      "execution_count": 648,
      "outputs": []
    }
  ]
}