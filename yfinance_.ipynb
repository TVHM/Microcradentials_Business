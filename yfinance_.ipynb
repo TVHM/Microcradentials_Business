{
  "nbformat": 4,
  "nbformat_minor": 0,
  "metadata": {
    "colab": {
      "name": "yfinance_.ipynb",
      "provenance": [],
      "authorship_tag": "ABX9TyOXMtBzr4VfQ1X7Ij2tb0N3",
      "include_colab_link": true
    },
    "kernelspec": {
      "name": "python3",
      "display_name": "Python 3"
    },
    "language_info": {
      "name": "python"
    }
  },
  "cells": [
    {
      "cell_type": "markdown",
      "metadata": {
        "id": "view-in-github",
        "colab_type": "text"
      },
      "source": [
        "<a href=\"https://colab.research.google.com/github/TVHM/summer_microcredentials_BUS/blob/main/yfinance_.ipynb\" target=\"_parent\"><img src=\"https://colab.research.google.com/assets/colab-badge.svg\" alt=\"Open In Colab\"/></a>"
      ]
    },
    {
      "cell_type": "code",
      "execution_count": 51,
      "metadata": {
        "colab": {
          "base_uri": "https://localhost:8080/"
        },
        "id": "A4Wl32Lu73L6",
        "outputId": "4b1a3754-81a8-4b28-818e-1512f2f642cd"
      },
      "outputs": [
        {
          "output_type": "stream",
          "name": "stdout",
          "text": [
            "Looking in indexes: https://pypi.org/simple, https://us-python.pkg.dev/colab-wheels/public/simple/\n",
            "Requirement already satisfied: yfinance in /usr/local/lib/python3.7/dist-packages (0.1.74)\n",
            "Requirement already satisfied: lxml>=4.5.1 in /usr/local/lib/python3.7/dist-packages (from yfinance) (4.9.1)\n",
            "Requirement already satisfied: numpy>=1.15 in /usr/local/lib/python3.7/dist-packages (from yfinance) (1.21.6)\n",
            "Requirement already satisfied: requests>=2.26 in /usr/local/lib/python3.7/dist-packages (from yfinance) (2.28.1)\n",
            "Requirement already satisfied: multitasking>=0.0.7 in /usr/local/lib/python3.7/dist-packages (from yfinance) (0.0.11)\n",
            "Requirement already satisfied: pandas>=0.24.0 in /usr/local/lib/python3.7/dist-packages (from yfinance) (1.3.5)\n",
            "Requirement already satisfied: python-dateutil>=2.7.3 in /usr/local/lib/python3.7/dist-packages (from pandas>=0.24.0->yfinance) (2.8.2)\n",
            "Requirement already satisfied: pytz>=2017.3 in /usr/local/lib/python3.7/dist-packages (from pandas>=0.24.0->yfinance) (2022.1)\n",
            "Requirement already satisfied: six>=1.5 in /usr/local/lib/python3.7/dist-packages (from python-dateutil>=2.7.3->pandas>=0.24.0->yfinance) (1.15.0)\n",
            "Requirement already satisfied: certifi>=2017.4.17 in /usr/local/lib/python3.7/dist-packages (from requests>=2.26->yfinance) (2022.6.15)\n",
            "Requirement already satisfied: urllib3<1.27,>=1.21.1 in /usr/local/lib/python3.7/dist-packages (from requests>=2.26->yfinance) (1.24.3)\n",
            "Requirement already satisfied: idna<4,>=2.5 in /usr/local/lib/python3.7/dist-packages (from requests>=2.26->yfinance) (2.10)\n",
            "Requirement already satisfied: charset-normalizer<3,>=2 in /usr/local/lib/python3.7/dist-packages (from requests>=2.26->yfinance) (2.1.0)\n"
          ]
        }
      ],
      "source": [
        "!pip install yfinance"
      ]
    },
    {
      "cell_type": "code",
      "source": [
        "import numpy as np\n",
        "import pandas as pd\n",
        "from sklearn.preprocessing import StandardScaler\n",
        "from sklearn.model_selection import train_test_split\n",
        "from sklearn import svm\n",
        "from sklearn.metrics import accuracy_score"
      ],
      "metadata": {
        "id": "Ol4ggrFQ8lf9"
      },
      "execution_count": 52,
      "outputs": []
    },
    {
      "cell_type": "code",
      "source": [
        "!pip install yfinance"
      ],
      "metadata": {
        "colab": {
          "base_uri": "https://localhost:8080/"
        },
        "id": "EmfpOqRxpzC5",
        "outputId": "d5275651-ecb0-48a2-db83-9a1f32130249"
      },
      "execution_count": 53,
      "outputs": [
        {
          "output_type": "stream",
          "name": "stdout",
          "text": [
            "Looking in indexes: https://pypi.org/simple, https://us-python.pkg.dev/colab-wheels/public/simple/\n",
            "Requirement already satisfied: yfinance in /usr/local/lib/python3.7/dist-packages (0.1.74)\n",
            "Requirement already satisfied: multitasking>=0.0.7 in /usr/local/lib/python3.7/dist-packages (from yfinance) (0.0.11)\n",
            "Requirement already satisfied: lxml>=4.5.1 in /usr/local/lib/python3.7/dist-packages (from yfinance) (4.9.1)\n",
            "Requirement already satisfied: pandas>=0.24.0 in /usr/local/lib/python3.7/dist-packages (from yfinance) (1.3.5)\n",
            "Requirement already satisfied: numpy>=1.15 in /usr/local/lib/python3.7/dist-packages (from yfinance) (1.21.6)\n",
            "Requirement already satisfied: requests>=2.26 in /usr/local/lib/python3.7/dist-packages (from yfinance) (2.28.1)\n",
            "Requirement already satisfied: python-dateutil>=2.7.3 in /usr/local/lib/python3.7/dist-packages (from pandas>=0.24.0->yfinance) (2.8.2)\n",
            "Requirement already satisfied: pytz>=2017.3 in /usr/local/lib/python3.7/dist-packages (from pandas>=0.24.0->yfinance) (2022.1)\n",
            "Requirement already satisfied: six>=1.5 in /usr/local/lib/python3.7/dist-packages (from python-dateutil>=2.7.3->pandas>=0.24.0->yfinance) (1.15.0)\n",
            "Requirement already satisfied: urllib3<1.27,>=1.21.1 in /usr/local/lib/python3.7/dist-packages (from requests>=2.26->yfinance) (1.24.3)\n",
            "Requirement already satisfied: certifi>=2017.4.17 in /usr/local/lib/python3.7/dist-packages (from requests>=2.26->yfinance) (2022.6.15)\n",
            "Requirement already satisfied: idna<4,>=2.5 in /usr/local/lib/python3.7/dist-packages (from requests>=2.26->yfinance) (2.10)\n",
            "Requirement already satisfied: charset-normalizer<3,>=2 in /usr/local/lib/python3.7/dist-packages (from requests>=2.26->yfinance) (2.1.0)\n"
          ]
        }
      ]
    },
    {
      "cell_type": "code",
      "source": [
        "import yfinance as yf\n",
        "\n",
        "aapl = yf.Ticker('AAPL')\n",
        "aapl.info"
      ],
      "metadata": {
        "colab": {
          "base_uri": "https://localhost:8080/"
        },
        "id": "ngbll2KFqKUd",
        "outputId": "ec5e22f5-3286-44f1-8633-2cf2b9f6476b"
      },
      "execution_count": 54,
      "outputs": [
        {
          "output_type": "execute_result",
          "data": {
            "text/plain": [
              "{'zip': '95014',\n",
              " 'sector': 'Technology',\n",
              " 'fullTimeEmployees': 154000,\n",
              " 'longBusinessSummary': 'Apple Inc. designs, manufactures, and markets smartphones, personal computers, tablets, wearables, and accessories worldwide. It also sells various related services. In addition, the company offers iPhone, a line of smartphones; Mac, a line of personal computers; iPad, a line of multi-purpose tablets; AirPods Max, an over-ear wireless headphone; and wearables, home, and accessories comprising AirPods, Apple TV, Apple Watch, Beats products, HomePod, and iPod touch. Further, it provides AppleCare support services; cloud services store services; and operates various platforms, including the App Store that allow customers to discover and download applications and digital content, such as books, music, video, games, and podcasts. Additionally, the company offers various services, such as Apple Arcade, a game subscription service; Apple Music, which offers users a curated listening experience with on-demand radio stations; Apple News+, a subscription news and magazine service; Apple TV+, which offers exclusive original content; Apple Card, a co-branded credit card; and Apple Pay, a cashless payment service, as well as licenses its intellectual property. The company serves consumers, and small and mid-sized businesses; and the education, enterprise, and government markets. It distributes third-party applications for its products through the App Store. The company also sells its products through its retail and online stores, and direct sales force; and third-party cellular network carriers, wholesalers, retailers, and resellers. Apple Inc. was incorporated in 1977 and is headquartered in Cupertino, California.',\n",
              " 'city': 'Cupertino',\n",
              " 'phone': '408 996 1010',\n",
              " 'state': 'CA',\n",
              " 'country': 'United States',\n",
              " 'companyOfficers': [],\n",
              " 'website': 'https://www.apple.com',\n",
              " 'maxAge': 1,\n",
              " 'address1': 'One Apple Park Way',\n",
              " 'industry': 'Consumer Electronics',\n",
              " 'ebitdaMargins': 0.3343,\n",
              " 'profitMargins': 0.25709,\n",
              " 'grossMargins': 0.43313998,\n",
              " 'operatingCashflow': 118224003072,\n",
              " 'revenueGrowth': 0.019,\n",
              " 'operatingMargins': 0.30533,\n",
              " 'ebitda': 129556996096,\n",
              " 'targetLowPrice': 136,\n",
              " 'recommendationKey': 'buy',\n",
              " 'grossProfits': 152836000000,\n",
              " 'freeCashflow': 83344621568,\n",
              " 'targetMedianPrice': 185,\n",
              " 'currentPrice': 174.15,\n",
              " 'earningsGrowth': -0.077,\n",
              " 'currentRatio': 0.865,\n",
              " 'returnOnAssets': 0.22204,\n",
              " 'numberOfAnalystOpinions': 44,\n",
              " 'targetMeanPrice': 183.76,\n",
              " 'debtToEquity': 205.984,\n",
              " 'returnOnEquity': 1.62816,\n",
              " 'targetHighPrice': 220,\n",
              " 'totalCash': 48230998016,\n",
              " 'totalDebt': 119691001856,\n",
              " 'totalRevenue': 387541991424,\n",
              " 'totalCashPerShare': 3.001,\n",
              " 'financialCurrency': 'USD',\n",
              " 'revenuePerShare': 23.732,\n",
              " 'quickRatio': 0.697,\n",
              " 'recommendationMean': 1.9,\n",
              " 'exchange': 'NMS',\n",
              " 'shortName': 'Apple Inc.',\n",
              " 'longName': 'Apple Inc.',\n",
              " 'exchangeTimezoneName': 'America/New_York',\n",
              " 'exchangeTimezoneShortName': 'EDT',\n",
              " 'isEsgPopulated': False,\n",
              " 'gmtOffSetMilliseconds': '-14400000',\n",
              " 'quoteType': 'EQUITY',\n",
              " 'symbol': 'AAPL',\n",
              " 'messageBoardId': 'finmb_24937',\n",
              " 'market': 'us_market',\n",
              " 'annualHoldingsTurnover': None,\n",
              " 'enterpriseToRevenue': 7.423,\n",
              " 'beta3Year': None,\n",
              " 'enterpriseToEbitda': 22.203,\n",
              " '52WeekChange': 0.17518055,\n",
              " 'morningStarRiskRating': None,\n",
              " 'forwardEps': 6.44,\n",
              " 'revenueQuarterlyGrowth': None,\n",
              " 'sharesOutstanding': 16070800384,\n",
              " 'fundInceptionDate': None,\n",
              " 'annualReportExpenseRatio': None,\n",
              " 'totalAssets': None,\n",
              " 'bookValue': 3.61,\n",
              " 'sharesShort': 107535584,\n",
              " 'sharesPercentSharesOut': 0.0067000003,\n",
              " 'fundFamily': None,\n",
              " 'lastFiscalYearEnd': 1632528000,\n",
              " 'heldPercentInstitutions': 0.59752,\n",
              " 'netIncomeToCommon': 99632996352,\n",
              " 'trailingEps': 6.05,\n",
              " 'lastDividendValue': 0.23,\n",
              " 'SandP52WeekChange': -0.035556436,\n",
              " 'priceToBook': 48.240997,\n",
              " 'heldPercentInsiders': 0.0007,\n",
              " 'nextFiscalYearEnd': 1695600000,\n",
              " 'yield': None,\n",
              " 'mostRecentQuarter': 1656115200,\n",
              " 'shortRatio': 1.47,\n",
              " 'sharesShortPreviousMonthDate': 1656547200,\n",
              " 'floatShares': 16053234880,\n",
              " 'beta': 1.230174,\n",
              " 'enterpriseValue': 2876609658880,\n",
              " 'priceHint': 2,\n",
              " 'threeYearAverageReturn': None,\n",
              " 'lastSplitDate': 1598832000,\n",
              " 'lastSplitFactor': '4:1',\n",
              " 'legalType': None,\n",
              " 'lastDividendDate': 1659657600,\n",
              " 'morningStarOverallRating': None,\n",
              " 'earningsQuarterlyGrowth': -0.106,\n",
              " 'priceToSalesTrailing12Months': 7.221746,\n",
              " 'dateShortInterest': 1659052800,\n",
              " 'pegRatio': 3.01,\n",
              " 'ytdReturn': None,\n",
              " 'forwardPE': 27.041924,\n",
              " 'lastCapGain': None,\n",
              " 'shortPercentOfFloat': 0.0067000003,\n",
              " 'sharesShortPriorMonth': 112994371,\n",
              " 'impliedSharesOutstanding': 0,\n",
              " 'category': None,\n",
              " 'fiveYearAverageReturn': None,\n",
              " 'previousClose': 174.55,\n",
              " 'regularMarketOpen': 173.75,\n",
              " 'twoHundredDayAverage': 160.3535,\n",
              " 'trailingAnnualDividendYield': 0.0050988253,\n",
              " 'payoutRatio': 0.1471,\n",
              " 'volume24Hr': None,\n",
              " 'regularMarketDayHigh': 174.9,\n",
              " 'navPrice': None,\n",
              " 'averageDailyVolume10Day': 62755010,\n",
              " 'regularMarketPreviousClose': 174.55,\n",
              " 'fiftyDayAverage': 150.8476,\n",
              " 'trailingAnnualDividendRate': 0.89,\n",
              " 'open': 173.75,\n",
              " 'toCurrency': None,\n",
              " 'averageVolume10days': 62755010,\n",
              " 'expireDate': None,\n",
              " 'algorithm': None,\n",
              " 'dividendRate': 0.92,\n",
              " 'exDividendDate': 1659657600,\n",
              " 'circulatingSupply': None,\n",
              " 'startDate': None,\n",
              " 'regularMarketDayLow': 173.12,\n",
              " 'currency': 'USD',\n",
              " 'trailingPE': 28.785122,\n",
              " 'regularMarketVolume': 62290075,\n",
              " 'lastMarket': None,\n",
              " 'maxSupply': None,\n",
              " 'openInterest': None,\n",
              " 'marketCap': 2798729822208,\n",
              " 'volumeAllCurrencies': None,\n",
              " 'strikePrice': None,\n",
              " 'averageVolume': 77846158,\n",
              " 'dayLow': 173.12,\n",
              " 'ask': 0,\n",
              " 'askSize': 1300,\n",
              " 'volume': 62290075,\n",
              " 'fiftyTwoWeekHigh': 182.94,\n",
              " 'fromCurrency': None,\n",
              " 'fiveYearAvgDividendYield': 1.05,\n",
              " 'fiftyTwoWeekLow': 129.04,\n",
              " 'bid': 0,\n",
              " 'tradeable': False,\n",
              " 'dividendYield': 0.0053,\n",
              " 'bidSize': 1800,\n",
              " 'dayHigh': 174.9,\n",
              " 'coinMarketCapLink': None,\n",
              " 'regularMarketPrice': 174.15,\n",
              " 'preMarketPrice': 172.35,\n",
              " 'logo_url': 'https://logo.clearbit.com/apple.com',\n",
              " 'trailingPegRatio': 3.0943}"
            ]
          },
          "metadata": {},
          "execution_count": 54
        }
      ]
    },
    {
      "cell_type": "code",
      "source": [
        "from pandas.core.frame import DataFrame\n",
        "#get historical market data \n",
        "hist_data = aapl.history(period='6mo')\n",
        "type(hist)\n",
        "print(hist_data)\n"
      ],
      "metadata": {
        "colab": {
          "base_uri": "https://localhost:8080/"
        },
        "id": "eOBr65OQrhk5",
        "outputId": "9e581413-3457-4ff7-d36e-f02f51037f48"
      },
      "execution_count": 67,
      "outputs": [
        {
          "output_type": "stream",
          "name": "stdout",
          "text": [
            "                  Open        High         Low       Close     Volume  \\\n",
            "Date                                                                    \n",
            "2022-02-22  164.509440  166.214569  161.687510  163.851334   91162800   \n",
            "2022-02-23  165.067849  165.676110  159.294370  159.613464   90009200   \n",
            "2022-02-24  152.144822  162.385535  151.566475  162.275848  141147500   \n",
            "2022-02-25  163.372693  164.649041  160.411163  164.379822   91974200   \n",
            "2022-02-28  162.594926  164.948195  161.966718  164.649048   95056600   \n",
            "...                ...         ...         ...         ...        ...   \n",
            "2022-08-12  169.820007  172.169998  169.399994  172.100006   67946400   \n",
            "2022-08-15  171.520004  173.389999  171.350006  173.190002   54091700   \n",
            "2022-08-16  172.779999  173.710007  171.660004  173.029999   56377100   \n",
            "2022-08-17  172.770004  176.149994  172.570007  174.550003   79542000   \n",
            "2022-08-18  173.750000  174.899994  173.119995  174.149994   62214200   \n",
            "\n",
            "            Dividends  Stock Splits  \n",
            "Date                                 \n",
            "2022-02-22        0.0             0  \n",
            "2022-02-23        0.0             0  \n",
            "2022-02-24        0.0             0  \n",
            "2022-02-25        0.0             0  \n",
            "2022-02-28        0.0             0  \n",
            "...               ...           ...  \n",
            "2022-08-12        0.0             0  \n",
            "2022-08-15        0.0             0  \n",
            "2022-08-16        0.0             0  \n",
            "2022-08-17        0.0             0  \n",
            "2022-08-18        0.0             0  \n",
            "\n",
            "[124 rows x 7 columns]\n"
          ]
        }
      ]
    },
    {
      "cell_type": "code",
      "source": [
        "tickers = yf.Tickers('aapl')\n",
        "print(tickers)\n",
        "\n"
      ],
      "metadata": {
        "colab": {
          "base_uri": "https://localhost:8080/"
        },
        "id": "Xz9f0N4xuMQi",
        "outputId": "56beac75-b534-43a1-ee8e-d802ff6843d1"
      },
      "execution_count": 63,
      "outputs": [
        {
          "output_type": "stream",
          "name": "stdout",
          "text": [
            "yfinance.Tickers object <AAPL>\n"
          ]
        }
      ]
    },
    {
      "cell_type": "code",
      "source": [
        "#show dividends\n",
        "aapl.dividends "
      ],
      "metadata": {
        "id": "QVs0OWzfsbKp"
      },
      "execution_count": null,
      "outputs": []
    },
    {
      "cell_type": "code",
      "source": [
        "#show earnings\n",
        "aapl.earnings\n",
        "aapl.quarterly_earnings"
      ],
      "metadata": {
        "id": "TRoLEB-xsrQV"
      },
      "execution_count": null,
      "outputs": []
    }
  ]
}