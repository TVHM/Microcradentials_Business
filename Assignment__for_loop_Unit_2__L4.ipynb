{
  "nbformat": 4,
  "nbformat_minor": 0,
  "metadata": {
    "colab": {
      "name": "Assignment _for_loop_Unit  2 _L4",
      "provenance": [],
      "authorship_tag": "ABX9TyOu6vC4SH6pF8+kCrBQawGq",
      "include_colab_link": true
    },
    "kernelspec": {
      "name": "python3",
      "display_name": "Python 3"
    },
    "language_info": {
      "name": "python"
    }
  },
  "cells": [
    {
      "cell_type": "markdown",
      "metadata": {
        "id": "view-in-github",
        "colab_type": "text"
      },
      "source": [
        "<a href=\"https://colab.research.google.com/github/TVHM/summer_microcredentials_BUS/blob/main/Assignment__for_loop_Unit_2__L4.ipynb\" target=\"_parent\"><img src=\"https://colab.research.google.com/assets/colab-badge.svg\" alt=\"Open In Colab\"/></a>"
      ]
    },
    {
      "cell_type": "markdown",
      "source": [
        "#Assignment_for_loop\n",
        "\n",
        "Create a list that holds 5 data variables.  Print out those variables by using a for loop.  Modify your for loop to add a message to your for loop. Use a for loop to print even numbers from 1-20. Sort list in alphabetical order.\n",
        "\n",
        "Print out the first three elements of your list, then create a loop to print the last 2 elements.\n",
        "\n",
        "Slide and Lecture In Class  https://colab.research.google.com/drive/142rhfvjmUwoBCmaUfw5Zr-LcJRuuI6Ta#scrollTo=vz3yjkEffDzO"
      ],
      "metadata": {
        "id": "GPxO8na3Jq4f"
      }
    },
    {
      "cell_type": "code",
      "source": [
        ""
      ],
      "metadata": {
        "id": "EkoKkP-5S7W8"
      },
      "execution_count": null,
      "outputs": []
    },
    {
      "cell_type": "code",
      "source": [
        "even_numbers = list(range(0,21, 2))\n",
        "print(even_numbers)\n"
      ],
      "metadata": {
        "id": "3rxUKU4ANv23",
        "colab": {
          "base_uri": "https://localhost:8080/"
        },
        "outputId": "d32ce3aa-ac22-473b-9d7d-14412e2ea203"
      },
      "execution_count": 23,
      "outputs": [
        {
          "output_type": "stream",
          "name": "stdout",
          "text": [
            "[0, 2, 4, 6, 8, 10, 12, 14, 16, 18, 20]\n"
          ]
        }
      ]
    },
    {
      "cell_type": "code",
      "source": [
        "odd_numbers = list(range(1,22, 2))\n",
        "print(odd_numbers)"
      ],
      "metadata": {
        "colab": {
          "base_uri": "https://localhost:8080/"
        },
        "id": "smDCrURXWOaN",
        "outputId": "290dc2f3-ec8e-43fa-c230-4411ff240bd4"
      },
      "execution_count": 26,
      "outputs": [
        {
          "output_type": "stream",
          "name": "stdout",
          "text": [
            "[1, 3, 5, 7, 9, 11, 13, 15, 17, 19, 21]\n"
          ]
        }
      ]
    },
    {
      "cell_type": "code",
      "execution_count": 10,
      "metadata": {
        "colab": {
          "base_uri": "https://localhost:8080/"
        },
        "id": "xtE1VYyjJpWl",
        "outputId": "6fb0c6ff-e9a2-4876-c446-7819d3bdd69a"
      },
      "outputs": [
        {
          "output_type": "stream",
          "name": "stdout",
          "text": [
            "Demographic data \n",
            "age\n",
            "income\n",
            "education\n",
            "gender\n",
            "job_type\n"
          ]
        }
      ],
      "source": [
        "buyer_persona = ['age','income','education','gender','job_type']\n",
        "message = \"Demographic data \"\n",
        "print(message)\n",
        "for show in buyer_persona:\n",
        "  print(show)\n",
        "\n",
        "\n",
        "\n",
        " "
      ]
    },
    {
      "cell_type": "code",
      "source": [
        "#slicing\n",
        "print(buyer_persona[0:3])"
      ],
      "metadata": {
        "colab": {
          "base_uri": "https://localhost:8080/"
        },
        "id": "wPFvggsbWpHi",
        "outputId": "25d0461f-b6c0-4a98-f539-d47344322510"
      },
      "execution_count": 27,
      "outputs": [
        {
          "output_type": "stream",
          "name": "stdout",
          "text": [
            "['age', 'income', 'education']\n"
          ]
        }
      ]
    },
    {
      "cell_type": "code",
      "source": [
        "print(buyer_persona[3:])"
      ],
      "metadata": {
        "colab": {
          "base_uri": "https://localhost:8080/"
        },
        "id": "GfA-bhIdYUIE",
        "outputId": "c6433807-e886-4f56-db0c-5ff951b45e08"
      },
      "execution_count": 55,
      "outputs": [
        {
          "output_type": "stream",
          "name": "stdout",
          "text": [
            "['gender', 'job_type']\n"
          ]
        }
      ]
    },
    {
      "cell_type": "code",
      "source": [
        ""
      ],
      "metadata": {
        "id": "8CHNnu2WYgh8"
      },
      "execution_count": null,
      "outputs": []
    }
  ]
}