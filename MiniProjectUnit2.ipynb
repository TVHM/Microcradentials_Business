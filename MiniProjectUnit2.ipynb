{
  "nbformat": 4,
  "nbformat_minor": 0,
  "metadata": {
    "colab": {
      "name": "MiniProjectUnit2.ipynb",
      "provenance": [],
      "collapsed_sections": [],
      "include_colab_link": true
    },
    "kernelspec": {
      "name": "python3",
      "display_name": "Python 3"
    },
    "language_info": {
      "name": "python"
    }
  },
  "cells": [
    {
      "cell_type": "markdown",
      "metadata": {
        "id": "view-in-github",
        "colab_type": "text"
      },
      "source": [
        "<a href=\"https://colab.research.google.com/github/TVHM/summer_microcredentials_BUS/blob/main/MiniProjectUnit2.ipynb\" target=\"_parent\"><img src=\"https://colab.research.google.com/assets/colab-badge.svg\" alt=\"Open In Colab\"/></a>"
      ]
    },
    {
      "cell_type": "code",
      "source": [
        "# Original Project\n",
        "\n",
        "active = True\n",
        "while active:\n",
        "  try:\n",
        "     userInput = int(input('Please Enter A Integer: '))       \n",
        "  except ValueError:\n",
        "     print(\"Not an integer!\")\n",
        "     continue\n",
        "  else:\n",
        "     if userInput % 2 == 0:\n",
        "       print('Even')\n",
        "       active = False\n",
        "     else:\n",
        "       print('Odd')\n",
        "       active = False"
      ],
      "metadata": {
        "colab": {
          "base_uri": "https://localhost:8080/"
        },
        "id": "mOtQ3g3el8rf",
        "outputId": "ec5d0004-da8e-4edc-bc02-f7e253b6fff4"
      },
      "execution_count": null,
      "outputs": [
        {
          "output_type": "stream",
          "name": "stdout",
          "text": [
            "Please Enter A Integer: 6\n",
            "Even\n"
          ]
        }
      ]
    },
    {
      "cell_type": "code",
      "source": [
        "# Bonus 1\n",
        "\n",
        "active = True\n",
        "while active:\n",
        "  try:\n",
        "     userInput = int(input('Please Enter A Integer: '))       \n",
        "  except ValueError:\n",
        "     print(\"Not an integer!\")\n",
        "     continue\n",
        "  else:\n",
        "     if userInput % 4 == 0:\n",
        "       print('This number is not just even but also a multiple of 4')\n",
        "       active = False\n",
        "     elif userInput % 2 == 0:\n",
        "       print('Even')\n",
        "       active = False\n",
        "     else:\n",
        "       print('Odd')\n",
        "       active = False"
      ],
      "metadata": {
        "colab": {
          "base_uri": "https://localhost:8080/"
        },
        "id": "HFLw657Wm3-7",
        "outputId": "2648bba2-fd2c-4f57-b63f-8138bd04bbcb"
      },
      "execution_count": null,
      "outputs": [
        {
          "output_type": "stream",
          "name": "stdout",
          "text": [
            "Please Enter A Integer: 5\n",
            "Odd\n"
          ]
        }
      ]
    },
    {
      "cell_type": "code",
      "source": [
        "# Bonus 2(Using While and Input)\n",
        "\n",
        "active = True\n",
        "while active:\n",
        "  try:\n",
        "     num, check = map(int, input('Please Enter Two Integers: ').split())\n",
        "  except ValueError:\n",
        "     print(\"Please Enter Two Integers!\")\n",
        "     continue\n",
        "  else:\n",
        "     if num % check == 0:\n",
        "       print('Nice, ' + str(check) + ' is a factor of ' + str(num))\n",
        "       active = False\n",
        "     else:\n",
        "       print('Oops! It looks like ' + str(check) + ' is not a factor of ' + str(num))\n",
        "       active = False"
      ],
      "metadata": {
        "colab": {
          "base_uri": "https://localhost:8080/"
        },
        "id": "6Lc45M_xoEcw",
        "outputId": "4ba83167-c41e-40fd-f0c5-c4833b71faf6"
      },
      "execution_count": null,
      "outputs": [
        {
          "output_type": "stream",
          "name": "stdout",
          "text": [
            "Please Enter Two Integers: 4\n",
            "Please Enter Two Integers!\n",
            "Please Enter Two Integers: 3, 4\n",
            "Please Enter Two Integers!\n",
            "Please Enter Two Integers: 3 4\n",
            "Oops! It looks like 4 is not a factor of 3\n"
          ]
        }
      ]
    },
    {
      "cell_type": "code",
      "source": [
        "# Bonus 2(Using Function)\n",
        "def divid(num, check):\n",
        "    if num % check == 0:\n",
        "      print('Nice, ' + str(check) + ' is a factor of ' + str(num))\n",
        "    else:\n",
        "      print('Oops! It looks like ' + str(check) + ' is not a factor of ' + str(num))\n",
        "\n",
        "divid(3, 5)\n",
        "divid(8, 4)"
      ],
      "metadata": {
        "colab": {
          "base_uri": "https://localhost:8080/"
        },
        "id": "JO8Cmg94rUwQ",
        "outputId": "f42a2836-a7f0-49bf-f1dc-1df778d7f9c1"
      },
      "execution_count": null,
      "outputs": [
        {
          "output_type": "stream",
          "name": "stdout",
          "text": [
            "Oops! It looks like 5 is not a factor of 3\n",
            "Nice, 4 is a factor of 8\n"
          ]
        }
      ]
    },
    {
      "cell_type": "code",
      "source": [
        "# Bonus 3\n",
        "\n",
        "def main():\n",
        "  i = 4\n",
        "  if i % 2 == 0:\n",
        "    print('Even')\n",
        "  else:\n",
        "    print('Odd')\n",
        "\n",
        "if __name__ == '__main__':\n",
        "  main()"
      ],
      "metadata": {
        "colab": {
          "base_uri": "https://localhost:8080/"
        },
        "id": "GZtj-C6Gtv0a",
        "outputId": "e2e7e05f-e127-4674-9de9-6999139a2836"
      },
      "execution_count": null,
      "outputs": [
        {
          "output_type": "stream",
          "name": "stdout",
          "text": [
            "Even\n"
          ]
        }
      ]
    }
  ]
}