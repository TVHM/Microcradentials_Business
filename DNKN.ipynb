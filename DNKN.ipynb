{
  "nbformat": 4,
  "nbformat_minor": 0,
  "metadata": {
    "colab": {
      "provenance": [],
      "authorship_tag": "ABX9TyO+kgy8yYBHN7k0Ag+KScQq",
      "include_colab_link": true
    },
    "kernelspec": {
      "name": "python3",
      "display_name": "Python 3"
    },
    "language_info": {
      "name": "python"
    }
  },
  "cells": [
    {
      "cell_type": "markdown",
      "metadata": {
        "id": "view-in-github",
        "colab_type": "text"
      },
      "source": [
        "<a href=\"https://colab.research.google.com/github/TVHM/summer_microcredentials_BUS/blob/main/DNKN.ipynb\" target=\"_parent\"><img src=\"https://colab.research.google.com/assets/colab-badge.svg\" alt=\"Open In Colab\"/></a>"
      ]
    },
    {
      "cell_type": "code",
      "source": [
        "import yfinace as yf\n",
        "import pandas as pd"
      ],
      "metadata": {
        "id": "XflvRJ-HeSRP"
      },
      "execution_count": null,
      "outputs": []
    },
    {
      "cell_type": "code",
      "source": [
        "!pip install yfinance "
      ],
      "metadata": {
        "id": "ZvHHw0yyeYX2"
      },
      "execution_count": null,
      "outputs": []
    },
    {
      "cell_type": "code",
      "source": [
        "ticker = 'DNKN'"
      ],
      "metadata": {
        "id": "nktBOoHnepZ_"
      },
      "execution_count": null,
      "outputs": []
    },
    {
      "cell_type": "code",
      "source": [
        "kdp = yf.Ticker(ticker)"
      ],
      "metadata": {
        "id": "mo93gUT0ezkf"
      },
      "execution_count": null,
      "outputs": []
    },
    {
      "cell_type": "code",
      "source": [
        "kdp = yf.Ticker(ticker)"
      ],
      "metadata": {
        "id": "D1j0mZIle1Tm"
      },
      "execution_count": null,
      "outputs": []
    },
    {
      "cell_type": "code",
      "source": [
        "a = kdp.get_earnings()\n",
        "print(a)\n",
        "b = kdp.get_shares\n",
        "print(b)"
      ],
      "metadata": {
        "id": "HYuWr6kKe_AS"
      },
      "execution_count": null,
      "outputs": []
    },
    {
      "cell_type": "code",
      "source": [
        "kdp.get_balancesheet()"
      ],
      "metadata": {
        "id": "zISaxq7WfPyO"
      },
      "execution_count": null,
      "outputs": []
    },
    {
      "cell_type": "code",
      "source": [
        "kdp.get_financials()"
      ],
      "metadata": {
        "id": "l1AkxUjHfQyn"
      },
      "execution_count": null,
      "outputs": []
    },
    {
      "cell_type": "code",
      "source": [
        "kdp.get_cashflow()"
      ],
      "metadata": {
        "id": "kbVR9hwGfUGv"
      },
      "execution_count": null,
      "outputs": []
    },
    {
      "cell_type": "code",
      "source": [
        "kdp.get_analysis()"
      ],
      "metadata": {
        "id": "iKGHue8be4um"
      },
      "execution_count": null,
      "outputs": []
    },
    {
      "cell_type": "code",
      "source": [
        "#define a data frame and name the object\n",
        "kdp = kdp.history(period='max')"
      ],
      "metadata": {
        "id": "Q6yX6aw-fg7N"
      },
      "execution_count": null,
      "outputs": []
    },
    {
      "cell_type": "code",
      "source": [
        "kdp.tail()"
      ],
      "metadata": {
        "id": "2KllfihbfhqO"
      },
      "execution_count": null,
      "outputs": []
    },
    {
      "cell_type": "code",
      "source": [
        "kdp.head()"
      ],
      "metadata": {
        "id": "c9a45MjCfkIn"
      },
      "execution_count": null,
      "outputs": []
    },
    {
      "cell_type": "code",
      "source": [
        "kdp.get_institutional_holders()"
      ],
      "metadata": {
        "id": "eiF_IhhxfW-J"
      },
      "execution_count": null,
      "outputs": []
    },
    {
      "cell_type": "code",
      "source": [
        "kdp.get_major_holders()"
      ],
      "metadata": {
        "id": "8kL961XvfbB_"
      },
      "execution_count": null,
      "outputs": []
    },
    {
      "cell_type": "code",
      "source": [
        "import plotly.express as px"
      ],
      "metadata": {
        "id": "XO_4FHi3fm1m"
      },
      "execution_count": null,
      "outputs": []
    },
    {
      "cell_type": "code",
      "source": [],
      "metadata": {
        "id": "fyuwX3E4fqW-"
      },
      "execution_count": null,
      "outputs": []
    },
    {
      "cell_type": "code",
      "execution_count": null,
      "metadata": {
        "id": "86bMZ8GjbJmC"
      },
      "outputs": [],
      "source": [
        "fig = px.line(kdp,x= kdp.index, y= 'Close', title = 'Interactive Graph for '+ticker)\n",
        "fig.show()"
      ]
    }
  ]
}