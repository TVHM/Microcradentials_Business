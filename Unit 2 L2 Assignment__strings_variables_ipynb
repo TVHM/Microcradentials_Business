{
  "nbformat": 4,
  "nbformat_minor": 0,
  "metadata": {
    "colab": {
      "name": "Assignment_ strings_variables_unit2. L2.ipynb",
      "provenance": [],
      "include_colab_link": true
    },
    "kernelspec": {
      "name": "python3",
      "display_name": "Python 3"
    },
    "language_info": {
      "name": "python"
    }
  },
  "cells": [
    {
      "cell_type": "markdown",
      "metadata": {
        "id": "view-in-github",
        "colab_type": "text"
      },
      "source": [
        "<a href=\"https://colab.research.google.com/github/TVHM/summer_microcredentials_BUS/blob/main/Assignment__strings_variables_unit2_L2.ipynb\" target=\"_parent\"><img src=\"https://colab.research.google.com/assets/colab-badge.svg\" alt=\"Open In Colab\"/></a>"
      ]
    },
    {
      "cell_type": "code",
      "execution_count": null,
      "metadata": {
        "id": "4BUowjLdXVzd"
      },
      "outputs": [],
      "source": [
        ""
      ]
    },
    {
      "cell_type": "markdown",
      "source": [
        ""
      ],
      "metadata": {
        "id": "vZx4E3ZDn3v8"
      }
    },
    {
      "cell_type": "markdown",
      "source": [
        "1. What is Python and why is it useful?\n",
        "\n",
        "Python is an open source computer programming language that is eay to read and understand.  It was created by Guido Rossum in the period 1989 - 1991. \n",
        "\n",
        "Python can be run and saved making it useful for many applications. Python libraries help data practitioners perform data analysis and other complex teasks such as a creating new data science project, prototyping design ideas, and demonstrating data concepts clearly. \n",
        "\n",
        "\n",
        "\n",
        "\n",
        "\n",
        "\n",
        "\n",
        "\n",
        "\n",
        "\n"
      ],
      "metadata": {
        "id": "YXPQMptHXcp5"
      }
    },
    {
      "cell_type": "markdown",
      "source": [
        ""
      ],
      "metadata": {
        "id": "hj-h2uk7IW7d"
      }
    },
    {
      "cell_type": "markdown",
      "source": [
        "2. Are the following variable names allowed in Python?\n",
        "answer: yes"
      ],
      "metadata": {
        "id": "D66HxyjvXh9W"
      }
    },
    {
      "cell_type": "markdown",
      "source": [
        "3. Create a variable that holds the string \"hello there!\""
      ],
      "metadata": {
        "id": "IgkA6wVVaupN"
      }
    },
    {
      "cell_type": "code",
      "source": [
        "string1 = \"hello there!\""
      ],
      "metadata": {
        "id": "Ne3JkOtjXvqQ"
      },
      "execution_count": null,
      "outputs": []
    },
    {
      "cell_type": "code",
      "source": [
        "print(string1)\n"
      ],
      "metadata": {
        "colab": {
          "base_uri": "https://localhost:8080/"
        },
        "id": "lUlmtPY-X1n2",
        "outputId": "33314be8-d9d0-45ac-af42-aacbbb5de942"
      },
      "execution_count": null,
      "outputs": [
        {
          "output_type": "stream",
          "name": "stdout",
          "text": [
            "hello there!\n"
          ]
        }
      ]
    },
    {
      "cell_type": "markdown",
      "source": [
        "4. "
      ],
      "metadata": {
        "id": "c490Oi0VSNJB"
      }
    },
    {
      "cell_type": "code",
      "source": [
        "string2= \"@gmail.com\"\n",
        "x = \"first_name\"\n",
        "y = \"last_name\"\n",
        "print(x + y + str(string2))\n"
      ],
      "metadata": {
        "colab": {
          "base_uri": "https://localhost:8080/"
        },
        "id": "H92yUXdaYB4u",
        "outputId": "4c906026-001f-4bc5-cb49-e2b6e18e6ba1"
      },
      "execution_count": null,
      "outputs": [
        {
          "output_type": "stream",
          "name": "stdout",
          "text": [
            "first_namelast_name@gmail.com\n"
          ]
        }
      ]
    },
    {
      "cell_type": "markdown",
      "source": [
        "5.Store a name in a variable called name. Print their name in lower case and uppercase using a method.\n"
      ],
      "metadata": {
        "id": "yIz_dV2qSP_n"
      }
    },
    {
      "cell_type": "code",
      "source": [
        "name = \"Dave Gahan\"\n",
        "print(name)\n",
        "print(name.upper())\n",
        "print(name.lower())"
      ],
      "metadata": {
        "colab": {
          "base_uri": "https://localhost:8080/"
        },
        "id": "OphI-FlEYiOA",
        "outputId": "d25b2379-83d5-48d8-f97f-0270e0b04a3e"
      },
      "execution_count": null,
      "outputs": [
        {
          "output_type": "stream",
          "name": "stdout",
          "text": [
            "Dave Gahan\n",
            "DAVE GAHAN\n",
            "dave gahan\n"
          ]
        }
      ]
    },
    {
      "cell_type": "markdown",
      "source": [
        "6.Using a variable, ask your friend if they want to hang out on the 15th of the month? (convert the number to a string)"
      ],
      "metadata": {
        "id": "QvT4pxABSUnn"
      }
    },
    {
      "cell_type": "code",
      "source": [
        "variable = \"Dave\"\n",
        "date = 15\n",
        "print(variable)\n",
        "message = variable + \" Do you want to go out on the \" + str(date) + \"th\" \n",
        "print(message)"
      ],
      "metadata": {
        "colab": {
          "base_uri": "https://localhost:8080/"
        },
        "id": "j0FghoZZYDaJ",
        "outputId": "7e1fbe42-ff09-4e2e-bdb4-8657e8efbace"
      },
      "execution_count": null,
      "outputs": [
        {
          "output_type": "stream",
          "name": "stdout",
          "text": [
            "Dave\n",
            "Dave Do you want to go out on the 15th\n"
          ]
        }
      ]
    },
    {
      "cell_type": "code",
      "source": [
        ""
      ],
      "metadata": {
        "id": "RL6dKEPwYSRX"
      },
      "execution_count": null,
      "outputs": []
    }
  ]
}
